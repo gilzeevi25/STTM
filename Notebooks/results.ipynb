{
  "nbformat": 4,
  "nbformat_minor": 0,
  "metadata": {
    "colab": {
      "name": "results.ipynb",
      "provenance": [],
      "collapsed_sections": [],
      "machine_shape": "hm",
      "authorship_tag": "ABX9TyN0mNmfbjacHsFyhLfb8LuF"
    },
    "kernelspec": {
      "name": "python3",
      "display_name": "Python 3"
    },
    "language_info": {
      "name": "python"
    },
    "accelerator": "GPU",
    "gpuClass": "standard"
  },
  "cells": [
    {
      "cell_type": "code",
      "source": [
        "!pip install scikit-learn==1.0.2\n",
        "import os\n",
        "os.kill(os.getpid(), 9)"
      ],
      "metadata": {
        "colab": {
          "base_uri": "https://localhost:8080/"
        },
        "id": "quA3_mZEr_C9",
        "outputId": "00b8f783-4f00-473e-cb66-5511f634db0d"
      },
      "execution_count": null,
      "outputs": [
        {
          "output_type": "stream",
          "name": "stdout",
          "text": [
            "Looking in indexes: https://pypi.org/simple, https://us-python.pkg.dev/colab-wheels/public/simple/\n",
            "Requirement already satisfied: scikit-learn==1.0.2 in /usr/local/lib/python3.7/dist-packages (1.0.2)\n",
            "Requirement already satisfied: scipy>=1.1.0 in /usr/local/lib/python3.7/dist-packages (from scikit-learn==1.0.2) (1.4.1)\n",
            "Requirement already satisfied: joblib>=0.11 in /usr/local/lib/python3.7/dist-packages (from scikit-learn==1.0.2) (1.1.0)\n",
            "Requirement already satisfied: numpy>=1.14.6 in /usr/local/lib/python3.7/dist-packages (from scikit-learn==1.0.2) (1.21.6)\n",
            "Requirement already satisfied: threadpoolctl>=2.0.0 in /usr/local/lib/python3.7/dist-packages (from scikit-learn==1.0.2) (3.1.0)\n"
          ]
        }
      ]
    },
    {
      "cell_type": "code",
      "execution_count": null,
      "metadata": {
        "colab": {
          "base_uri": "https://localhost:8080/"
        },
        "id": "IWzE2-yfDfjX",
        "outputId": "7786c980-4589-4c3e-deb4-11dd88513fd8"
      },
      "outputs": [
        {
          "output_type": "stream",
          "name": "stdout",
          "text": [
            "Mounted at /content/gdrive\n"
          ]
        }
      ],
      "source": [
        "from google.colab import drive\n",
        "drive.mount('/content/gdrive')"
      ]
    },
    {
      "cell_type": "code",
      "execution_count": null,
      "metadata": {
        "colab": {
          "base_uri": "https://localhost:8080/"
        },
        "id": "cKiDt1yRDkF4",
        "outputId": "a662d4af-edd0-429b-a19e-d283f7c3a69c"
      },
      "outputs": [
        {
          "output_type": "stream",
          "name": "stdout",
          "text": [
            "/content/gdrive/MyDrive/STTM\n"
          ]
        }
      ],
      "source": [
        "cd /content/gdrive/MyDrive/STTM"
      ]
    },
    {
      "cell_type": "code",
      "source": [
        "import sklearn\n",
        "print(sklearn.__version__) #need to be 1.0.2"
      ],
      "metadata": {
        "colab": {
          "base_uri": "https://localhost:8080/"
        },
        "id": "KG4S66AwvzSf",
        "outputId": "6e52b940-dd66-4282-a7a5-23e20838cab3"
      },
      "execution_count": null,
      "outputs": [
        {
          "output_type": "stream",
          "name": "stdout",
          "text": [
            "1.0.2\n"
          ]
        }
      ]
    },
    {
      "cell_type": "code",
      "execution_count": null,
      "metadata": {
        "id": "ecadfa8c"
      },
      "outputs": [],
      "source": [
        "import numpy as np\n",
        "import pandas as pd\n",
        "import xml.etree.ElementTree as ET\n",
        "import datetime\n",
        "import re\n",
        "import time\n",
        "import warnings\n",
        "import csv\n",
        "import sklearn\n",
        "from sklearn.feature_extraction.text import TfidfVectorizer\n",
        "import scipy\n",
        "from tqdm.notebook import tqdm\n",
        "from sklearn import svm\n",
        "import matplotlib.pyplot as plt\n",
        "from sklearn import metrics\n",
        "from sklearn.svm import LinearSVC\n",
        "from sklearn.metrics import classification_report\n",
        "from sklearn.ensemble import VotingClassifier\n",
        "from sklearn.metrics import roc_curve,roc_auc_score\n",
        "import lightgbm as lgb\n",
        "import xgboost as xgb\n",
        "import pickle\n",
        "from keras.models import Sequential\n",
        "from keras.layers import Dense, Dropout\n",
        "# from keras.wrappers.scikit_learn import KerasClassifier\n",
        "from keras.utils import np_utils\n",
        "import random as python_random\n",
        "import tensorflow as tf\n",
        "from keras import backend as K \n",
        "from tensorflow import keras\n"
      ]
    },
    {
      "cell_type": "code",
      "source": [
        "%%capture\n",
        "!pip install --quiet finetune\n",
        "import finetune as ft"
      ],
      "metadata": {
        "id": "SvFclSt_kKBO"
      },
      "execution_count": null,
      "outputs": []
    },
    {
      "cell_type": "markdown",
      "source": [
        "### Loading the data"
      ],
      "metadata": {
        "id": "QUGvwFXdR0rb"
      }
    },
    {
      "cell_type": "code",
      "source": [
        "def get_labels_dict(data_path):\n",
        "    labels_dict = {}\n",
        "    with open(data_path + 'sci_labels.csv', 'r') as f:\n",
        "        file = csv.reader(f)\n",
        "        for row in file:\n",
        "            labels_dict[row[0]] = row[1]\n",
        "    return labels_dict\n",
        "\n",
        "\n",
        "def get_features_labels(root, labels_dict):\n",
        "    corpus = [] # each row is a string formed from all messages in a conversations\n",
        "    labels = [] # each row is 0 or 1, corresponds to label for same row in corpus\n",
        "\n",
        "    for conversation in root:\n",
        "        string = \" \"\n",
        "        for message in conversation:\n",
        "            text = message.find('text').text\n",
        "            if text is not None:\n",
        "                #preprocess:\n",
        "                # text = preprocess_text(text)\n",
        "                string = string + \"\\r\\n\" + text \n",
        "        corpus.append(string)\n",
        "        labels.append(int(labels_dict[conversation.get('id')]))\n",
        "    return corpus, labels"
      ],
      "metadata": {
        "id": "XVXznllfRvYr"
      },
      "execution_count": null,
      "outputs": []
    },
    {
      "cell_type": "code",
      "source": [
        "train_data_path = \"data/pan12-sexual-predator-identification-training-corpus-2012-05-01/\"\n",
        "\n",
        "training_xml = ET.parse(train_data_path + 'training_data.xml')\n",
        "train_root = training_xml.getroot()\n",
        "\n",
        "test_data_path = 'data/pan12-sexual-predator-identification-test-corpus-2012-05-21/'\n",
        "test_xml = ET.parse(test_data_path + 'pan12-sexual-predator-identification-test-corpus-2012-05-17.xml')\n",
        "test_root = test_xml.getroot()\n",
        "\n",
        "train_corpus, train_labels = get_features_labels(train_root, get_labels_dict(train_data_path))\n",
        "test_corpus, test_labels = get_features_labels(test_root, get_labels_dict(test_data_path))"
      ],
      "metadata": {
        "id": "8jsUAsdBR444"
      },
      "execution_count": null,
      "outputs": []
    },
    {
      "cell_type": "code",
      "source": [
        "from os import listdir\n",
        "from os.path import isfile, join\n",
        "import warnings\n",
        "mypath = 'GeneralData'\n",
        "onlyfiles = [f for f in listdir(mypath) if isfile(join(mypath, f))]\n",
        "onlyfiles.remove('chatlog.dtd')\n",
        "corpus_pj = [] # each row is a string formed from all messages in a conversations\n",
        "labels_pj = [] # each row is 0 or 1, corresponds to label for same row in corpus\n",
        "for file in onlyfiles:\n",
        "    df= pd.read_xml(f'GeneralData/{file}').drop(columns=['COMMENT'])\n",
        "    df=df[~df['BODY'].isna()]\n",
        "    df=df[~df['USERNAME'].isna()]\n",
        "    string = \" \"\n",
        "    for text in df.BODY.tolist():\n",
        "        if text is not None:\n",
        "            #preprocess:\n",
        "            #preprocess:\n",
        "            # text = preprocess_text(text)\n",
        "            string = string + \"\\r\\n\" + text \n",
        "    corpus_pj.append(string)\n",
        "    labels_pj.append(1)"
      ],
      "metadata": {
        "id": "5ZlygCOeR6bC"
      },
      "execution_count": null,
      "outputs": []
    },
    {
      "cell_type": "code",
      "source": [
        "vectorizer = TfidfVectorizer()\n",
        "X_train = vectorizer.fit_transform(train_corpus)\n",
        "X_test = vectorizer.transform(test_corpus)\n",
        "\n",
        "X_train = scipy.sparse.csr_matrix(X_train)\n",
        "y_train = np.array(train_labels)\n",
        "X_test = scipy.sparse.csr_matrix(X_test)\n",
        "y_test = np.array(test_labels)\n",
        "#transform it with TF-IDF based on the trained corpus\n",
        "X_test_pj = vectorizer.transform(corpus_pj)\n",
        "X_test_pj = scipy.sparse.csr_matrix(X_test_pj)#[:,best_feat]\n",
        "y_test_pj = np.array(labels_pj)"
      ],
      "metadata": {
        "id": "UTsaxRLOSEqc"
      },
      "execution_count": null,
      "outputs": []
    },
    {
      "cell_type": "markdown",
      "source": [
        "# Load all trained models"
      ],
      "metadata": {
        "id": "g5d0F1uwTsNp"
      }
    },
    {
      "cell_type": "code",
      "source": [
        "modelgbm = pickle.load(open('lgbm.sav', 'rb'))# pickle.dump(modelgbm, open('lgbm.sav', 'wb')) # to load: loaded_model = pickle.load(open(filename, 'rb'))\n",
        "model_b = pickle.load(open('xgb.sav', 'rb'))# pickle.dump(model_b, open('xgb.sav', 'wb'))\n",
        "model_svc = pickle.load(open('svc.sav', 'rb'))# pickle.dump(model_svc, open('svc.sav', 'wb'))\n",
        "eclf = pickle.load(open('voting.sav', 'rb'))# pickle.dump(eclf, open('voting.sav', 'wb'))\n",
        "clf = pickle.load(open('stacking.sav', 'rb'))# pickle.dump(clf, open('stacking.sav', 'wb'))\n",
        "modeldnn =  keras.models.load_model('dnn')\n",
        "bertmodel = ft.Classifier.load('roberta')\n",
        "txtcnn = ft.Classifier.load('txtcnn')"
      ],
      "metadata": {
        "id": "N07bfwj4T__-",
        "colab": {
          "base_uri": "https://localhost:8080/"
        },
        "outputId": "78ce0401-df7f-4f65-ee46-d41689a1dc20"
      },
      "execution_count": null,
      "outputs": [
        {
          "output_type": "stream",
          "name": "stdout",
          "text": [
            "Downloading: roberta-model-sm-v2.jl\n"
          ]
        },
        {
          "output_type": "stream",
          "name": "stderr",
          "text": [
            "100%|██████████| 328M/328M [00:24<00:00, 13.6MiB/s]\n"
          ]
        },
        {
          "output_type": "stream",
          "name": "stdout",
          "text": [
            "Downloading: dict.txt\n"
          ]
        },
        {
          "output_type": "stream",
          "name": "stderr",
          "text": [
            "100%|██████████| 603k/603k [00:00<00:00, 682kiB/s]\n"
          ]
        },
        {
          "output_type": "stream",
          "name": "stdout",
          "text": [
            "Downloading: roberta_vocab.bpe\n"
          ]
        },
        {
          "output_type": "stream",
          "name": "stderr",
          "text": [
            "100%|██████████| 456k/456k [00:00<00:00, 635kiB/s]\n"
          ]
        },
        {
          "output_type": "stream",
          "name": "stdout",
          "text": [
            "Downloading: roberta_encoder.json\n"
          ]
        },
        {
          "output_type": "stream",
          "name": "stderr",
          "text": [
            "100%|██████████| 899k/899k [00:00<00:00, 996kiB/s]\n"
          ]
        },
        {
          "output_type": "stream",
          "name": "stdout",
          "text": [
            "Downloading: encoder.json\n"
          ]
        },
        {
          "output_type": "stream",
          "name": "stderr",
          "text": [
            "100%|██████████| 1.04M/1.04M [00:00<00:00, 1.15MiB/s]\n"
          ]
        },
        {
          "output_type": "stream",
          "name": "stdout",
          "text": [
            "Downloading: vocab.bpe\n"
          ]
        },
        {
          "output_type": "stream",
          "name": "stderr",
          "text": [
            "100%|██████████| 456k/456k [00:00<00:00, 634kiB/s]\n"
          ]
        },
        {
          "output_type": "stream",
          "name": "stdout",
          "text": [
            "Downloading: model-sm.jl\n"
          ]
        },
        {
          "output_type": "stream",
          "name": "stderr",
          "text": [
            "100%|██████████| 655M/655M [00:42<00:00, 15.3MiB/s]\n"
          ]
        }
      ]
    },
    {
      "cell_type": "code",
      "source": [
        "y_pred_1 =  modelgbm.predict(X_test )\n",
        "y_pred_2 =  model_b.predict(X_test )\n",
        "y_pred_3 = model_svc.predict(X_test)\n",
        "y_pred_4 = eclf.predict(X_test)\n",
        "y_pred_5 = clf.predict(X_test)\n",
        "y_pred_6 = np.round(modeldnn.predict(X_test.astype('float16')).flatten())"
      ],
      "metadata": {
        "id": "YtpD1064GLQR"
      },
      "execution_count": null,
      "outputs": []
    },
    {
      "cell_type": "markdown",
      "source": [
        "# Confusion matrix"
      ],
      "metadata": {
        "id": "jZaGIAXdK-hJ"
      }
    },
    {
      "cell_type": "code",
      "source": [
        "from sklearn.metrics import confusion_matrix, ConfusionMatrixDisplay\n",
        "preds = [y_pred_1,y_pred_2,y_pred_3,y_pred_4,y_pred_5,y_pred_6]\n",
        "mod_names= ['LightGBM','XGBoost','SVM','Voting Classifier','Stacking Classifier','Deep Neural Network']\n",
        "for i,title in enumerate(mod_names):\n",
        "  cm = confusion_matrix(y_test, preds[i], normalize='all')\n",
        "  cmd = ConfusionMatrixDisplay(cm, display_labels=['Benign','Malicious'])\n",
        "  cmd.plot()\n",
        "  cmd.ax_.set_title(f\"{mod_names[i]} confusion matrix\")"
      ],
      "metadata": {
        "colab": {
          "base_uri": "https://localhost:8080/",
          "height": 1000
        },
        "id": "cUC8fQTHHsl7",
        "outputId": "582a05d1-2763-4f22-b729-22a07e725bf0"
      },
      "execution_count": null,
      "outputs": [
        {
          "output_type": "display_data",
          "data": {
            "text/plain": [
              "<Figure size 432x288 with 2 Axes>"
            ],
            "image/png": "[encoded data removed]"
          },
          "metadata": {
            "needs_background": "light"
          }
        },
        {
          "output_type": "display_data",
          "data": {
            "text/plain": [
              "<Figure size 432x288 with 2 Axes>"
            ],
            "image/png": "[encoded data removed]"
          },
          "metadata": {
            "needs_background": "light"
          }
        },
        {
          "output_type": "display_data",
          "data": {
            "text/plain": [
              "<Figure size 432x288 with 2 Axes>"
            ],
            "image/png": "[encoded data removed]"
          },
          "metadata": {
            "needs_background": "light"
          }
        },
        {
          "output_type": "display_data",
          "data": {
            "text/plain": [
              "<Figure size 432x288 with 2 Axes>"
            ],
            "image/png": "[encoded data removed]"
          },
          "metadata": {
            "needs_background": "light"
          }
        },
        {
          "output_type": "display_data",
          "data": {
            "text/plain": [
              "<Figure size 432x288 with 2 Axes>"
            ],
            "image/png": "[encoded data removed]"
          },
          "metadata": {
            "needs_background": "light"
          }
        },
        {
          "output_type": "display_data",
          "data": {
            "text/plain": [
              "<Figure size 432x288 with 2 Axes>"
            ],
            "image/png": "[encoded data removed]"
          },
          "metadata": {
            "needs_background": "light"
          }
        }
      ]
    },
    {
      "cell_type": "markdown",
      "source": [
        "#Zero False Negative policy Model"
      ],
      "metadata": {
        "id": "8e_9eo-7Pamp"
      }
    },
    {
      "cell_type": "code",
      "source": [
        "from itertools import compress"
      ],
      "metadata": {
        "id": "OgXT8zn-UJ7f"
      },
      "execution_count": null,
      "outputs": []
    },
    {
      "cell_type": "code",
      "source": [
        "y_pred_phase_1 == False"
      ],
      "metadata": {
        "colab": {
          "base_uri": "https://localhost:8080/"
        },
        "id": "thoOrNSDQtfY",
        "outputId": "821515f4-6d9c-4f8a-958e-047905116601"
      },
      "execution_count": null,
      "outputs": [
        {
          "output_type": "execute_result",
          "data": {
            "text/plain": [
              "array([ True, False,  True, ...,  True,  True,  True])"
            ]
          },
          "metadata": {},
          "execution_count": 22
        }
      ]
    },
    {
      "cell_type": "code",
      "source": [
        "pred_phase1_ind = np.where(y_pred_phase_1)[0]\n",
        "benign_ind = np.where(y_pred_phase_1 == False)[0]\n"
      ],
      "metadata": {
        "id": "Cn44IVKdQgoQ"
      },
      "execution_count": null,
      "outputs": []
    },
    {
      "cell_type": "code",
      "source": [
        "preds_zfn = np.zeros(X_test.shape[0])\n",
        "t = time.time()\n",
        "y_pred_phase_1 =  modelgbm.predict(X_test)\n",
        "#save indices\n",
        "pred_phase1_ind = np.where(y_pred_phase_1)[0]\n",
        "benign_ind = np.where(y_pred_phase_1 == False)[0]\n",
        "mask = y_pred_phase_1 == False\n",
        "test_c = list(compress(test_corpus, mask))\n",
        "y_pred_phase_2 =bertmodel.predict(test_c)\n",
        "preds_zfn[pred_phase1_ind] = 1\n",
        "preds_zfn[benign_ind] = y_pred_phase_2\n",
        "zfn_model_time = (time.time() - t)/60"
      ],
      "metadata": {
        "id": "2qdioHDhPaK_"
      },
      "execution_count": null,
      "outputs": []
    },
    {
      "cell_type": "code",
      "source": [
        "metrics.accuracy_score(y_test,preds_zfn)*100 , zfn_model_time "
      ],
      "metadata": {
        "id": "tog93Y19qppl"
      },
      "execution_count": null,
      "outputs": []
    },
    {
      "cell_type": "markdown",
      "source": [
        "---"
      ],
      "metadata": {
        "id": "K1olxAkFPftl"
      }
    },
    {
      "cell_type": "markdown",
      "source": [
        "#F1 score"
      ],
      "metadata": {
        "id": "pM1qC7-bHA58"
      }
    },
    {
      "cell_type": "code",
      "source": [
        "%%time\n",
        "F1_1=  metrics.f1_score(y_test, modelgbm.predict(X_test))*100\n",
        "\n",
        "F1_2=  metrics.f1_score(y_test, model_b.predict(X_test))*100\n",
        "\n",
        "F1_3=  metrics.f1_score(y_test, model_svc.predict(X_test))*100\n",
        "\n",
        "F1_4=  metrics.f1_score(y_test, eclf.predict(X_test))*100\n",
        "\n",
        "F1_5=  metrics.f1_score(y_test, clf.predict(X_test))*100\n",
        "\n",
        "F1_6=  metrics.f1_score(y_test, np.round(modeldnn.predict(X_test.astype('float16')).flatten()))*100\n"
      ],
      "metadata": {
        "colab": {
          "base_uri": "https://localhost:8080/"
        },
        "outputId": "60d7b967-23a9-4935-8e26-cc107cbb76aa",
        "id": "_ejohorVHDL9"
      },
      "execution_count": null,
      "outputs": [
        {
          "output_type": "stream",
          "name": "stdout",
          "text": [
            "CPU times: user 3min 47s, sys: 2.51 s, total: 3min 50s\n",
            "Wall time: 3min 28s\n"
          ]
        }
      ]
    },
    {
      "cell_type": "code",
      "source": [
        "F1_1,F1_2,F1_3,F1_4,F1_5,F1_6"
      ],
      "metadata": {
        "colab": {
          "base_uri": "https://localhost:8080/"
        },
        "id": "iLZMP7vHHygg",
        "outputId": "fe2aba62-e2ca-41b7-91e0-7e78a739f495"
      },
      "execution_count": null,
      "outputs": [
        {
          "output_type": "execute_result",
          "data": {
            "text/plain": [
              "(61.6214335421016,\n",
              " 60.61023961385968,\n",
              " 64.88441578864601,\n",
              " 64.52476572958501,\n",
              " 65.23605150214593,\n",
              " 65.41353383458647)"
            ]
          },
          "metadata": {},
          "execution_count": 18
        }
      ]
    },
    {
      "cell_type": "code",
      "source": [
        "y_pred_bert = bertmodel.predict(test_corpus)\n",
        "F1_7 = metrics.f1_score(test_labels,y_pred_bert)*100\n"
      ],
      "metadata": {
        "colab": {
          "base_uri": "https://localhost:8080/"
        },
        "outputId": "9b3e164d-5ce5-41fb-c6dd-788429bfa3f2",
        "id": "Vj8MXJJsHDL9"
      },
      "execution_count": null,
      "outputs": [
        {
          "output_type": "stream",
          "name": "stderr",
          "text": [
            "\rInference: 0it [00:00, ?it/s]/usr/local/lib/python3.7/dist-packages/finetune/base_models/bert/modeling.py:818: UserWarning: `tf.layers.dense` is deprecated and will be removed in a future version. Please use `tf.keras.layers.Dense` instead.\n",
            "  kernel_initializer=create_initializer(initializer_range),\n",
            "/usr/local/lib/python3.7/dist-packages/keras/legacy_tf_layers/core.py:261: UserWarning: `layer.apply` is deprecated and will be removed in a future version. Please use `layer.__call__` method instead.\n",
            "  return layer.apply(inputs)\n",
            "/usr/local/lib/python3.7/dist-packages/finetune/base_models/bert/modeling.py:827: UserWarning: `tf.layers.dense` is deprecated and will be removed in a future version. Please use `tf.keras.layers.Dense` instead.\n",
            "  kernel_initializer=create_initializer(initializer_range),\n",
            "/usr/local/lib/python3.7/dist-packages/finetune/base_models/bert/modeling.py:836: UserWarning: `tf.layers.dense` is deprecated and will be removed in a future version. Please use `tf.keras.layers.Dense` instead.\n",
            "  kernel_initializer=create_initializer(initializer_range),\n",
            "/usr/local/lib/python3.7/dist-packages/finetune/base_models/bert/modeling.py:954: UserWarning: `tf.layers.dense` is deprecated and will be removed in a future version. Please use `tf.keras.layers.Dense` instead.\n",
            "  kernel_initializer=create_initializer(initializer_range))\n",
            "/usr/local/lib/python3.7/dist-packages/finetune/base_models/bert/modeling.py:964: UserWarning: `tf.layers.dense` is deprecated and will be removed in a future version. Please use `tf.keras.layers.Dense` instead.\n",
            "  kernel_initializer=create_initializer(initializer_range))\n",
            "/usr/local/lib/python3.7/dist-packages/finetune/base_models/bert/modeling.py:971: UserWarning: `tf.layers.dense` is deprecated and will be removed in a future version. Please use `tf.keras.layers.Dense` instead.\n",
            "  kernel_initializer=create_initializer(initializer_range))\n",
            "Inference: 238162it [1:33:24, 42.50it/s]\n"
          ]
        }
      ]
    },
    {
      "cell_type": "code",
      "source": [
        "y_pred_txtcnn = txtcnn.predict(test_corpus)\n",
        "F1_8  = metrics.f1_score(test_labels, y_pred_txtcnn)*100 #textcnn\n"
      ],
      "metadata": {
        "colab": {
          "base_uri": "https://localhost:8080/"
        },
        "outputId": "90937ef7-084a-496b-eb1f-f4eed4ae1f8d",
        "id": "JOpetARfHDL9"
      },
      "execution_count": null,
      "outputs": [
        {
          "output_type": "stream",
          "name": "stderr",
          "text": [
            "\rInference: 0it [00:00, ?it/s]/usr/local/lib/python3.7/dist-packages/finetune/base_models/textcnn/featurizer.py:77: UserWarning: `tf.layers.conv1d` is deprecated and will be removed in a future version. Please Use `tf.keras.layers.Conv1D` instead.\n",
            "  kernel_initializer=tf.compat.v1.initializers.glorot_normal,\n",
            "/usr/local/lib/python3.7/dist-packages/keras/legacy_tf_layers/convolutional.py:294: UserWarning: `layer.apply` is deprecated and will be removed in a future version. Please use `layer.__call__` method instead.\n",
            "  return layer.apply(inputs)\n",
            "Inference: 155418it [23:08, 111.92it/s]\n"
          ]
        }
      ]
    },
    {
      "cell_type": "code",
      "source": [
        "F1_list = ['F1_Score',F1_1,F1_2,F1_3,F1_4,F1_5,F1_6,F1_7,F1_8]\n",
        "with open('F1_list.pkl', 'wb') as f:\n",
        "  pickle.dump(F1_list, f)\n",
        "f.close()"
      ],
      "metadata": {
        "id": "8aDCz_nRH7If"
      },
      "execution_count": null,
      "outputs": []
    },
    {
      "cell_type": "code",
      "source": [
        "%%capture\n",
        "### save accuracy on pj dataset\n",
        "\n",
        "acc1_pj=  metrics.accuracy_score(y_test_pj, modelgbm.predict(X_test_pj ))*100\n",
        "\n",
        "acc2_pj=  metrics.accuracy_score(y_test_pj, model_b.predict(X_test_pj))*100\n",
        "\n",
        "acc3_pj=  metrics.accuracy_score(y_test_pj, model_svc.predict(X_test_pj))*100\n",
        "\n",
        "acc4_pj=  metrics.accuracy_score(y_test_pj, eclf.predict(X_test_pj))*100\n",
        "\n",
        "acc5_pj=  metrics.accuracy_score(y_test_pj, clf.predict(X_test_pj))*100\n",
        "\n",
        "acc6_pj=  metrics.accuracy_score(y_test_pj, np.round(modeldnn.predict(X_test_pj.astype('float16')).flatten()))*100\n",
        "\n",
        "y_pred_bert = bertmodel.predict(corpus_pj)\n",
        "acc7_pj = metrics.accuracy_score(labels_pj,y_pred_bert)*100\n",
        "\n",
        "y_pred_txtcnn = txtcnn.predict(corpus_pj)\n",
        "acc8_pj  = metrics.accuracy_score(labels_pj, y_pred_txtcnn)*100 #textcnn\n",
        "\n",
        "acc_pj = ['PervJust Accuracy',acc1_pj,acc2_pj,acc3_pj,acc4_pj,acc5_pj,acc6_pj,acc7_pj,acc8_pj]"
      ],
      "metadata": {
        "id": "QCJJZjdVdpqU"
      },
      "execution_count": null,
      "outputs": []
    },
    {
      "cell_type": "code",
      "source": [
        "len(labels_pj)"
      ],
      "metadata": {
        "colab": {
          "base_uri": "https://localhost:8080/"
        },
        "id": "NB4YnqRGfDWA",
        "outputId": "c1ccd7e9-a9a9-415b-effa-f2a2cb34e2c9"
      },
      "execution_count": null,
      "outputs": [
        {
          "output_type": "execute_result",
          "data": {
            "text/plain": [
              "56"
            ]
          },
          "metadata": {},
          "execution_count": 62
        }
      ]
    },
    {
      "cell_type": "code",
      "source": [
        "%%time\n",
        "inf_time_list = ['Inference Time [Min]']\n",
        "t = time.time()\n",
        "acc1=  metrics.accuracy_score(y_test, modelgbm.predict(X_test))*100\n",
        "inf_time_list.append((time.time() - t)/60)\n",
        "\n",
        "t = time.time()\n",
        "acc2=  metrics.accuracy_score(y_test, model_b.predict(X_test))*100\n",
        "inf_time_list.append((time.time() - t)/60)\n",
        "\n",
        "t = time.time()\n",
        "acc3=  metrics.accuracy_score(y_test, model_svc.predict(X_test))*100\n",
        "inf_time_list.append((time.time() - t)/60)\n",
        "\n",
        "t = time.time()\n",
        "acc4=  metrics.accuracy_score(y_test, eclf.predict(X_test))*100\n",
        "inf_time_list.append((time.time() - t)/60)\n",
        "\n",
        "t = time.time()\n",
        "acc5=  metrics.accuracy_score(y_test, clf.predict(X_test))*100\n",
        "inf_time_list.append((time.time() - t)/60)\n",
        "\n",
        "t = time.time()\n",
        "acc6=  metrics.accuracy_score(y_test, np.round(modeldnn.predict(X_test.astype('float16')).flatten()))*100\n",
        "inf_time_list.append((time.time() - t)/60)\n"
      ],
      "metadata": {
        "colab": {
          "base_uri": "https://localhost:8080/"
        },
        "id": "ynV3c3IDfjCd",
        "outputId": "11ce84ce-90ec-49ef-b9e9-01be802d4366"
      },
      "execution_count": null,
      "outputs": [
        {
          "output_type": "stream",
          "name": "stdout",
          "text": [
            "CPU times: user 3min 53s, sys: 3.12 s, total: 3min 56s\n",
            "Wall time: 3min 30s\n"
          ]
        }
      ]
    },
    {
      "cell_type": "code",
      "source": [
        "t = time.time()\n",
        "y_pred_bert = bertmodel.predict(test_corpus)\n",
        "acc7 = metrics.accuracy_score(test_labels,y_pred_bert)*100\n",
        "inf_time_list.append((time.time() - t)/60)\n"
      ],
      "metadata": {
        "id": "fVha64u-ksGr",
        "colab": {
          "base_uri": "https://localhost:8080/"
        },
        "outputId": "84eb7a86-7ed0-4008-e703-298aa09bd6c7"
      },
      "execution_count": null,
      "outputs": [
        {
          "output_type": "stream",
          "name": "stderr",
          "text": [
            "\rInference: 0it [00:00, ?it/s]/usr/local/lib/python3.7/dist-packages/finetune/base_models/bert/modeling.py:818: UserWarning: `tf.layers.dense` is deprecated and will be removed in a future version. Please use `tf.keras.layers.Dense` instead.\n",
            "  kernel_initializer=create_initializer(initializer_range),\n",
            "/usr/local/lib/python3.7/dist-packages/keras/legacy_tf_layers/core.py:261: UserWarning: `layer.apply` is deprecated and will be removed in a future version. Please use `layer.__call__` method instead.\n",
            "  return layer.apply(inputs)\n",
            "/usr/local/lib/python3.7/dist-packages/finetune/base_models/bert/modeling.py:827: UserWarning: `tf.layers.dense` is deprecated and will be removed in a future version. Please use `tf.keras.layers.Dense` instead.\n",
            "  kernel_initializer=create_initializer(initializer_range),\n",
            "/usr/local/lib/python3.7/dist-packages/finetune/base_models/bert/modeling.py:836: UserWarning: `tf.layers.dense` is deprecated and will be removed in a future version. Please use `tf.keras.layers.Dense` instead.\n",
            "  kernel_initializer=create_initializer(initializer_range),\n",
            "/usr/local/lib/python3.7/dist-packages/finetune/base_models/bert/modeling.py:954: UserWarning: `tf.layers.dense` is deprecated and will be removed in a future version. Please use `tf.keras.layers.Dense` instead.\n",
            "  kernel_initializer=create_initializer(initializer_range))\n",
            "/usr/local/lib/python3.7/dist-packages/finetune/base_models/bert/modeling.py:964: UserWarning: `tf.layers.dense` is deprecated and will be removed in a future version. Please use `tf.keras.layers.Dense` instead.\n",
            "  kernel_initializer=create_initializer(initializer_range))\n",
            "/usr/local/lib/python3.7/dist-packages/finetune/base_models/bert/modeling.py:971: UserWarning: `tf.layers.dense` is deprecated and will be removed in a future version. Please use `tf.keras.layers.Dense` instead.\n",
            "  kernel_initializer=create_initializer(initializer_range))\n",
            "Inference: 238162it [53:30, 74.18it/s]\n"
          ]
        }
      ]
    },
    {
      "cell_type": "code",
      "source": [
        "t = time.time()\n",
        "y_pred_txtcnn = txtcnn.predict(test_corpus)\n",
        "acc8  = metrics.accuracy_score(test_labels, y_pred_txtcnn)*100 #textcnn\n",
        "inf_time_list.append((time.time() - t)/60)"
      ],
      "metadata": {
        "colab": {
          "base_uri": "https://localhost:8080/"
        },
        "id": "gfq9aBUSmA4f",
        "outputId": "fdfae672-37d7-41f1-8f69-df284403edcd"
      },
      "execution_count": null,
      "outputs": [
        {
          "output_type": "stream",
          "name": "stderr",
          "text": [
            "\rInference: 0it [00:00, ?it/s]/usr/local/lib/python3.7/dist-packages/finetune/base_models/textcnn/featurizer.py:77: UserWarning: `tf.layers.conv1d` is deprecated and will be removed in a future version. Please Use `tf.keras.layers.Conv1D` instead.\n",
            "  kernel_initializer=tf.compat.v1.initializers.glorot_normal,\n",
            "/usr/local/lib/python3.7/dist-packages/keras/legacy_tf_layers/convolutional.py:294: UserWarning: `layer.apply` is deprecated and will be removed in a future version. Please use `layer.__call__` method instead.\n",
            "  return layer.apply(inputs)\n",
            "Inference: 155418it [28:32, 90.76it/s]\n"
          ]
        }
      ]
    },
    {
      "cell_type": "code",
      "source": [
        "with open('inf_time_list.pkl', 'wb') as f:\n",
        "  pickle.dump(inf_time_list, f)\n",
        "f.close()\n",
        "accuracy_list = ['Accuracy',acc1,acc2,acc3,acc4,acc5,acc6,acc7,acc8]\n",
        "with open('accuracy_list.pkl', 'wb') as f:\n",
        "  pickle.dump(accuracy_list, f)\n",
        "f.close()\n",
        "with open('acc_pj.pkl', 'wb') as f:\n",
        "  pickle.dump(acc_pj, f)\n",
        "f.close()"
      ],
      "metadata": {
        "id": "7NQisy2cfEET"
      },
      "execution_count": null,
      "outputs": []
    },
    {
      "cell_type": "code",
      "source": [
        "inf_time_list =pickle.load(open('inf_time_list.pkl', 'rb'))\n",
        "accuracy_list = pickle.load(open('accuracy_list.pkl', 'rb'))\n",
        "acc_pj = pickle.load(open('acc_pj.pkl', 'rb'))"
      ],
      "metadata": {
        "id": "FWlhvsFaPpDf"
      },
      "execution_count": null,
      "outputs": []
    },
    {
      "cell_type": "code",
      "source": [
        "y_pred_prob1 = modelgbm.predict_proba(X_test)[:,1]\n",
        "fpr1 , tpr1, thresholds1 = roc_curve(y_test, y_pred_prob1)\n",
        "auc1 = roc_auc_score(y_test, y_pred_prob1)\n",
        "\n",
        "y_pred_prob2 = model_b.predict_proba(X_test)[:,1]\n",
        "fpr2 , tpr2, thresholds2 = roc_curve(y_test, y_pred_prob2)\n",
        "auc2 = roc_auc_score(y_test, y_pred_prob2)\n",
        "\n",
        "\n",
        "y_pred_prob3 = model_svc.predict_proba(X_test)[:,1]\n",
        "fpr3 , tpr3, thresholds3 =  roc_curve(y_test, y_pred_prob3)\n",
        "auc3 = roc_auc_score(y_test, y_pred_prob3)\n",
        "\n",
        "y_pred_prob4 = eclf.predict_proba(X_test)[:,1] \n",
        "fpr4 , tpr4, thresholds4 =  roc_curve(y_test, y_pred_prob4)\n",
        "auc4 = roc_auc_score(y_test, y_pred_prob4)\n",
        "\n",
        "\n",
        "y_pred_prob5 = clf.predict_proba(X_test)[:,1]\n",
        "fpr5 , tpr5, thresholds5 =  roc_curve(y_test, y_pred_prob5)\n",
        "auc5 = roc_auc_score(y_test, y_pred_prob5)\n",
        "\n",
        "y_pred_prob6 = (modeldnn.predict(X_test)).flatten()\n",
        "fpr6 , tpr6, thresholds6 =  roc_curve(y_test, y_pred_prob6)\n",
        "auc6 = roc_auc_score(y_test, y_pred_prob6)\n",
        "\n",
        "y_pred_prob7 = bertmodel.predict_proba(test_corpus)\n",
        "y_pred_prob7 = [val[1] for val in y_pred_prob7]\n",
        "fpr7 , tpr7, thresholds7 =  roc_curve(test_labels, y_pred_prob7)\n",
        "auc7 = roc_auc_score(test_labels, y_pred_prob7)\n",
        "\n",
        "\n",
        "\n",
        "tpf_fpr_auc =[(fpr1 , tpr1,auc1)]"
      ],
      "metadata": {
        "colab": {
          "base_uri": "https://localhost:8080/"
        },
        "id": "2sJO2GxxUl4Y",
        "outputId": "52db6360-15d2-4c5d-8bdc-251e72c8671e"
      },
      "execution_count": null,
      "outputs": [
        {
          "output_type": "stream",
          "name": "stderr",
          "text": [
            "\rInference: 0it [00:00, ?it/s]/usr/local/lib/python3.7/dist-packages/finetune/base_models/bert/modeling.py:818: UserWarning: `tf.layers.dense` is deprecated and will be removed in a future version. Please use `tf.keras.layers.Dense` instead.\n",
            "  kernel_initializer=create_initializer(initializer_range),\n",
            "/usr/local/lib/python3.7/dist-packages/keras/legacy_tf_layers/core.py:261: UserWarning: `layer.apply` is deprecated and will be removed in a future version. Please use `layer.__call__` method instead.\n",
            "  return layer.apply(inputs)\n",
            "/usr/local/lib/python3.7/dist-packages/finetune/base_models/bert/modeling.py:827: UserWarning: `tf.layers.dense` is deprecated and will be removed in a future version. Please use `tf.keras.layers.Dense` instead.\n",
            "  kernel_initializer=create_initializer(initializer_range),\n",
            "/usr/local/lib/python3.7/dist-packages/finetune/base_models/bert/modeling.py:836: UserWarning: `tf.layers.dense` is deprecated and will be removed in a future version. Please use `tf.keras.layers.Dense` instead.\n",
            "  kernel_initializer=create_initializer(initializer_range),\n",
            "/usr/local/lib/python3.7/dist-packages/finetune/base_models/bert/modeling.py:954: UserWarning: `tf.layers.dense` is deprecated and will be removed in a future version. Please use `tf.keras.layers.Dense` instead.\n",
            "  kernel_initializer=create_initializer(initializer_range))\n",
            "/usr/local/lib/python3.7/dist-packages/finetune/base_models/bert/modeling.py:964: UserWarning: `tf.layers.dense` is deprecated and will be removed in a future version. Please use `tf.keras.layers.Dense` instead.\n",
            "  kernel_initializer=create_initializer(initializer_range))\n",
            "/usr/local/lib/python3.7/dist-packages/finetune/base_models/bert/modeling.py:971: UserWarning: `tf.layers.dense` is deprecated and will be removed in a future version. Please use `tf.keras.layers.Dense` instead.\n",
            "  kernel_initializer=create_initializer(initializer_range))\n",
            "Inference: 238162it [53:18, 74.45it/s]\n"
          ]
        }
      ]
    },
    {
      "cell_type": "code",
      "source": [
        "tpf_fpr_auc =[(fpr1 , tpr1,auc1),(fpr2 , tpr2,auc2),(fpr3 , tpr3,auc3),(fpr4 , tpr4,auc4),(fpr5 , tpr5,auc5),(fpr6 , tpr6,auc6),(fpr7 , tpr7,auc7)]"
      ],
      "metadata": {
        "id": "MXpIDACnNIrm"
      },
      "execution_count": null,
      "outputs": []
    },
    {
      "cell_type": "code",
      "source": [
        "with open('tpf_fpr_auc_1_7.pkl', 'wb') as f:\n",
        "  pickle.dump(tpf_fpr_auc , f)\n",
        "f.close()"
      ],
      "metadata": {
        "id": "vz5swqsqNX_u"
      },
      "execution_count": null,
      "outputs": []
    },
    {
      "cell_type": "code",
      "source": [
        "tpf_fpr_auc=   pickle.load(open('tpf_fpr_auc_1_7.pkl', 'rb'))"
      ],
      "metadata": {
        "id": "-jgWfh5uNr0k"
      },
      "execution_count": null,
      "outputs": []
    },
    {
      "cell_type": "code",
      "source": [
        "txtcnn = ft.Classifier.load('txtcnn')"
      ],
      "metadata": {
        "id": "quQk2IaZW3ab"
      },
      "execution_count": null,
      "outputs": []
    },
    {
      "cell_type": "code",
      "source": [
        "y_pred_prob8 = txtcnn.predict_proba(test_corpus)\n",
        "y_pred_prob8 = [val[1] for val in y_pred_prob8]\n",
        "fpr8 , tpr8, thresholds8 =  roc_curve(test_labels, y_pred_prob8)\n",
        "auc8 = roc_auc_score(test_labels, y_pred_prob8)"
      ],
      "metadata": {
        "colab": {
          "base_uri": "https://localhost:8080/"
        },
        "id": "AqTKPhSEd0nQ",
        "outputId": "12e47763-c054-4002-bf7b-61a4201d65a8"
      },
      "execution_count": null,
      "outputs": [
        {
          "output_type": "stream",
          "name": "stderr",
          "text": [
            "\rInference: 0it [00:00, ?it/s]/usr/local/lib/python3.7/dist-packages/finetune/base_models/textcnn/featurizer.py:77: UserWarning: `tf.layers.conv1d` is deprecated and will be removed in a future version. Please Use `tf.keras.layers.Conv1D` instead.\n",
            "  kernel_initializer=tf.compat.v1.initializers.glorot_normal,\n",
            "/usr/local/lib/python3.7/dist-packages/keras/legacy_tf_layers/convolutional.py:294: UserWarning: `layer.apply` is deprecated and will be removed in a future version. Please use `layer.__call__` method instead.\n",
            "  return layer.apply(inputs)\n",
            "Inference: 155418it [30:50, 83.97it/s]\n"
          ]
        }
      ]
    },
    {
      "cell_type": "code",
      "source": [
        "tpf_fpr_auc.append((fpr8 , tpr8,auc8))\n",
        "with open('tpf_fpr_auc_1_8.pkl', 'wb') as f:\n",
        "  pickle.dump(tpf_fpr_auc , f)\n",
        "f.close()"
      ],
      "metadata": {
        "id": "eIrankUvQRWy"
      },
      "execution_count": null,
      "outputs": []
    },
    {
      "cell_type": "code",
      "source": [
        "# tpf_fpr_auc =[(fpr1 , tpr1,auc1)\n",
        "fig = plt.figure()\n",
        "fig.set_figwidth(14) # set width\n",
        "fig.set_figheight(14) # set height\n",
        "plt.plot([0,1],[0,1], 'k--')\n",
        "plt.plot(tpf_fpr_auc[0][0], tpf_fpr_auc[0][1], label= f\"LightGBM AUC = {100*tpf_fpr_auc[0][2] :.2f}%\")\n",
        "plt.plot(tpf_fpr_auc[1][0], tpf_fpr_auc[1][1], label= f\"XGBoost AUC = {100*tpf_fpr_auc[1][2] :.2f}%\")\n",
        "plt.plot(tpf_fpr_auc[2][0], tpf_fpr_auc[2][1], label= f\"SVM AUC = {100*tpf_fpr_auc[2][2] :.2f}%\")\n",
        "plt.plot(tpf_fpr_auc[3][0], tpf_fpr_auc[3][1], label= f\"Voting AUC = {100*tpf_fpr_auc[3][2] :.2f}%\")\n",
        "plt.plot(tpf_fpr_auc[4][0], tpf_fpr_auc[4][1], label= f\"Stacking AUC = {100*tpf_fpr_auc[4][2] :.2f}%\")\n",
        "plt.plot(tpf_fpr_auc[5][0], tpf_fpr_auc[5][1], label= f\"DNN AUC = {100*tpf_fpr_auc[5][2] :.2f}%\")\n",
        "plt.plot(tpf_fpr_auc[6][0], tpf_fpr_auc[6][1], label= f\"RoBerta AUC = {100*tpf_fpr_auc[6][2] :.2f}%\")\n",
        "plt.plot(tpf_fpr_auc[7][0], tpf_fpr_auc[7][1], label= f\"TextCNN AUC = {100*tpf_fpr_auc[7][2] :.2f}%\")\n",
        "plt.gca().set_xscale(\"log\")\n",
        "plt.yticks(np.arange(22) / 20.0)\n",
        "plt.xlim([4e-5, 1.0])\n",
        "plt.gca().grid(True)\n",
        "plt.xlabel(\"False positive rate\",fontsize=16)\n",
        "plt.ylabel(\"True positive rate\",fontsize=16)\n",
        "plt.title('Different models roc curve comparison',fontsize=18)\n",
        "plt.legend(loc= 'lower right')\n",
        "plt.show()"
      ],
      "metadata": {
        "colab": {
          "base_uri": "https://localhost:8080/",
          "height": 852
        },
        "id": "560VKYAkREYP",
        "outputId": "d770f114-8c01-4670-cad3-0e97c0f9b5a5"
      },
      "execution_count": null,
      "outputs": [
        {
          "output_type": "display_data",
          "data": {
            "text/plain": [
              "<Figure size 1008x1008 with 1 Axes>"
            ],
            "image/png": "[encoded data removed]"
          },
          "metadata": {
            "needs_background": "light"
          }
        }
      ]
    },
    {
      "cell_type": "markdown",
      "source": [
        "# Accuracy and detection rates"
      ],
      "metadata": {
        "id": "T_WQ1IsAWhkm"
      }
    },
    {
      "cell_type": "code",
      "source": [
        "tpf_fpr_auc=   pickle.load(open('tpf_fpr_auc_1_8.pkl', 'rb'))"
      ],
      "metadata": {
        "id": "QI_exrV70qu8"
      },
      "execution_count": null,
      "outputs": []
    },
    {
      "cell_type": "code",
      "source": [
        "dat=pd.DataFrame(data= [accuracy_list,F1_list,\n",
        "                        ['AUC',tpf_fpr_auc[0][2]*100,tpf_fpr_auc[1][2]*100,tpf_fpr_auc[2][2]*100,tpf_fpr_auc[3][2]*100,tpf_fpr_auc[4][2]*100,tpf_fpr_auc[5][2]*100,tpf_fpr_auc[6][2]*100,tpf_fpr_auc[7][2]*100],\n",
        "                        ['0.1% FPR Detection',\n",
        "                        tpf_fpr_auc[0][1][np.abs(tpf_fpr_auc[0][0]-0.001).argmin()] * 100,\n",
        "                        tpf_fpr_auc[1][1][np.abs(tpf_fpr_auc[1][0]-0.001).argmin()] * 100,\n",
        "                        tpf_fpr_auc[2][1][np.abs(tpf_fpr_auc[2][0]-0.001).argmin()] * 100,\n",
        "                        tpf_fpr_auc[3][1][np.abs(tpf_fpr_auc[3][0]-0.001).argmin()] * 100,\n",
        "                        tpf_fpr_auc[4][1][np.abs(tpf_fpr_auc[4][0]-0.001).argmin()] * 100,\n",
        "                        tpf_fpr_auc[5][1][np.abs(tpf_fpr_auc[5][0]-0.001).argmin()] * 100,\n",
        "                        tpf_fpr_auc[6][1][np.abs(tpf_fpr_auc[6][0]-0.001).argmin()] * 100,\n",
        "                        tpf_fpr_auc[7][1][1] * 100\n",
        "                         ],\n",
        "                        ['1% FPR Detection',\n",
        "                        tpf_fpr_auc[0][1][np.abs(tpf_fpr_auc[0][0]-0.01).argmin()] * 100,\n",
        "                        tpf_fpr_auc[1][1][np.abs(tpf_fpr_auc[1][0]-0.01).argmin()] * 100,\n",
        "                        tpf_fpr_auc[2][1][np.abs(tpf_fpr_auc[2][0]-0.01).argmin()] * 100,\n",
        "                        tpf_fpr_auc[3][1][np.abs(tpf_fpr_auc[3][0]-0.01).argmin()] * 100,\n",
        "                        tpf_fpr_auc[4][1][np.abs(tpf_fpr_auc[4][0]-0.01).argmin()] * 100,\n",
        "                        tpf_fpr_auc[5][1][np.abs(tpf_fpr_auc[5][0]-0.01).argmin()] * 100,\n",
        "                        tpf_fpr_auc[6][1][np.abs(tpf_fpr_auc[6][0]-0.01).argmin()] * 100,\n",
        "                        tpf_fpr_auc[7][1][np.abs(tpf_fpr_auc[7][0]-0.01).argmin()] * 100\n",
        "                         ],\n",
        "                        inf_time_list,\n",
        "                        acc_pj],\n",
        "                 columns =  ['metric','LightGBM','XGBoost','SVM','Voting','Stacking','DNN','RoBerta','TextCNN'])\n",
        "dat = dat.set_index('metric')\n",
        "dat = dat.rename(index={'Accuracy': 'Accuracy on PAN12 test'})"
      ],
      "metadata": {
        "id": "MPq6Oy6eaq3h"
      },
      "execution_count": null,
      "outputs": []
    },
    {
      "cell_type": "code",
      "source": [
        "dat.round(2)"
      ],
      "metadata": {
        "colab": {
          "base_uri": "https://localhost:8080/",
          "height": 300
        },
        "id": "h2FoyJX3lbyi",
        "outputId": "0364bd7f-b392-44c4-f9ec-28077273b5d1"
      },
      "execution_count": null,
      "outputs": [
        {
          "output_type": "execute_result",
          "data": {
            "text/plain": [
              "                        LightGBM  XGBoost    SVM  Voting  Stacking    DNN  \\\n",
              "metric                                                                      \n",
              "Accuracy on PAN12 test     98.58    98.53  98.56   98.63     98.54  98.04   \n",
              "F1_Score                   61.62    60.61  64.88   64.52     65.24  65.41   \n",
              "AUC                        92.86    94.62  96.96   96.60     97.01  97.72   \n",
              "0.1% FPR Detection         44.45    41.96  38.37   44.93     38.05  42.57   \n",
              "1% FPR Detection           61.17    58.98  70.22   69.01     69.23  72.73   \n",
              "Inference Time [Min]        0.03     0.04   1.07    1.07      1.10   0.20   \n",
              "PervJust Accuracy          98.21    96.43  96.43   98.21     98.21  98.21   \n",
              "\n",
              "                        RoBerta  TextCNN  \n",
              "metric                                    \n",
              "Accuracy on PAN12 test    98.12    98.14  \n",
              "F1_Score                  63.16    63.17  \n",
              "AUC                       98.01    97.50  \n",
              "0.1% FPR Detection        39.44    52.02  \n",
              "1% FPR Detection          64.76    65.16  \n",
              "Inference Time [Min]      53.52    28.55  \n",
              "PervJust Accuracy        100.00   100.00  "
            ],
            "text/html": [
              "\n",
              "  <div id=\"df-5ba3691d-66fa-41ad-8fa8-8500acfadbae\">\n",
              "    <div class=\"colab-df-container\">\n",
              "      <div>\n",
              "<style scoped>\n",
              "    .dataframe tbody tr th:only-of-type {\n",
              "        vertical-align: middle;\n",
              "    }\n",
              "\n",
              "    .dataframe tbody tr th {\n",
              "        vertical-align: top;\n",
              "    }\n",
              "\n",
              "    .dataframe thead th {\n",
              "        text-align: right;\n",
              "    }\n",
              "</style>\n",
              "<table border=\"1\" class=\"dataframe\">\n",
              "  <thead>\n",
              "    <tr style=\"text-align: right;\">\n",
              "      <th></th>\n",
              "      <th>LightGBM</th>\n",
              "      <th>XGBoost</th>\n",
              "      <th>SVM</th>\n",
              "      <th>Voting</th>\n",
              "      <th>Stacking</th>\n",
              "      <th>DNN</th>\n",
              "      <th>RoBerta</th>\n",
              "      <th>TextCNN</th>\n",
              "    </tr>\n",
              "    <tr>\n",
              "      <th>metric</th>\n",
              "      <th></th>\n",
              "      <th></th>\n",
              "      <th></th>\n",
              "      <th></th>\n",
              "      <th></th>\n",
              "      <th></th>\n",
              "      <th></th>\n",
              "      <th></th>\n",
              "    </tr>\n",
              "  </thead>\n",
              "  <tbody>\n",
              "    <tr>\n",
              "      <th>Accuracy on PAN12 test</th>\n",
              "      <td>98.58</td>\n",
              "      <td>98.53</td>\n",
              "      <td>98.56</td>\n",
              "      <td>98.63</td>\n",
              "      <td>98.54</td>\n",
              "      <td>98.04</td>\n",
              "      <td>98.12</td>\n",
              "      <td>98.14</td>\n",
              "    </tr>\n",
              "    <tr>\n",
              "      <th>F1_Score</th>\n",
              "      <td>61.62</td>\n",
              "      <td>60.61</td>\n",
              "      <td>64.88</td>\n",
              "      <td>64.52</td>\n",
              "      <td>65.24</td>\n",
              "      <td>65.41</td>\n",
              "      <td>63.16</td>\n",
              "      <td>63.17</td>\n",
              "    </tr>\n",
              "    <tr>\n",
              "      <th>AUC</th>\n",
              "      <td>92.86</td>\n",
              "      <td>94.62</td>\n",
              "      <td>96.96</td>\n",
              "      <td>96.60</td>\n",
              "      <td>97.01</td>\n",
              "      <td>97.72</td>\n",
              "      <td>98.01</td>\n",
              "      <td>97.50</td>\n",
              "    </tr>\n",
              "    <tr>\n",
              "      <th>0.1% FPR Detection</th>\n",
              "      <td>44.45</td>\n",
              "      <td>41.96</td>\n",
              "      <td>38.37</td>\n",
              "      <td>44.93</td>\n",
              "      <td>38.05</td>\n",
              "      <td>42.57</td>\n",
              "      <td>39.44</td>\n",
              "      <td>52.02</td>\n",
              "    </tr>\n",
              "    <tr>\n",
              "      <th>1% FPR Detection</th>\n",
              "      <td>61.17</td>\n",
              "      <td>58.98</td>\n",
              "      <td>70.22</td>\n",
              "      <td>69.01</td>\n",
              "      <td>69.23</td>\n",
              "      <td>72.73</td>\n",
              "      <td>64.76</td>\n",
              "      <td>65.16</td>\n",
              "    </tr>\n",
              "    <tr>\n",
              "      <th>Inference Time [Min]</th>\n",
              "      <td>0.03</td>\n",
              "      <td>0.04</td>\n",
              "      <td>1.07</td>\n",
              "      <td>1.07</td>\n",
              "      <td>1.10</td>\n",
              "      <td>0.20</td>\n",
              "      <td>53.52</td>\n",
              "      <td>28.55</td>\n",
              "    </tr>\n",
              "    <tr>\n",
              "      <th>PervJust Accuracy</th>\n",
              "      <td>98.21</td>\n",
              "      <td>96.43</td>\n",
              "      <td>96.43</td>\n",
              "      <td>98.21</td>\n",
              "      <td>98.21</td>\n",
              "      <td>98.21</td>\n",
              "      <td>100.00</td>\n",
              "      <td>100.00</td>\n",
              "    </tr>\n",
              "  </tbody>\n",
              "</table>\n",
              "</div>\n",
              "      <button class=\"colab-df-convert\" onclick=\"convertToInteractive('df-5ba3691d-66fa-41ad-8fa8-8500acfadbae')\"\n",
              "              title=\"Convert this dataframe to an interactive table.\"\n",
              "              style=\"display:none;\">\n",
              "        \n",
              "  <svg xmlns=\"http://www.w3.org/2000/svg\" height=\"24px\"viewBox=\"0 0 24 24\"\n",
              "       width=\"24px\">\n",
              "    <path d=\"M0 0h24v24H0V0z\" fill=\"none\"/>\n",
              "    <path d=\"M18.56 5.44l.94 2.06.94-2.06 2.06-.94-2.06-.94-.94-2.06-.94 2.06-2.06.94zm-11 1L8.5 8.5l.94-2.06 2.06-.94-2.06-.94L8.5 2.5l-.94 2.06-2.06.94zm10 10l.94 2.06.94-2.06 2.06-.94-2.06-.94-.94-2.06-.94 2.06-2.06.94z\"/><path d=\"M17.41 7.96l-1.37-1.37c-.4-.4-.92-.59-1.43-.59-.52 0-1.04.2-1.43.59L10.3 9.45l-7.72 7.72c-.78.78-.78 2.05 0 2.83L4 21.41c.39.39.9.59 1.41.59.51 0 1.02-.2 1.41-.59l7.78-7.78 2.81-2.81c.8-.78.8-2.07 0-2.86zM5.41 20L4 18.59l7.72-7.72 1.47 1.35L5.41 20z\"/>\n",
              "  </svg>\n",
              "      </button>\n",
              "      \n",
              "  <style>\n",
              "    .colab-df-container {\n",
              "      display:flex;\n",
              "      flex-wrap:wrap;\n",
              "      gap: 12px;\n",
              "    }\n",
              "\n",
              "    .colab-df-convert {\n",
              "      background-color: #E8F0FE;\n",
              "      border: none;\n",
              "      border-radius: 50%;\n",
              "      cursor: pointer;\n",
              "      display: none;\n",
              "      fill: #1967D2;\n",
              "      height: 32px;\n",
              "      padding: 0 0 0 0;\n",
              "      width: 32px;\n",
              "    }\n",
              "\n",
              "    .colab-df-convert:hover {\n",
              "      background-color: #E2EBFA;\n",
              "      box-shadow: 0px 1px 2px rgba(60, 64, 67, 0.3), 0px 1px 3px 1px rgba(60, 64, 67, 0.15);\n",
              "      fill: #174EA6;\n",
              "    }\n",
              "\n",
              "    [theme=dark] .colab-df-convert {\n",
              "      background-color: #3B4455;\n",
              "      fill: #D2E3FC;\n",
              "    }\n",
              "\n",
              "    [theme=dark] .colab-df-convert:hover {\n",
              "      background-color: #434B5C;\n",
              "      box-shadow: 0px 1px 3px 1px rgba(0, 0, 0, 0.15);\n",
              "      filter: drop-shadow(0px 1px 2px rgba(0, 0, 0, 0.3));\n",
              "      fill: #FFFFFF;\n",
              "    }\n",
              "  </style>\n",
              "\n",
              "      <script>\n",
              "        const buttonEl =\n",
              "          document.querySelector('#df-5ba3691d-66fa-41ad-8fa8-8500acfadbae button.colab-df-convert');\n",
              "        buttonEl.style.display =\n",
              "          google.colab.kernel.accessAllowed ? 'block' : 'none';\n",
              "\n",
              "        async function convertToInteractive(key) {\n",
              "          const element = document.querySelector('#df-5ba3691d-66fa-41ad-8fa8-8500acfadbae');\n",
              "          const dataTable =\n",
              "            await google.colab.kernel.invokeFunction('convertToInteractive',\n",
              "                                                     [key], {});\n",
              "          if (!dataTable) return;\n",
              "\n",
              "          const docLinkHtml = 'Like what you see? Visit the ' +\n",
              "            '<a target=\"_blank\" href=https://colab.research.google.com/notebooks/data_table.ipynb>data table notebook</a>'\n",
              "            + ' to learn more about interactive tables.';\n",
              "          element.innerHTML = '';\n",
              "          dataTable['output_type'] = 'display_data';\n",
              "          await google.colab.output.renderOutput(dataTable, element);\n",
              "          const docLink = document.createElement('div');\n",
              "          docLink.innerHTML = docLinkHtml;\n",
              "          element.appendChild(docLink);\n",
              "        }\n",
              "      </script>\n",
              "    </div>\n",
              "  </div>\n",
              "  "
            ]
          },
          "metadata": {},
          "execution_count": 29
        }
      ]
    },
    {
      "cell_type": "code",
      "source": [
        "dat"
      ],
      "metadata": {
        "colab": {
          "base_uri": "https://localhost:8080/",
          "height": 236
        },
        "id": "hpV6xUr-kJIm",
        "outputId": "f87e870e-3871-490c-ab21-7e773af97cf3"
      },
      "execution_count": null,
      "outputs": [
        {
          "output_type": "execute_result",
          "data": {
            "text/plain": [
              "                         LightGBM    XGBoost        SVM     Voting   Stacking  \\\n",
              "metric                                                                          \n",
              "Accuracy on PAN12 test  98.577949  98.527023  98.560544  98.633387  98.537982   \n",
              "AUC                     92.859180  94.617247  96.964653  96.599648  97.010754   \n",
              "0.1% FPR Detection      44.447418  41.958790  38.373026  44.929088  38.051913   \n",
              "1% FPR Detection        61.172063  58.977790  70.216751  69.012577  69.226652   \n",
              "Inference Time [Min]     0.030517   0.042152   1.074676   1.065741   1.096766   \n",
              "PervJust Accuracy       98.214286  96.428571  96.428571  98.214286  98.214286   \n",
              "\n",
              "                              DNN     RoBerta     TextCNN  \n",
              "metric                                                     \n",
              "Accuracy on PAN12 test  98.042907   98.119617   98.142179  \n",
              "AUC                     97.720805   98.014320   97.500983  \n",
              "0.1% FPR Detection      42.574257   39.443404   52.020337  \n",
              "1% FPR Detection        72.732138   64.757827   65.159219  \n",
              "Inference Time [Min]     0.198748   53.517760   28.547093  \n",
              "PervJust Accuracy       98.214286  100.000000  100.000000  "
            ],
            "text/html": [
              "\n",
              "  <div id=\"df-49905f8d-c00c-4503-bc12-e187474702f2\">\n",
              "    <div class=\"colab-df-container\">\n",
              "      <div>\n",
              "<style scoped>\n",
              "    .dataframe tbody tr th:only-of-type {\n",
              "        vertical-align: middle;\n",
              "    }\n",
              "\n",
              "    .dataframe tbody tr th {\n",
              "        vertical-align: top;\n",
              "    }\n",
              "\n",
              "    .dataframe thead th {\n",
              "        text-align: right;\n",
              "    }\n",
              "</style>\n",
              "<table border=\"1\" class=\"dataframe\">\n",
              "  <thead>\n",
              "    <tr style=\"text-align: right;\">\n",
              "      <th></th>\n",
              "      <th>LightGBM</th>\n",
              "      <th>XGBoost</th>\n",
              "      <th>SVM</th>\n",
              "      <th>Voting</th>\n",
              "      <th>Stacking</th>\n",
              "      <th>DNN</th>\n",
              "      <th>RoBerta</th>\n",
              "      <th>TextCNN</th>\n",
              "    </tr>\n",
              "    <tr>\n",
              "      <th>metric</th>\n",
              "      <th></th>\n",
              "      <th></th>\n",
              "      <th></th>\n",
              "      <th></th>\n",
              "      <th></th>\n",
              "      <th></th>\n",
              "      <th></th>\n",
              "      <th></th>\n",
              "    </tr>\n",
              "  </thead>\n",
              "  <tbody>\n",
              "    <tr>\n",
              "      <th>Accuracy on PAN12 test</th>\n",
              "      <td>98.577949</td>\n",
              "      <td>98.527023</td>\n",
              "      <td>98.560544</td>\n",
              "      <td>98.633387</td>\n",
              "      <td>98.537982</td>\n",
              "      <td>98.042907</td>\n",
              "      <td>98.119617</td>\n",
              "      <td>98.142179</td>\n",
              "    </tr>\n",
              "    <tr>\n",
              "      <th>AUC</th>\n",
              "      <td>92.859180</td>\n",
              "      <td>94.617247</td>\n",
              "      <td>96.964653</td>\n",
              "      <td>96.599648</td>\n",
              "      <td>97.010754</td>\n",
              "      <td>97.720805</td>\n",
              "      <td>98.014320</td>\n",
              "      <td>97.500983</td>\n",
              "    </tr>\n",
              "    <tr>\n",
              "      <th>0.1% FPR Detection</th>\n",
              "      <td>44.447418</td>\n",
              "      <td>41.958790</td>\n",
              "      <td>38.373026</td>\n",
              "      <td>44.929088</td>\n",
              "      <td>38.051913</td>\n",
              "      <td>42.574257</td>\n",
              "      <td>39.443404</td>\n",
              "      <td>52.020337</td>\n",
              "    </tr>\n",
              "    <tr>\n",
              "      <th>1% FPR Detection</th>\n",
              "      <td>61.172063</td>\n",
              "      <td>58.977790</td>\n",
              "      <td>70.216751</td>\n",
              "      <td>69.012577</td>\n",
              "      <td>69.226652</td>\n",
              "      <td>72.732138</td>\n",
              "      <td>64.757827</td>\n",
              "      <td>65.159219</td>\n",
              "    </tr>\n",
              "    <tr>\n",
              "      <th>Inference Time [Min]</th>\n",
              "      <td>0.030517</td>\n",
              "      <td>0.042152</td>\n",
              "      <td>1.074676</td>\n",
              "      <td>1.065741</td>\n",
              "      <td>1.096766</td>\n",
              "      <td>0.198748</td>\n",
              "      <td>53.517760</td>\n",
              "      <td>28.547093</td>\n",
              "    </tr>\n",
              "    <tr>\n",
              "      <th>PervJust Accuracy</th>\n",
              "      <td>98.214286</td>\n",
              "      <td>96.428571</td>\n",
              "      <td>96.428571</td>\n",
              "      <td>98.214286</td>\n",
              "      <td>98.214286</td>\n",
              "      <td>98.214286</td>\n",
              "      <td>100.000000</td>\n",
              "      <td>100.000000</td>\n",
              "    </tr>\n",
              "  </tbody>\n",
              "</table>\n",
              "</div>\n",
              "      <button class=\"colab-df-convert\" onclick=\"convertToInteractive('df-49905f8d-c00c-4503-bc12-e187474702f2')\"\n",
              "              title=\"Convert this dataframe to an interactive table.\"\n",
              "              style=\"display:none;\">\n",
              "        \n",
              "  <svg xmlns=\"http://www.w3.org/2000/svg\" height=\"24px\"viewBox=\"0 0 24 24\"\n",
              "       width=\"24px\">\n",
              "    <path d=\"M0 0h24v24H0V0z\" fill=\"none\"/>\n",
              "    <path d=\"M18.56 5.44l.94 2.06.94-2.06 2.06-.94-2.06-.94-.94-2.06-.94 2.06-2.06.94zm-11 1L8.5 8.5l.94-2.06 2.06-.94-2.06-.94L8.5 2.5l-.94 2.06-2.06.94zm10 10l.94 2.06.94-2.06 2.06-.94-2.06-.94-.94-2.06-.94 2.06-2.06.94z\"/><path d=\"M17.41 7.96l-1.37-1.37c-.4-.4-.92-.59-1.43-.59-.52 0-1.04.2-1.43.59L10.3 9.45l-7.72 7.72c-.78.78-.78 2.05 0 2.83L4 21.41c.39.39.9.59 1.41.59.51 0 1.02-.2 1.41-.59l7.78-7.78 2.81-2.81c.8-.78.8-2.07 0-2.86zM5.41 20L4 18.59l7.72-7.72 1.47 1.35L5.41 20z\"/>\n",
              "  </svg>\n",
              "      </button>\n",
              "      \n",
              "  <style>\n",
              "    .colab-df-container {\n",
              "      display:flex;\n",
              "      flex-wrap:wrap;\n",
              "      gap: 12px;\n",
              "    }\n",
              "\n",
              "    .colab-df-convert {\n",
              "      background-color: #E8F0FE;\n",
              "      border: none;\n",
              "      border-radius: 50%;\n",
              "      cursor: pointer;\n",
              "      display: none;\n",
              "      fill: #1967D2;\n",
              "      height: 32px;\n",
              "      padding: 0 0 0 0;\n",
              "      width: 32px;\n",
              "    }\n",
              "\n",
              "    .colab-df-convert:hover {\n",
              "      background-color: #E2EBFA;\n",
              "      box-shadow: 0px 1px 2px rgba(60, 64, 67, 0.3), 0px 1px 3px 1px rgba(60, 64, 67, 0.15);\n",
              "      fill: #174EA6;\n",
              "    }\n",
              "\n",
              "    [theme=dark] .colab-df-convert {\n",
              "      background-color: #3B4455;\n",
              "      fill: #D2E3FC;\n",
              "    }\n",
              "\n",
              "    [theme=dark] .colab-df-convert:hover {\n",
              "      background-color: #434B5C;\n",
              "      box-shadow: 0px 1px 3px 1px rgba(0, 0, 0, 0.15);\n",
              "      filter: drop-shadow(0px 1px 2px rgba(0, 0, 0, 0.3));\n",
              "      fill: #FFFFFF;\n",
              "    }\n",
              "  </style>\n",
              "\n",
              "      <script>\n",
              "        const buttonEl =\n",
              "          document.querySelector('#df-49905f8d-c00c-4503-bc12-e187474702f2 button.colab-df-convert');\n",
              "        buttonEl.style.display =\n",
              "          google.colab.kernel.accessAllowed ? 'block' : 'none';\n",
              "\n",
              "        async function convertToInteractive(key) {\n",
              "          const element = document.querySelector('#df-49905f8d-c00c-4503-bc12-e187474702f2');\n",
              "          const dataTable =\n",
              "            await google.colab.kernel.invokeFunction('convertToInteractive',\n",
              "                                                     [key], {});\n",
              "          if (!dataTable) return;\n",
              "\n",
              "          const docLinkHtml = 'Like what you see? Visit the ' +\n",
              "            '<a target=\"_blank\" href=https://colab.research.google.com/notebooks/data_table.ipynb>data table notebook</a>'\n",
              "            + ' to learn more about interactive tables.';\n",
              "          element.innerHTML = '';\n",
              "          dataTable['output_type'] = 'display_data';\n",
              "          await google.colab.output.renderOutput(dataTable, element);\n",
              "          const docLink = document.createElement('div');\n",
              "          docLink.innerHTML = docLinkHtml;\n",
              "          element.appendChild(docLink);\n",
              "        }\n",
              "      </script>\n",
              "    </div>\n",
              "  </div>\n",
              "  "
            ]
          },
          "metadata": {},
          "execution_count": 48
        }
      ]
    },
    {
      "cell_type": "code",
      "source": [
        "dat.to_csv('results_df.csv')"
      ],
      "metadata": {
        "id": "yeiMm8QBxarD"
      },
      "execution_count": null,
      "outputs": []
    },
    {
      "cell_type": "code",
      "source": [
        "F1_list"
      ],
      "metadata": {
        "colab": {
          "base_uri": "https://localhost:8080/"
        },
        "id": "Cz7bdFci0ztM",
        "outputId": "2ede758c-2320-4bcd-b179-9a66eb571d13"
      },
      "execution_count": null,
      "outputs": [
        {
          "output_type": "execute_result",
          "data": {
            "text/plain": [
              "['F1_Score',\n",
              " 61.6214335421016,\n",
              " 60.61023961385968,\n",
              " 64.88441578864601,\n",
              " 64.52476572958501,\n",
              " 65.23605150214593,\n",
              " 65.41353383458647,\n",
              " 63.16454097739614,\n",
              " 63.17403526705853]"
            ]
          },
          "metadata": {},
          "execution_count": 30
        }
      ]
    },
    {
      "cell_type": "code",
      "source": [
        ""
      ],
      "metadata": {
        "id": "asPPMbn0120q"
      },
      "execution_count": null,
      "outputs": []
    }
  ]
}