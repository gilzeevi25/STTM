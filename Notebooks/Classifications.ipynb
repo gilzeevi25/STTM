{
  "cells": [
    {
      "cell_type": "code",
      "execution_count": null,
      "metadata": {
        "id": "H3FVBO_KEECc"
      },
      "outputs": [],
      "source": [
        "%%capture\n",
        "!pip install --upgrade matplotlib #relevant as colab's default version doesnt support bar_label attribute\n",
        "# Restart the kernel automatically with upgraded matplotlib\n",
        "import os\n",
        "os.kill(os.getpid(), 9)"
      ],
      "id": "H3FVBO_KEECc"
    },
    {
      "cell_type": "code",
      "execution_count": null,
      "metadata": {
        "colab": {
          "base_uri": "https://localhost:8080/"
        },
        "id": "IWzE2-yfDfjX",
        "outputId": "41e729c8-23d6-4c03-f778-fe6077ba2ed6"
      },
      "outputs": [
        {
          "output_type": "stream",
          "name": "stdout",
          "text": [
            "Mounted at /content/gdrive\n"
          ]
        }
      ],
      "source": [
        "from google.colab import drive\n",
        "drive.mount('/content/gdrive')"
      ],
      "id": "IWzE2-yfDfjX"
    },
    {
      "cell_type": "code",
      "execution_count": null,
      "metadata": {
        "colab": {
          "base_uri": "https://localhost:8080/"
        },
        "id": "cKiDt1yRDkF4",
        "outputId": "c157f052-c758-4ef7-d173-c9342d0fd34d"
      },
      "outputs": [
        {
          "output_type": "stream",
          "name": "stdout",
          "text": [
            "/content/gdrive/MyDrive/STTM\n"
          ]
        }
      ],
      "source": [
        "cd /content/gdrive/MyDrive/STTM"
      ],
      "id": "cKiDt1yRDkF4"
    },
    {
      "cell_type": "code",
      "execution_count": null,
      "metadata": {
        "id": "ecadfa8c"
      },
      "outputs": [],
      "source": [
        "import numpy as np\n",
        "import pandas as pd\n",
        "import xml.etree.ElementTree as ET\n",
        "import datetime\n",
        "import re\n",
        "import csv\n",
        "from sklearn.feature_extraction.text import TfidfVectorizer\n",
        "import scipy\n",
        "from sklearn import svm\n",
        "import matplotlib.pyplot as plt\n",
        "from sklearn import metrics\n",
        "from sklearn.svm import LinearSVC\n",
        "from sklearn.metrics import classification_report\n",
        "from sklearn.ensemble import VotingClassifier\n",
        "from sklearn.metrics import roc_curve,roc_auc_score\n",
        "import lightgbm as lgb\n",
        "import xgboost as xgb\n",
        "import pickle"
      ],
      "id": "ecadfa8c"
    },
    {
      "cell_type": "markdown",
      "source": [
        "inspect which GPU is allocated for the task"
      ],
      "metadata": {
        "id": "8DoVFZys8NMn"
      },
      "id": "8DoVFZys8NMn"
    },
    {
      "cell_type": "code",
      "source": [
        "!nvidia-smi"
      ],
      "metadata": {
        "colab": {
          "base_uri": "https://localhost:8080/"
        },
        "id": "qc0fhXFe8I-t",
        "outputId": "6dc2e82b-1f1b-4d20-d9f0-0a24b2621cff"
      },
      "id": "qc0fhXFe8I-t",
      "execution_count": null,
      "outputs": [
        {
          "output_type": "stream",
          "name": "stdout",
          "text": [
            "Mon Jun 13 21:42:11 2022       \n",
            "+-----------------------------------------------------------------------------+\n",
            "| NVIDIA-SMI 460.32.03    Driver Version: 460.32.03    CUDA Version: 11.2     |\n",
            "|-------------------------------+----------------------+----------------------+\n",
            "| GPU  Name        Persistence-M| Bus-Id        Disp.A | Volatile Uncorr. ECC |\n",
            "| Fan  Temp  Perf  Pwr:Usage/Cap|         Memory-Usage | GPU-Util  Compute M. |\n",
            "|                               |                      |               MIG M. |\n",
            "|===============================+======================+======================|\n",
            "|   0  Tesla P100-PCIE...  Off  | 00000000:00:04.0 Off |                    0 |\n",
            "| N/A   38C    P0    26W / 250W |      0MiB / 16280MiB |      0%      Default |\n",
            "|                               |                      |                  N/A |\n",
            "+-------------------------------+----------------------+----------------------+\n",
            "                                                                               \n",
            "+-----------------------------------------------------------------------------+\n",
            "| Processes:                                                                  |\n",
            "|  GPU   GI   CI        PID   Type   Process name                  GPU Memory |\n",
            "|        ID   ID                                                   Usage      |\n",
            "|=============================================================================|\n",
            "|  No running processes found                                                 |\n",
            "+-----------------------------------------------------------------------------+\n"
          ]
        }
      ]
    },
    {
      "cell_type": "markdown",
      "metadata": {
        "id": "e3ff5750"
      },
      "source": [
        "# Building a corpus of concatenated conversations between users\n",
        "each row in data corpus stands for a complete chat between users"
      ],
      "id": "e3ff5750"
    },
    {
      "cell_type": "code",
      "execution_count": null,
      "metadata": {
        "id": "S955axt5LqA-"
      },
      "outputs": [],
      "source": [
        "import string as string_lib\n",
        "regular_punct = list(string_lib.punctuation)\n",
        "extra_punct = [\n",
        "    ',', '.', '\"', ':', ')', '(', '!', '?', '|', ';', \"'\", '$', '&',\n",
        "    '/', '[', ']', '>', '%', '=', '#', '*', '+', '\\\\', '•',  '~', '@', '£',\n",
        "    '·', '_', '{', '}', '©', '^', '®', '`',  '<', '→', '°', '€', '™', '›',\n",
        "    '♥', '←', '×', '§', '″', '′', 'Â', '█', '½', 'à', '…', '“', '★', '”',\n",
        "    '–', '●', 'â', '►', '−', '¢', '²', '¬', '░', '¶', '↑', '±', '¿', '▾',\n",
        "    '═', '¦', '║', '―', '¥', '▓', '—', '‹', '─', '▒', '：', '¼', '⊕', '▼',\n",
        "    '▪', '†', '■', '’', '▀', '¨', '▄', '♫', '☆', 'é', '¯', '♦', '¤', '▲',\n",
        "    'è', '¸', '¾', 'Ã', '⋅', '‘', '∞', '∙', '）', '↓', '、', '│', '（', '»',\n",
        "    '，', '♪', '╩', '╚', '³', '・', '╦', '╣', '╔', '╗', '▬', '❤', 'ï', 'Ø',\n",
        "    '¹', '≤', '‡', '√', '«', '»', '´', 'º', '¾', '¡', '§', '£', '₤']\n",
        "\n",
        "all_punct = list(set(regular_punct + extra_punct))\n",
        "def spacing_punctuation(text):\n",
        "    for punc in all_punct:\n",
        "        if punc in text:\n",
        "            text = text.replace(punc, f' {punc} ')\n",
        "    return text\n",
        "contraction_mapping = {\"ain't\": \"is not\", \"aren't\": \"are not\",\"can't\": \"cannot\", \"'cause\": \"because\", \"could've\": \"could have\", \"couldn't\": \"could not\", \"didn't\": \"did not\",  \"doesn't\": \"does not\", \"don't\": \"do not\", \"hadn't\": \"had not\", \"hasn't\": \"has not\", \"haven't\": \"have not\", \"he'd\": \"he would\",\"he'll\": \"he will\", \"he's\": \"he is\", \"how'd\": \"how did\", \"how'd'y\": \"how do you\", \"how'll\": \"how will\", \"how's\": \"how is\",  \"I'd\": \"I would\", \"I'd've\": \"I would have\", \"I'll\": \"I will\", \"I'll've\": \"I will have\",\"I'm\": \"I am\", \"I've\": \"I have\", \"i'd\": \"i would\", \"i'd've\": \"i would have\", \"i'll\": \"i will\",  \"i'll've\": \"i will have\",\"i'm\": \"i am\", \"i've\": \"i have\", \"isn't\": \"is not\", \"it'd\": \"it would\", \"it'd've\": \"it would have\", \"it'll\": \"it will\", \"it'll've\": \"it will have\",\"it's\": \"it is\", \"let's\": \"let us\", \"ma'am\": \"madam\", \"mayn't\": \"may not\", \"might've\": \"might have\",\"mightn't\": \"might not\",\"mightn't've\": \"might not have\", \"must've\": \"must have\", \"mustn't\": \"must not\", \"mustn't've\": \"must not have\", \"needn't\": \"need not\", \"needn't've\": \"need not have\",\"o'clock\": \"of the clock\", \"oughtn't\": \"ought not\", \"oughtn't've\": \"ought not have\", \"shan't\": \"shall not\", \"sha'n't\": \"shall not\", \"shan't've\": \"shall not have\", \"she'd\": \"she would\", \"she'd've\": \"she would have\", \"she'll\": \"she will\", \"she'll've\": \"she will have\", \"she's\": \"she is\", \"should've\": \"should have\", \"shouldn't\": \"should not\", \"shouldn't've\": \"should not have\", \"so've\": \"so have\",\"so's\": \"so as\", \"this's\": \"this is\",\"that'd\": \"that would\", \"that'd've\": \"that would have\", \"that's\": \"that is\", \"there'd\": \"there would\", \"there'd've\": \"there would have\", \"there's\": \"there is\", \"here's\": \"here is\",\"they'd\": \"they would\", \"they'd've\": \"they would have\", \"they'll\": \"they will\", \"they'll've\": \"they will have\", \"they're\": \"they are\", \"they've\": \"they have\", \"to've\": \"to have\", \"wasn't\": \"was not\", \"we'd\": \"we would\", \"we'd've\": \"we would have\", \"we'll\": \"we will\", \"we'll've\": \"we will have\", \"we're\": \"we are\", \"we've\": \"we have\", \"weren't\": \"were not\", \"what'll\": \"what will\", \"what'll've\": \"what will have\", \"what're\": \"what are\",  \"what's\": \"what is\", \"what've\": \"what have\", \"when's\": \"when is\", \"when've\": \"when have\", \"where'd\": \"where did\", \"where's\": \"where is\", \"where've\": \"where have\", \"who'll\": \"who will\", \"who'll've\": \"who will have\", \"who's\": \"who is\", \"who've\": \"who have\", \"why's\": \"why is\", \"why've\": \"why have\", \"will've\": \"will have\", \"won't\": \"will not\", \"won't've\": \"will not have\", \"would've\": \"would have\", \"wouldn't\": \"would not\", \"wouldn't've\": \"would not have\", \"y'all\": \"you all\", \"y'all'd\": \"you all would\",\"y'all'd've\": \"you all would have\",\"y'all're\": \"you all are\",\"y'all've\": \"you all have\",\"you'd\": \"you would\", \"you'd've\": \"you would have\", \"you'll\": \"you will\", \"you'll've\": \"you will have\", \"you're\": \"you are\", \"you've\": \"you have\" }\n",
        "\n",
        "def clean_contractions(text, mapping):\n",
        "    specials = [\"’\", \"‘\", \"´\", \"`\"]\n",
        "    for s in specials:\n",
        "        text = text.replace(s, \"'\")\n",
        "    text = ' '.join([mapping[t] if t in mapping else t for t in text.split(\" \")])\n",
        "    return text\n",
        "def remove_url(text):\n",
        "    text = re.sub(r'http\\S+', '', text)\n",
        "    text = re.sub(r'www\\S+', '', text)    \n",
        "    return text\n",
        "def preprocess_text(text,mapping = contraction_mapping):\n",
        "    text=remove_url(text)\n",
        "    text=clean_contractions(text, mapping)\n",
        "    text=spacing_punctuation(text)\n",
        "    return text\n"
      ],
      "id": "S955axt5LqA-"
    },
    {
      "cell_type": "code",
      "execution_count": null,
      "metadata": {
        "id": "656f1612"
      },
      "outputs": [],
      "source": [
        "def get_labels_dict(data_path):\n",
        "    labels_dict = {}\n",
        "    with open(data_path + 'sci_labels.csv', 'r') as f:\n",
        "        file = csv.reader(f)\n",
        "        for row in file:\n",
        "            labels_dict[row[0]] = row[1]\n",
        "    return labels_dict\n",
        "\n",
        "\n",
        "def get_features_labels(root, labels_dict):\n",
        "    corpus = [] # each row is a string formed from all messages in a conversations\n",
        "    labels = [] # each row is 0 or 1, corresponds to label for same row in corpus\n",
        "\n",
        "    for conversation in root:\n",
        "        string = \" \"\n",
        "        for message in conversation:\n",
        "            text = message.find('text').text\n",
        "            if text is not None:\n",
        "                #preprocess:\n",
        "                # text = preprocess_text(text)\n",
        "                string = string + \"\\r\\n\" + text \n",
        "        corpus.append(string)\n",
        "        labels.append(int(labels_dict[conversation.get('id')]))\n",
        "    return corpus, labels"
      ],
      "id": "656f1612"
    },
    {
      "cell_type": "code",
      "execution_count": null,
      "metadata": {
        "id": "2fff415f"
      },
      "outputs": [],
      "source": [
        "train_data_path = \"data/pan12-sexual-predator-identification-training-corpus-2012-05-01/\"\n",
        "\n",
        "training_xml = ET.parse(train_data_path + 'training_data.xml')\n",
        "train_root = training_xml.getroot()\n",
        "\n",
        "test_data_path = 'data/pan12-sexual-predator-identification-test-corpus-2012-05-21/'\n",
        "test_xml = ET.parse(test_data_path + 'pan12-sexual-predator-identification-test-corpus-2012-05-17.xml')\n",
        "test_root = test_xml.getroot()\n",
        "\n",
        "train_corpus, train_labels = get_features_labels(train_root, get_labels_dict(train_data_path))\n",
        "test_corpus, test_labels = get_features_labels(test_root, get_labels_dict(test_data_path))"
      ],
      "id": "2fff415f"
    },
    {
      "cell_type": "code",
      "execution_count": null,
      "metadata": {
        "id": "0670fc79",
        "scrolled": true
      },
      "outputs": [],
      "source": [
        "fig, (ax1, ax2) = plt.subplots(1, 2)\n",
        "ax = (pd.Series(train_labels).value_counts()/len(train_labels)*100).round(2).plot(kind='bar',title='Train labels distribution',ax= ax1)\n",
        "ax.bar_label(ax1.containers[0])\n",
        "ax = (pd.Series(test_labels).value_counts()/len(test_labels)*100).round(2).plot(kind='bar',title='Test labels distribution',ax=ax2)\n",
        "ax.bar_label(ax2.containers[0])\n",
        "ax1.tick_params(axis='x', rotation=0)\n",
        "ax2.tick_params(axis='x', rotation=0)\n",
        "plt.show()"
      ],
      "id": "0670fc79"
    },
    {
      "cell_type": "markdown",
      "metadata": {
        "id": "a3351725"
      },
      "source": [
        "# TF-IDF on data\n",
        "We will now represent all conversations using BOW with TF-IDF weighting scheme."
      ],
      "id": "a3351725"
    },
    {
      "cell_type": "code",
      "execution_count": null,
      "metadata": {
        "id": "NkWvng46gm_x"
      },
      "outputs": [],
      "source": [
        "%%capture\n",
        "!pip -q install stop-words"
      ],
      "id": "NkWvng46gm_x"
    },
    {
      "cell_type": "code",
      "execution_count": null,
      "metadata": {
        "id": "cBMAFVXIgsJn"
      },
      "outputs": [],
      "source": [
        "from wordcloud import WordCloud, STOPWORDS\n",
        "from stop_words import get_stop_words #The words we want to ignore\n",
        "\n",
        "stop_words_eng = get_stop_words('en') #Spanish StopWords\n",
        "stops = list(set(stop_words_eng + list(STOPWORDS)))\n",
        "stops.extend(['\\r\\n','\\r','\\n','ye','apos'])"
      ],
      "id": "cBMAFVXIgsJn"
    },
    {
      "cell_type": "code",
      "execution_count": null,
      "metadata": {
        "id": "13c3f097"
      },
      "outputs": [],
      "source": [
        "# vectorizer = TfidfVectorizer(stop_words=stops,ngram_range=(1,3))\n",
        "vectorizer = TfidfVectorizer()\n",
        "X_train = vectorizer.fit_transform(train_corpus)\n",
        "X_test = vectorizer.transform(test_corpus)\n",
        "\n",
        "X_train = scipy.sparse.csr_matrix(X_train)\n",
        "y_train = np.array(train_labels)\n",
        "X_test = scipy.sparse.csr_matrix(X_test)\n",
        "y_test = np.array(test_labels)"
      ],
      "id": "13c3f097"
    },
    {
      "cell_type": "markdown",
      "metadata": {
        "id": "6b770f0d"
      },
      "source": [
        "# Create PJ dataset as test set on trained corpus"
      ],
      "id": "6b770f0d"
    },
    {
      "cell_type": "code",
      "execution_count": null,
      "metadata": {
        "id": "aeafc2e3"
      },
      "outputs": [],
      "source": [
        "from os import listdir\n",
        "from os.path import isfile, join\n",
        "import warnings\n",
        "mypath = 'GeneralData'\n",
        "onlyfiles = [f for f in listdir(mypath) if isfile(join(mypath, f))]\n",
        "onlyfiles.remove('chatlog.dtd')\n"
      ],
      "id": "aeafc2e3"
    },
    {
      "cell_type": "code",
      "execution_count": null,
      "metadata": {
        "id": "834ad492"
      },
      "outputs": [],
      "source": [
        "corpus_pj = [] # each row is a string formed from all messages in a conversations\n",
        "labels_pj = [] # each row is 0 or 1, corresponds to label for same row in corpus\n",
        "for file in onlyfiles:\n",
        "    df= pd.read_xml(f'GeneralData/{file}').drop(columns=['COMMENT'])\n",
        "    df=df[~df['BODY'].isna()]\n",
        "    df=df[~df['USERNAME'].isna()]\n",
        "    string = \" \"\n",
        "    for text in df.BODY.tolist():\n",
        "        if text is not None:\n",
        "            #preprocess:\n",
        "            #preprocess:\n",
        "            # text = preprocess_text(text)\n",
        "            string = string + \"\\r\\n\" + text \n",
        "    corpus_pj.append(string)\n",
        "    labels_pj.append(1)"
      ],
      "id": "834ad492"
    },
    {
      "cell_type": "code",
      "execution_count": null,
      "metadata": {
        "id": "ab987e04"
      },
      "outputs": [],
      "source": [
        "#transform it with TF-IDF based on the trained corpus\n",
        "X_test_pj = vectorizer.transform(corpus_pj)\n",
        "X_test_pj = scipy.sparse.csr_matrix(X_test_pj)#[:,best_feat]\n",
        "y_test_pj = np.array(labels_pj)"
      ],
      "id": "ab987e04"
    },
    {
      "cell_type": "markdown",
      "metadata": {
        "id": "sKxmHGngmDg3"
      },
      "source": [
        "#LightGBM model classification"
      ],
      "id": "sKxmHGngmDg3"
    },
    {
      "cell_type": "code",
      "execution_count": null,
      "metadata": {
        "colab": {
          "base_uri": "https://localhost:8080/"
        },
        "id": "75510ff7",
        "outputId": "582a9509-437d-4ed4-a1e1-b7748b8b582f"
      },
      "outputs": [
        {
          "output_type": "stream",
          "name": "stdout",
          "text": [
            "0.9857794853282451\n",
            "0.9821428571428571\n"
          ]
        },
        {
          "output_type": "execute_result",
          "data": {
            "text/plain": [
              "(array([0, 1]), array([ 1, 55]))"
            ]
          },
          "metadata": {},
          "execution_count": 14
        }
      ],
      "source": [
        "import lightgbm as lgb\n",
        "modelgbm = lgb.LGBMClassifier(learning_rate=0.09,max_depth=-5,random_state=42)\n",
        "modelgbm.fit(X_train, y_train)\n",
        "pred_y = modelgbm.predict(X_test)\n",
        "print(metrics.accuracy_score(y_test, pred_y))\n",
        "# try on PJ dataset:\n",
        "pred_y = modelgbm.predict(X_test_pj)\n",
        "print(metrics.accuracy_score(y_test_pj, pred_y))\n",
        "np.unique(pred_y,return_counts=True)"
      ],
      "id": "75510ff7"
    },
    {
      "cell_type": "markdown",
      "metadata": {
        "id": "RreVbcCqlX8J"
      },
      "source": [
        "# XGBoost model classification"
      ],
      "id": "RreVbcCqlX8J"
    },
    {
      "cell_type": "code",
      "execution_count": null,
      "metadata": {
        "colab": {
          "base_uri": "https://localhost:8080/"
        },
        "id": "34sEYJ_P82xj",
        "outputId": "9be61c0f-8591-43ae-d969-1de6137c0bef"
      },
      "outputs": [
        {
          "output_type": "stream",
          "name": "stdout",
          "text": [
            "Accuracy on PAN12 test dataset:  98.52702284565005\n",
            "Accuracy on PJ test dataset:  96.42857142857143\n"
          ]
        },
        {
          "output_type": "execute_result",
          "data": {
            "text/plain": [
              "(array([0, 1]), array([ 2, 54]))"
            ]
          },
          "metadata": {},
          "execution_count": 15
        }
      ],
      "source": [
        "np.random.seed(12)\n",
        "model_b = xgb.XGBClassifier(eval_metric='logloss',use_label_encoder=False, learning_rate = 0.3, n_estimators=1000, max_depth=4,\n",
        " min_child_weight=0, gamma=0.4, subsample=0.8, colsample_bytree=0.8,\n",
        " objective= 'binary:logistic', nthread=8, scale_pos_weight=1,seed=27, reg_alpha= 1e-07)\n",
        "model_b.fit(X_train, y_train)\n",
        "pred_y = model_b.predict(X_test)\n",
        "print('Accuracy on PAN12 test dataset: ',metrics.accuracy_score(y_test, pred_y)*100)\n",
        "# try on PJ dataset:\n",
        "pred_y = model_b.predict(X_test_pj)\n",
        "print('Accuracy on PJ test dataset: ',metrics.accuracy_score(y_test_pj, pred_y)*100)\n",
        "np.unique(pred_y,return_counts=True)"
      ],
      "id": "34sEYJ_P82xj"
    },
    {
      "cell_type": "code",
      "execution_count": null,
      "metadata": {
        "id": "1c3d8997"
      },
      "outputs": [],
      "source": [
        "np.random.seed(12)\n",
        "model_b = xgb.XGBClassifier(eval_metric='logloss',use_label_encoder=False)\n",
        "model_b.fit(X_train, y_train)\n",
        "pred_y = model_b.predict(X_test)\n",
        "print('Accuracy on PAN12 test dataset: ',metrics.accuracy_score(y_test, pred_y)*100)\n",
        "# try on PJ dataset:\n",
        "pred_y = model_b.predict(X_test_pj)\n",
        "print('Accuracy on PJ test dataset: ',metrics.accuracy_score(y_test_pj, pred_y)*100)\n",
        "np.unique(pred_y,return_counts=True)"
      ],
      "id": "1c3d8997"
    },
    {
      "cell_type": "markdown",
      "metadata": {
        "id": "5Fi5kknSmx8t"
      },
      "source": [
        "try with best features to achieve higher accuracy on test sets"
      ],
      "id": "5Fi5kknSmx8t"
    },
    {
      "cell_type": "code",
      "execution_count": null,
      "metadata": {
        "colab": {
          "base_uri": "https://localhost:8080/"
        },
        "id": "62512fdb",
        "outputId": "c0e0efcf-20d6-44f3-dc48-454eb675f4b7"
      },
      "outputs": [
        {
          "name": "stdout",
          "output_type": "stream",
          "text": [
            "Accuracy on PAN12 test dataset:  98.49608065597441\n",
            "Accuracy on PJ test dataset:  96.42857142857143\n"
          ]
        },
        {
          "data": {
            "text/plain": [
              "(array([0, 1]), array([ 2, 54]))"
            ]
          },
          "execution_count": 13,
          "metadata": {},
          "output_type": "execute_result"
        }
      ],
      "source": [
        "best_feat = pd.Series(model_b.feature_importances_).sort_values(ascending=False).nlargest(155).index.tolist()\n",
        "model_best_feat = xgb.XGBClassifier(eval_metric='logloss',use_label_encoder=False)\n",
        "model_best_feat.fit(X_train[:,best_feat], y_train)\n",
        "pred_y = model_best_feat.predict(X_test[:,best_feat])\n",
        "print('Accuracy on PAN12 test dataset: ',metrics.accuracy_score(y_test, pred_y)*100)\n",
        "#transform it with TF-IDF based on the trained corpus\n",
        "X_test_pj = vectorizer.transform(corpus_pj)\n",
        "X_test_pj = scipy.sparse.csr_matrix(X_test_pj)\n",
        "X_test_pj =X_test_pj[:,best_feat]\n",
        "y_test_pj = np.array(labels_pj)\n",
        "# try on PJ dataset:\n",
        "pred_y = model_best_feat.predict(X_test_pj)\n",
        "print('Accuracy on PJ test dataset: ',metrics.accuracy_score(y_test_pj, pred_y)*100)\n",
        "np.unique(pred_y,return_counts=True)"
      ],
      "id": "62512fdb"
    },
    {
      "cell_type": "markdown",
      "metadata": {
        "id": "d_SYzUxso1NK"
      },
      "source": [
        "# Applying SVM "
      ],
      "id": "d_SYzUxso1NK"
    },
    {
      "cell_type": "markdown",
      "metadata": {
        "id": "C3X5iqg4pIwS"
      },
      "source": [
        "Linear support"
      ],
      "id": "C3X5iqg4pIwS"
    },
    {
      "cell_type": "code",
      "execution_count": null,
      "metadata": {
        "colab": {
          "base_uri": "https://localhost:8080/"
        },
        "id": "37b911de",
        "outputId": "4f8455ac-7622-4304-af5b-ce57beab69f9"
      },
      "outputs": [
        {
          "output_type": "stream",
          "name": "stdout",
          "text": [
            "Accuracy on PAN12 test dataset:  98.51026249290908\n",
            "Accuracy on PJ test dataset:  98.21428571428571\n"
          ]
        },
        {
          "output_type": "execute_result",
          "data": {
            "text/plain": [
              "(array([0, 1]), array([ 1, 55]))"
            ]
          },
          "metadata": {},
          "execution_count": 16
        }
      ],
      "source": [
        "#SVM\n",
        "model_linear = LinearSVC(random_state=0, C=2.9, loss='squared_hinge', dual=True)\n",
        "model_linear.fit(X_train, y_train)\n",
        "pred_y = model_linear.predict(X_test)\n",
        "print('Accuracy on PAN12 test dataset: ',metrics.accuracy_score(y_test, pred_y)*100)\n",
        "X_test_pj = vectorizer.transform(corpus_pj)\n",
        "X_test_pj = scipy.sparse.csr_matrix(X_test_pj)\n",
        "X_test_pj =X_test_pj\n",
        "y_test_pj = np.array(labels_pj)\n",
        "# try on PJ dataset:\n",
        "pred_y = model_linear.predict(X_test_pj)\n",
        "print('Accuracy on PJ test dataset: ',metrics.accuracy_score(y_test_pj, pred_y)*100)\n",
        "np.unique(pred_y,return_counts=True)"
      ],
      "id": "37b911de"
    },
    {
      "cell_type": "markdown",
      "metadata": {
        "id": "igmU8zHJpoM4"
      },
      "source": [
        "C-Support Vector"
      ],
      "id": "igmU8zHJpoM4"
    },
    {
      "cell_type": "code",
      "execution_count": null,
      "metadata": {
        "colab": {
          "base_uri": "https://localhost:8080/"
        },
        "id": "cd5cf266",
        "outputId": "95cab387-bed6-4db7-f25f-fc958029cdf1"
      },
      "outputs": [
        {
          "output_type": "stream",
          "name": "stdout",
          "text": [
            "Accuracy on PAN12 test dataset:  98.56054355113197\n",
            "Accuracy on PJ test dataset:  96.42857142857143\n"
          ]
        },
        {
          "output_type": "execute_result",
          "data": {
            "text/plain": [
              "(array([0, 1]), array([ 2, 54]))"
            ]
          },
          "metadata": {},
          "execution_count": 17
        }
      ],
      "source": [
        "# linear kernel SVM \n",
        "model_svc = svm.SVC(kernel='linear', C=1, gamma='auto', random_state=0,probability=True)\n",
        "model_svc.fit(X_train, y_train)\n",
        "pred_y = model_svc.predict(X_test)\n",
        "print('Accuracy on PAN12 test dataset: ',metrics.accuracy_score(y_test, pred_y)*100)\n",
        "X_test_pj = vectorizer.transform(corpus_pj)\n",
        "X_test_pj = scipy.sparse.csr_matrix(X_test_pj)\n",
        "X_test_pj =X_test_pj\n",
        "y_test_pj = np.array(labels_pj)\n",
        "# try on PJ dataset:\n",
        "pred_y = model_svc.predict(X_test_pj)\n",
        "print('Accuracy on PJ test dataset: ',metrics.accuracy_score(y_test_pj, pred_y)*100)\n",
        "np.unique(pred_y,return_counts=True)"
      ],
      "id": "cd5cf266"
    },
    {
      "cell_type": "markdown",
      "metadata": {
        "id": "BM7A0M293-RJ"
      },
      "source": [
        "# SVM improvemets"
      ],
      "id": "BM7A0M293-RJ"
    },
    {
      "cell_type": "code",
      "execution_count": null,
      "metadata": {
        "id": "mUx2CNhC4GBf"
      },
      "outputs": [],
      "source": [
        "#eclf = VotingClassifier(estimators=[('linear', xgb.XGBClassifier(eval_metric='logloss',use_label_encoder=False)), ('svc', model_svc),])#, voting='soft', weights=[1, 1]) with soft the test acc is 98.589 and pj is 98.214\n",
        "eclf = VotingClassifier(estimators=[('linear', lgb.LGBMClassifier(learning_rate=0.09,max_depth=-5,random_state=42)), ('svc', svm.SVC(kernel='linear', C=1, gamma='auto', random_state=0,probability=True))],voting='soft', weights=[1, 1])#, voting='soft', weights=[1, 1]) with soft the test acc is 98.589 and pj is 98.214\n",
        "eclf.fit(X_train, y_train)\n",
        "pred_y =eclf.predict(X_test)\n",
        "print('Accuracy on PAN12 test dataset: ',metrics.accuracy_score(y_test, pred_y)*100)\n",
        "# X_test_pj = vectorizer.transform(corpus_pj)\n",
        "# X_test_pj = scipy.sparse.csr_matrix(X_test_pj)\n",
        "# X_test_pj =X_test_pj\n",
        "# y_test_pj = np.array(labels_pj)\n",
        "# try on PJ dataset:\n",
        "pred_y = eclf.predict(X_test_pj)\n",
        "print('Accuracy on PJ test dataset: ',metrics.accuracy_score(y_test_pj, pred_y)*100)\n",
        "np.unique(pred_y,return_counts=True)"
      ],
      "id": "mUx2CNhC4GBf"
    },
    {
      "cell_type": "code",
      "execution_count": null,
      "metadata": {
        "id": "VvJL3hfL6Vcy"
      },
      "outputs": [],
      "source": [
        "from sklearn.ensemble import RandomForestClassifier\n",
        "from sklearn.svm import LinearSVC\n",
        "from sklearn.linear_model import LogisticRegression\n",
        "from sklearn.preprocessing import StandardScaler\n",
        "from sklearn.pipeline import make_pipeline\n",
        "from sklearn.ensemble import StackingClassifier\n",
        "\n",
        "estimators = [\n",
        "    ('sv,', svm.SVC(kernel='linear', C=1, gamma='auto', random_state=0,probability=True)),\n",
        "     ('svtwo', LinearSVC(random_state=0, C=2.9, loss='squared_hinge', dual=True)),\n",
        "     ('xgb',xgb.XGBClassifier(eval_metric='logloss',use_label_encoder=False)),\n",
        "      ('linear', lgb.LGBMClassifier(learning_rate=0.09,max_depth=-5,random_state=42))]\n",
        "clf = StackingClassifier(\n",
        "     estimators=estimators, final_estimator=LogisticRegression())\n",
        "clf.fit(X_train, y_train)\n",
        "pred_y =clf.predict(X_test)\n",
        "print('Accuracy on PAN12 test dataset: ',metrics.accuracy_score(y_test, pred_y)*100)\n",
        "pred_y = clf.predict(X_test_pj)\n",
        "print('Accuracy on PJ test dataset: ',metrics.accuracy_score(y_test_pj, pred_y)*100)\n",
        "np.unique(pred_y,return_counts=True)"
      ],
      "id": "VvJL3hfL6Vcy"
    },
    {
      "cell_type": "code",
      "execution_count": null,
      "metadata": {
        "id": "17c85d8f"
      },
      "outputs": [],
      "source": [
        "from sklearn.metrics import classification_report"
      ],
      "id": "17c85d8f"
    },
    {
      "cell_type": "code",
      "execution_count": null,
      "metadata": {
        "colab": {
          "base_uri": "https://localhost:8080/"
        },
        "id": "b6cc7542",
        "outputId": "b54b6e36-e382-4246-e576-856572f67061"
      },
      "outputs": [
        {
          "name": "stdout",
          "output_type": "stream",
          "text": [
            "              precision    recall  f1-score   support\n",
            "\n",
            "      Victim       0.99      1.00      0.99    151391\n",
            "    Predator       0.76      0.55      0.64      3737\n",
            "\n",
            "    accuracy                           0.99    155128\n",
            "   macro avg       0.88      0.77      0.82    155128\n",
            "weighted avg       0.98      0.99      0.98    155128\n",
            "\n"
          ]
        }
      ],
      "source": [
        "target_names = ['Victim', 'Predator']\n",
        "print(classification_report(y_test, pred_y, target_names=target_names))"
      ],
      "id": "b6cc7542"
    },
    {
      "cell_type": "markdown",
      "metadata": {
        "id": "9Ugcx-pzQIJy"
      },
      "source": [
        "# Applying CNN"
      ],
      "id": "9Ugcx-pzQIJy"
    },
    {
      "cell_type": "code",
      "execution_count": null,
      "metadata": {
        "id": "GAZXoZU4QMpd"
      },
      "outputs": [],
      "source": [
        "import tensorflow as tf\n",
        "from keras.layers import Dense, Conv1D, Activation, Input, Embedding, Multiply,SpatialDropout1D,Dropout,MaxPooling1D,Flatten\n",
        "from keras.models import Model"
      ],
      "id": "GAZXoZU4QMpd"
    },
    {
      "cell_type": "code",
      "execution_count": null,
      "metadata": {
        "id": "GekkTi_GRKQu"
      },
      "outputs": [],
      "source": [
        "vectorizer = TfidfVectorizer()\n",
        "X_train = vectorizer.fit_transform(train_corpus).astype('float32')\n",
        "X_test = vectorizer.transform(test_corpus).astype('float32')\n",
        "tf_len = len(vectorizer.vocabulary_)\n",
        "X_train = scipy.sparse.csr_matrix(X_train)\n",
        "y_train = np.array(train_labels)\n",
        "X_test = scipy.sparse.csr_matrix(X_test)\n",
        "y_test = np.array(test_labels)\n",
        "##pj -data \n",
        "X_test_pj = vectorizer.transform(corpus_pj)\n",
        "X_test_pj = scipy.sparse.csr_matrix(X_test_pj)#[:,best_feat]\n",
        "y_test_pj = np.array(labels_pj)"
      ],
      "id": "GekkTi_GRKQu"
    },
    {
      "cell_type": "code",
      "execution_count": null,
      "metadata": {
        "id": "LAaL4Z-cesaT"
      },
      "outputs": [],
      "source": [
        "def reshape_to_cnn(mat):\n",
        "  return mat.toarray().reshape(mat.shape[0], mat.shape[1],1) "
      ],
      "id": "LAaL4Z-cesaT"
    },
    {
      "cell_type": "code",
      "execution_count": null,
      "metadata": {
        "id": "dnhlbrf4h-d0"
      },
      "outputs": [],
      "source": [
        "def csr_to_sparsetensor(X):\n",
        "    t = X.nonzero()\n",
        "    a2 = []\n",
        "    for i in range(len(t[0])):\n",
        "        a2.append([t[0][i], t[1][i]])\n",
        "    a2 = sorted(a2,key=lambda x: (x[0],x[1]))\n",
        "    return tf.compat.v1.SparseTensorValue(a2, X.data, list(X.shape))\n"
      ],
      "id": "dnhlbrf4h-d0"
    },
    {
      "cell_type": "code",
      "execution_count": null,
      "metadata": {
        "id": "SCebtO8BWoEa"
      },
      "outputs": [],
      "source": [
        "from keras import backend as K \n",
        "\n",
        "# Do some code, e.g. train and save model\n",
        "\n",
        "K.clear_session()"
      ],
      "id": "SCebtO8BWoEa"
    },
    {
      "cell_type": "code",
      "execution_count": null,
      "metadata": {
        "id": "i1v_-iV6QnAq"
      },
      "outputs": [],
      "source": [
        "input = Input(batch_shape=(None, tf_len, 1))#Input(shape=(1,tf_len))  \n",
        "drop20 = SpatialDropout1D(0.3)(input)\n",
        "conv2 = Conv1D(filters=128, kernel_size=5, activation='relu')(drop20)\n",
        "drop21 = Dropout(0.5)(conv2)\n",
        "conv22 = Conv1D(filters=64, kernel_size=5, activation='relu')(drop21)\n",
        "drop22 = Dropout(0.5)(conv22)\n",
        "pool2 = MaxPooling1D(pool_size=2)(drop22)\n",
        "flat2 = Flatten()(pool2)\n",
        "out = Dense(1, activation='sigmoid')(flat2)\n",
        "\n",
        "model = Model(input, out)\n",
        "model.compile(loss='binary_crossentropy', optimizer='adam', metrics=['accuracy'])\n",
        "# model.summary()"
      ],
      "id": "i1v_-iV6QnAq"
    },
    {
      "cell_type": "code",
      "execution_count": null,
      "metadata": {
        "id": "ynEbuZJjacH5"
      },
      "outputs": [],
      "source": [
        "model.fit(reshape_to_cnn(X_train), y_train,\n",
        "                batch_size=256, shuffle=\"batch\",\n",
        "                epochs=3)"
      ],
      "id": "ynEbuZJjacH5"
    },
    {
      "cell_type": "code",
      "execution_count": null,
      "metadata": {
        "id": "_Xm_Z1VqfBpb"
      },
      "outputs": [],
      "source": [
        "pred_y = model.predict(reshape_to_cnn(X_test_pj))"
      ],
      "id": "_Xm_Z1VqfBpb"
    },
    {
      "cell_type": "code",
      "execution_count": null,
      "metadata": {
        "colab": {
          "base_uri": "https://localhost:8080/"
        },
        "id": "B7sA4J9nfLWy",
        "outputId": "713f1432-d173-4c91-9484-a6453e13aac6"
      },
      "outputs": [
        {
          "name": "stdout",
          "output_type": "stream",
          "text": [
            "Accuracy on PJ test dataset:  0.0\n"
          ]
        }
      ],
      "source": [
        "print('Accuracy on PJ test dataset: ',metrics.accuracy_score(labels_pj, np.round(pred_y).flatten())*100)"
      ],
      "id": "B7sA4J9nfLWy"
    },
    {
      "cell_type": "markdown",
      "metadata": {
        "id": "nDBNHcFRjxxo"
      },
      "source": [
        "# Applying DeepNN"
      ],
      "id": "nDBNHcFRjxxo"
    },
    {
      "cell_type": "code",
      "execution_count": null,
      "metadata": {
        "id": "SgdzV8yHkHyH"
      },
      "outputs": [],
      "source": [
        "from sklearn.multiclass import OneVsRestClassifier\n",
        "from keras.models import Sequential\n",
        "from keras.layers import Dense, Dropout\n",
        "# from keras.wrappers.scikit_learn import KerasClassifier\n",
        "from keras.utils import np_utils\n",
        "import random as python_random\n",
        "import tensorflow as tf"
      ],
      "id": "SgdzV8yHkHyH"
    },
    {
      "cell_type": "code",
      "execution_count": null,
      "metadata": {
        "id": "CG30Q5iiAkv8"
      },
      "outputs": [],
      "source": [
        "from keras import backend as K \n",
        "\n",
        "# Do some code, e.g. train and save model\n",
        "\n",
        "K.clear_session()"
      ],
      "id": "CG30Q5iiAkv8"
    },
    {
      "cell_type": "code",
      "execution_count": null,
      "metadata": {
        "id": "uw6zJBrM8TAL"
      },
      "outputs": [],
      "source": [
        "# vectorizer = TfidfVectorizer()\n",
        "vectorizer = TfidfVectorizer()\n",
        "\n",
        "# PAN12 data\n",
        "X_train = vectorizer.fit_transform(train_corpus).astype('float16')\n",
        "X_test = vectorizer.transform(test_corpus).astype('float16')\n",
        "y_train = np.array(train_labels)\n",
        "y_test = np.array(test_labels)\n",
        "##pj -data \n",
        "X_test_pj = vectorizer.transform(corpus_pj).astype('float16')\n",
        "y_test_pj = np.array(labels_pj)"
      ],
      "id": "uw6zJBrM8TAL"
    },
    {
      "cell_type": "code",
      "execution_count": null,
      "metadata": {
        "colab": {
          "base_uri": "https://localhost:8080/"
        },
        "id": "D3RC5Ns5IBaI",
        "outputId": "d308aac3-df11-4c4c-d0a3-f2fa0f5c323a"
      },
      "outputs": [
        {
          "output_type": "stream",
          "name": "stdout",
          "text": [
            "Create model ... \n",
            "Compile model ...\n",
            "Model: \"sequential\"\n",
            "_________________________________________________________________\n",
            " Layer (type)                Output Shape              Param #   \n",
            "=================================================================\n",
            " dense (Dense)               (None, 256)               31077120  \n",
            "                                                                 \n",
            " dropout (Dropout)           (None, 256)               0         \n",
            "                                                                 \n",
            " dense_1 (Dense)             (None, 200)               51400     \n",
            "                                                                 \n",
            " dropout_1 (Dropout)         (None, 200)               0         \n",
            "                                                                 \n",
            " dense_2 (Dense)             (None, 160)               32160     \n",
            "                                                                 \n",
            " dropout_2 (Dropout)         (None, 160)               0         \n",
            "                                                                 \n",
            " dense_3 (Dense)             (None, 120)               19320     \n",
            "                                                                 \n",
            " dropout_3 (Dropout)         (None, 120)               0         \n",
            "                                                                 \n",
            " dense_4 (Dense)             (None, 80)                9680      \n",
            "                                                                 \n",
            " dropout_4 (Dropout)         (None, 80)                0         \n",
            "                                                                 \n",
            " dense_5 (Dense)             (None, 1)                 81        \n",
            "                                                                 \n",
            "=================================================================\n",
            "Total params: 31,189,761\n",
            "Trainable params: 31,189,761\n",
            "Non-trainable params: 0\n",
            "_________________________________________________________________\n"
          ]
        }
      ],
      "source": [
        "# Model Training \n",
        "print (\"Create model ... \")\n",
        "def build_model(shape):\n",
        "    K.clear_session()\n",
        "    np.random.seed(12)\n",
        "    python_random.seed(12)\n",
        "    tf.random.set_seed(12)\n",
        "    model = Sequential()\n",
        "    model.add(Dense(256, input_dim=shape, activation='relu'))\n",
        "    # model.add(Dense(256, input_dim=121394, activation='relu'))\n",
        "    model.add(Dropout(0.5))\n",
        "    model.add(Dense(200, activation='relu'))\n",
        "    model.add(Dropout(0.5))\n",
        "    model.add(Dense(160, activation='relu'))\n",
        "    model.add(Dropout(0.3))\n",
        "    model.add(Dense(120, activation='relu'))\n",
        "    model.add(Dropout(0.3))\n",
        "    model.add(Dense(80, activation='relu'))\n",
        "    model.add(Dropout(0.3))\n",
        "    model.add(Dense(1, activation='sigmoid'))\n",
        "    model.compile(loss='binary_crossentropy', optimizer='adam', metrics=['accuracy'])\n",
        "    model.summary()\n",
        "    return model\n",
        "\n",
        "print(\"Compile model ...\")\n",
        "modeldnn = build_model(X_train.shape[1])"
      ],
      "id": "D3RC5Ns5IBaI"
    },
    {
      "cell_type": "code",
      "execution_count": null,
      "metadata": {
        "id": "DRNWstUu9Gh_"
      },
      "outputs": [],
      "source": [
        "# Train model\n",
        "modeldnn.compile(tf.keras.optimizers.Adam(learning_rate=0.001),\n",
        "            loss='binary_crossentropy',\n",
        "            metrics=['accuracy'])\n",
        "modeldnn.fit(X_train, y_train, batch_size=64, shuffle=\"batch\",\n",
        "                epochs=3)\n"
      ],
      "id": "DRNWstUu9Gh_"
    },
    {
      "cell_type": "code",
      "source": [
        ""
      ],
      "metadata": {
        "id": "8BJPXh6Db-I0"
      },
      "id": "8BJPXh6Db-I0",
      "execution_count": null,
      "outputs": []
    },
    {
      "cell_type": "code",
      "execution_count": null,
      "metadata": {
        "id": "JPTd0Wf-HbO5"
      },
      "outputs": [],
      "source": [
        "a"
      ],
      "id": "JPTd0Wf-HbO5"
    },
    {
      "cell_type": "code",
      "execution_count": null,
      "metadata": {
        "id": "5AP_kwbj-9M0"
      },
      "outputs": [],
      "source": [
        "pred_y = modeldnn.predict(X_test_pj)\n",
        "pred_y =np.round(pred_y.flatten())\n",
        "print('Accuracy on PJ test dataset: ',metrics.accuracy_score(labels_pj,pred_y)*100)"
      ],
      "id": "5AP_kwbj-9M0"
    },
    {
      "cell_type": "code",
      "source": [
        "!pip install scikeras\n",
        "from scikeras.wrappers import KerasClassifier"
      ],
      "metadata": {
        "colab": {
          "base_uri": "https://localhost:8080/"
        },
        "id": "BsNZW5YbG3yr",
        "outputId": "66b8e1cc-34c3-45b8-fa65-cd8a899a7796"
      },
      "id": "BsNZW5YbG3yr",
      "execution_count": null,
      "outputs": [
        {
          "output_type": "stream",
          "name": "stdout",
          "text": [
            "Looking in indexes: https://pypi.org/simple, https://us-python.pkg.dev/colab-wheels/public/simple/\n",
            "Requirement already satisfied: scikeras in /usr/local/lib/python3.7/dist-packages (0.8.0)\n",
            "Requirement already satisfied: importlib-metadata>=3 in /usr/local/lib/python3.7/dist-packages (from scikeras) (4.11.4)\n",
            "Requirement already satisfied: packaging<22.0,>=0.21 in /usr/local/lib/python3.7/dist-packages (from scikeras) (21.3)\n",
            "Requirement already satisfied: scikit-learn>=1.0.0 in /usr/local/lib/python3.7/dist-packages (from scikeras) (1.0.2)\n",
            "Requirement already satisfied: zipp>=0.5 in /usr/local/lib/python3.7/dist-packages (from importlib-metadata>=3->scikeras) (3.8.0)\n",
            "Requirement already satisfied: typing-extensions>=3.6.4 in /usr/local/lib/python3.7/dist-packages (from importlib-metadata>=3->scikeras) (4.2.0)\n",
            "Requirement already satisfied: pyparsing!=3.0.5,>=2.0.2 in /usr/local/lib/python3.7/dist-packages (from packaging<22.0,>=0.21->scikeras) (3.0.9)\n",
            "Requirement already satisfied: scipy>=1.1.0 in /usr/local/lib/python3.7/dist-packages (from scikit-learn>=1.0.0->scikeras) (1.4.1)\n",
            "Requirement already satisfied: joblib>=0.11 in /usr/local/lib/python3.7/dist-packages (from scikit-learn>=1.0.0->scikeras) (1.1.0)\n",
            "Requirement already satisfied: threadpoolctl>=2.0.0 in /usr/local/lib/python3.7/dist-packages (from scikit-learn>=1.0.0->scikeras) (3.1.0)\n",
            "Requirement already satisfied: numpy>=1.14.6 in /usr/local/lib/python3.7/dist-packages (from scikit-learn>=1.0.0->scikeras) (1.21.6)\n"
          ]
        }
      ]
    },
    {
      "cell_type": "markdown",
      "source": [
        "Super classifier - Not enough memory to engage"
      ],
      "metadata": {
        "id": "aXySDW-VHRmp"
      },
      "id": "aXySDW-VHRmp"
    },
    {
      "cell_type": "code",
      "source": [
        "# # import libraries \n",
        "# import pandas\n",
        "# import numpy as np\n",
        "# import tensorflow as tf\n",
        "# from keras.models import Sequential\n",
        "# # from keras.wrappers.scikit_learn import KerasClassifier\n",
        "# from scikeras.wrappers import KerasClassifier\n",
        "# from keras.layers import Dropout, Flatten, Dense \n",
        "# from keras.utils import np_utils\n",
        "# from keras import optimizers\n",
        "# from sklearn.linear_model import LogisticRegression\n",
        "# from sklearn.ensemble import StackingClassifier\n",
        "\n",
        "\n",
        "# vectorizer = TfidfVectorizer()\n",
        "\n",
        "# # PAN12 data\n",
        "# X_train = vectorizer.fit_transform(train_corpus).astype('float16')\n",
        "# X_test = vectorizer.transform(test_corpus).astype('float16')\n",
        "# y_train = np.array(train_labels)\n",
        "# y_test = np.array(test_labels)\n",
        "# ##pj -data \n",
        "# X_test_pj = vectorizer.transform(corpus_pj).astype('float16')\n",
        "# y_test_pj = np.array(labels_pj)\n",
        "\n",
        "# # create and wrap neural network\n",
        "# def build_model(shape):\n",
        "#     K.clear_session()\n",
        "#     np.random.seed(12)\n",
        "#     python_random.seed(12)\n",
        "#     tf.random.set_seed(12)\n",
        "#     model = Sequential()\n",
        "#     model.add(Dense(256, input_dim=shape, activation='relu'))\n",
        "#     model.add(Dropout(0.5))\n",
        "#     model.add(Dense(200, activation='relu'))\n",
        "#     model.add(Dropout(0.5))\n",
        "#     model.add(Dense(160, activation='relu'))\n",
        "#     model.add(Dropout(0.3))\n",
        "#     model.add(Dense(120, activation='relu'))\n",
        "#     model.add(Dropout(0.3))\n",
        "#     model.add(Dense(80, activation='relu'))\n",
        "#     model.add(Dropout(0.3))\n",
        "#     model.add(Dense(1, activation='sigmoid'))\n",
        "#     # model.compile(loss='binary_crossentropy', optimizer='adam', metrics=['accuracy'])\n",
        "#     modeldnn.compile(tf.keras.optimizers.Adam(learning_rate=0.001),\n",
        "#             loss='binary_crossentropy',\n",
        "#             metrics=['accuracy'])\n",
        "#     # model.summary()\n",
        "#     return model\n",
        "\n",
        "\n",
        "# modeldnn = KerasClassifier(build_fn=build_model, epochs=3, batch_size=64, verbose=0)\n",
        "# modeldnn._estimator_type = \"classifier\"\n",
        "# # estimators = [\n",
        "# #     ('sv,', svm.SVC(kernel='linear', C=1, gamma='auto', random_state=0,probability=True)),\n",
        "# #      ('svtwo', LinearSVC(random_state=0, C=2.9, loss='squared_hinge', dual=True)),\n",
        "# #      ('xgb',xgb.XGBClassifier(eval_metric='logloss',use_label_encoder=False)),\n",
        "# #       ('lgb', lgb.LGBMClassifier(learning_rate=0.09,max_depth=-5,random_state=42)),\n",
        "# #       ('dnn',modeldnn)]\n",
        "# estimators = [\n",
        "#       ('lgb', lgb.LGBMClassifier(learning_rate=0.09,max_depth=-5,random_state=42)),\n",
        "#       ('dnn',modeldnn)]\n",
        "# dnnclf = StackingClassifier(\n",
        "#      estimators=estimators, final_estimator=LogisticRegression())\n",
        "# dnnclf.fit(X_train, y_train)\n",
        "# pred_y =dnnclf.predict(X_test)\n",
        "# print('Accuracy on PAN12 test dataset: ',metrics.accuracy_score(y_test, pred_y)*100)\n",
        "# pred_y = dnnclf.predict(X_test_pj)\n",
        "# print('Accuracy on PJ test dataset: ',metrics.accuracy_score(y_test_pj, pred_y)*100)\n",
        "# np.unique(pred_y,return_counts=True)\n"
      ],
      "metadata": {
        "id": "Mea-VyqJHRJD"
      },
      "id": "Mea-VyqJHRJD",
      "execution_count": null,
      "outputs": []
    },
    {
      "cell_type": "markdown",
      "metadata": {
        "id": "9k31mMiBqB-4"
      },
      "source": [
        "# Classifying using Transformers"
      ],
      "id": "9k31mMiBqB-4"
    },
    {
      "cell_type": "markdown",
      "metadata": {
        "id": "QumQr0bBr8_8"
      },
      "source": [
        "## finetune API for text classification\n",
        "built upon TensorFlow & Keras"
      ],
      "id": "QumQr0bBr8_8"
    },
    {
      "cell_type": "code",
      "execution_count": null,
      "metadata": {
        "colab": {
          "base_uri": "https://localhost:8080/"
        },
        "id": "56bZw7_nqFVo",
        "outputId": "72e7a15e-7442-4f88-e851-414726ddfc4c"
      },
      "outputs": [
        {
          "output_type": "stream",
          "name": "stdout",
          "text": [
            "\u001b[K     |████████████████████████████████| 850 kB 7.5 MB/s \n",
            "\u001b[K     |████████████████████████████████| 7.1 MB 50.0 MB/s \n",
            "\u001b[K     |████████████████████████████████| 53 kB 1.9 MB/s \n",
            "\u001b[K     |████████████████████████████████| 163 kB 66.2 MB/s \n",
            "\u001b[K     |████████████████████████████████| 6.4 MB 45.7 MB/s \n",
            "\u001b[K     |████████████████████████████████| 1.2 MB 60.3 MB/s \n",
            "\u001b[K     |████████████████████████████████| 1.1 MB 74.6 MB/s \n",
            "\u001b[K     |████████████████████████████████| 449 kB 75.2 MB/s \n",
            "\u001b[K     |████████████████████████████████| 2.1 MB 52.7 MB/s \n",
            "\u001b[K     |████████████████████████████████| 880 kB 79.3 MB/s \n",
            "\u001b[K     |████████████████████████████████| 3.3 MB 49.7 MB/s \n",
            "\u001b[?25h  Building wheel for finetune (setup.py) ... \u001b[?25l\u001b[?25hdone\n",
            "  Building wheel for psutil (setup.py) ... \u001b[?25l\u001b[?25hdone\n",
            "  Building wheel for sacremoses (setup.py) ... \u001b[?25l\u001b[?25hdone\n",
            "\u001b[31mERROR: pip's dependency resolver does not currently take into account all the packages that are installed. This behaviour is the source of the following dependency conflicts.\n",
            "yellowbrick 1.4 requires scikit-learn>=1.0.0, but you have scikit-learn 0.22.2.post1 which is incompatible.\u001b[0m\n"
          ]
        }
      ],
      "source": [
        "!pip install --quiet finetune"
      ],
      "id": "56bZw7_nqFVo"
    },
    {
      "cell_type": "code",
      "execution_count": null,
      "metadata": {
        "id": "5cYBV32lq6mH"
      },
      "outputs": [],
      "source": [
        "%%capture\n",
        "import finetune as ft"
      ],
      "id": "5cYBV32lq6mH"
    },
    {
      "cell_type": "code",
      "execution_count": null,
      "metadata": {
        "id": "6iWzHRWzqR03"
      },
      "outputs": [],
      "source": [
        "from finetune.base_models import RoBERTa"
      ],
      "id": "6iWzHRWzqR03"
    },
    {
      "cell_type": "code",
      "execution_count": null,
      "metadata": {
        "colab": {
          "base_uri": "https://localhost:8080/"
        },
        "id": "xc2HmT7zrzUk",
        "outputId": "dbc3e980-cf84-460a-a365-93cc849a9aea"
      },
      "outputs": [
        {
          "output_type": "stream",
          "name": "stdout",
          "text": [
            "Downloading: roberta-model-sm-v2.jl\n"
          ]
        },
        {
          "output_type": "stream",
          "name": "stderr",
          "text": [
            "100%|██████████| 328M/328M [00:08<00:00, 37.4MiB/s]\n"
          ]
        },
        {
          "output_type": "stream",
          "name": "stdout",
          "text": [
            "Downloading: dict.txt\n"
          ]
        },
        {
          "output_type": "stream",
          "name": "stderr",
          "text": [
            "100%|██████████| 603k/603k [00:00<00:00, 1.94MiB/s]\n"
          ]
        },
        {
          "output_type": "stream",
          "name": "stdout",
          "text": [
            "Downloading: roberta_vocab.bpe\n"
          ]
        },
        {
          "output_type": "stream",
          "name": "stderr",
          "text": [
            "100%|██████████| 456k/456k [00:00<00:00, 1.76MiB/s]\n"
          ]
        },
        {
          "output_type": "stream",
          "name": "stdout",
          "text": [
            "Downloading: roberta_encoder.json\n"
          ]
        },
        {
          "output_type": "stream",
          "name": "stderr",
          "text": [
            "100%|██████████| 899k/899k [00:00<00:00, 2.86MiB/s]\n"
          ]
        }
      ],
      "source": [
        "roberta = ft.Classifier(base_model=RoBERTa,chunk_long_sequences=True, n_epochs=1) # chunk_long_sequences flag moves a sliding window of length max_length across the input, and takes the mean of the feature representations from the windows"
      ],
      "id": "xc2HmT7zrzUk"
    },
    {
      "cell_type": "code",
      "source": [
        "roberta.fit(train_corpus, train_labels)"
      ],
      "metadata": {
        "colab": {
          "base_uri": "https://localhost:8080/"
        },
        "id": "EykBCSmRhptO",
        "outputId": "68267dc9-3db2-4aea-f6bd-1e9d79f33d38"
      },
      "id": "EykBCSmRhptO",
      "execution_count": null,
      "outputs": [
        {
          "output_type": "stream",
          "name": "stderr",
          "text": [
            "Epoch 1/1: 100%|██████████| 43685/43685 [1:03:17<00:00, 11.50it/s]\n"
          ]
        }
      ]
    },
    {
      "cell_type": "code",
      "source": [
        "roberta.save(path ='roberta')"
      ],
      "metadata": {
        "id": "nIW07E1RhtUv"
      },
      "id": "nIW07E1RhtUv",
      "execution_count": null,
      "outputs": []
    },
    {
      "cell_type": "code",
      "source": [
        "# txtcnn = ft.Classifier(base_model=TextCNN,chunk_long_sequences=True, n_epochs=3) # chunk_long_sequences flag moves a sliding window of length max_length across the input, and takes the mean of the feature representations from the windows"
      ],
      "metadata": {
        "id": "-3trzlSZKsWV"
      },
      "id": "-3trzlSZKsWV",
      "execution_count": null,
      "outputs": []
    },
    {
      "cell_type": "code",
      "execution_count": null,
      "metadata": {
        "colab": {
          "base_uri": "https://localhost:8080/"
        },
        "id": "9s7BibcTrNAm",
        "outputId": "ccdb4471-7ff9-407d-d9f2-02b13fff7e4c"
      },
      "outputs": [
        {
          "output_type": "stream",
          "name": "stderr",
          "text": [
            "Epoch 3/3: 100%|██████████| 14756/14756 [02:32<00:00, 96.50it/s]\n",
            "Inference: 0it [00:00, ?it/s]/usr/local/lib/python3.7/dist-packages/finetune/base_models/textcnn/featurizer.py:77: UserWarning: `tf.layers.conv1d` is deprecated and will be removed in a future version. Please Use `tf.keras.layers.Conv1D` instead.\n",
            "  kernel_initializer=tf.compat.v1.initializers.glorot_normal,\n",
            "/usr/local/lib/python3.7/dist-packages/keras/legacy_tf_layers/convolutional.py:294: UserWarning: `layer.apply` is deprecated and will be removed in a future version. Please use `layer.__call__` method instead.\n",
            "  return layer.apply(inputs)\n",
            "Inference: 155418it [19:16, 134.44it/s]\n"
          ]
        },
        {
          "output_type": "stream",
          "name": "stdout",
          "text": [
            "Accuracy on PAN12 test dataset:  98.14217936155949\n"
          ]
        }
      ],
      "source": [
        "txtcnn.fit(train_corpus, train_labels)\n",
        "pred_y = txtcnn.predict(test_corpus)\n",
        "print('Accuracy on PAN12 test dataset: ',metrics.accuracy_score(test_labels, pred_y)*100)\n",
        "# running time of 1:45 hrs roberta\n",
        "# running time of hrs txtcnn"
      ],
      "id": "9s7BibcTrNAm"
    },
    {
      "cell_type": "code",
      "execution_count": null,
      "metadata": {
        "colab": {
          "base_uri": "https://localhost:8080/"
        },
        "id": "-1ozHTGFkeri",
        "outputId": "88eb946d-593b-4558-d646-6c1eee794df3"
      },
      "outputs": [
        {
          "output_type": "stream",
          "name": "stdout",
          "text": [
            "Accuracy on PAN12 test dataset:  98.14217936155949\n"
          ]
        }
      ],
      "source": [
        "print('Accuracy on PAN12 test dataset: ',metrics.accuracy_score(test_labels, pred_y)*100)"
      ],
      "id": "-1ozHTGFkeri"
    },
    {
      "cell_type": "code",
      "execution_count": null,
      "metadata": {
        "colab": {
          "base_uri": "https://localhost:8080/"
        },
        "id": "zUBXDEGGkeVz",
        "outputId": "4658178e-face-4787-e613-5cf848f60ec3"
      },
      "outputs": [
        {
          "output_type": "stream",
          "name": "stderr",
          "text": [
            "\rInference: 0it [00:00, ?it/s]/usr/local/lib/python3.7/dist-packages/finetune/base_models/bert/modeling.py:818: UserWarning: `tf.layers.dense` is deprecated and will be removed in a future version. Please use `tf.keras.layers.Dense` instead.\n",
            "  kernel_initializer=create_initializer(initializer_range),\n",
            "/usr/local/lib/python3.7/dist-packages/keras/legacy_tf_layers/core.py:261: UserWarning: `layer.apply` is deprecated and will be removed in a future version. Please use `layer.__call__` method instead.\n",
            "  return layer.apply(inputs)\n",
            "/usr/local/lib/python3.7/dist-packages/finetune/base_models/bert/modeling.py:827: UserWarning: `tf.layers.dense` is deprecated and will be removed in a future version. Please use `tf.keras.layers.Dense` instead.\n",
            "  kernel_initializer=create_initializer(initializer_range),\n",
            "/usr/local/lib/python3.7/dist-packages/finetune/base_models/bert/modeling.py:836: UserWarning: `tf.layers.dense` is deprecated and will be removed in a future version. Please use `tf.keras.layers.Dense` instead.\n",
            "  kernel_initializer=create_initializer(initializer_range),\n",
            "/usr/local/lib/python3.7/dist-packages/finetune/base_models/bert/modeling.py:954: UserWarning: `tf.layers.dense` is deprecated and will be removed in a future version. Please use `tf.keras.layers.Dense` instead.\n",
            "  kernel_initializer=create_initializer(initializer_range))\n",
            "/usr/local/lib/python3.7/dist-packages/finetune/base_models/bert/modeling.py:964: UserWarning: `tf.layers.dense` is deprecated and will be removed in a future version. Please use `tf.keras.layers.Dense` instead.\n",
            "  kernel_initializer=create_initializer(initializer_range))\n",
            "/usr/local/lib/python3.7/dist-packages/finetune/base_models/bert/modeling.py:971: UserWarning: `tf.layers.dense` is deprecated and will be removed in a future version. Please use `tf.keras.layers.Dense` instead.\n",
            "  kernel_initializer=create_initializer(initializer_range))\n",
            "Inference: 3416it [01:32, 37.09it/s]\n"
          ]
        }
      ],
      "source": [
        "pred_y = roberta.predict(corpus_pj)"
      ],
      "id": "zUBXDEGGkeVz"
    },
    {
      "cell_type": "code",
      "source": [
        "bertmodel = ft.Classifier.load('bert_finetuned_pred_vict_classifier')"
      ],
      "metadata": {
        "colab": {
          "base_uri": "https://localhost:8080/"
        },
        "id": "95sd5Ca3a2JL",
        "outputId": "b30595d3-c221-4dc5-f3ec-526b081d3379"
      },
      "id": "95sd5Ca3a2JL",
      "execution_count": null,
      "outputs": [
        {
          "output_type": "stream",
          "name": "stdout",
          "text": [
            "Downloading: roberta-model-sm-v2.jl\n"
          ]
        },
        {
          "output_type": "stream",
          "name": "stderr",
          "text": [
            "100%|██████████| 328M/328M [00:08<00:00, 36.8MiB/s]\n"
          ]
        },
        {
          "output_type": "stream",
          "name": "stdout",
          "text": [
            "Downloading: dict.txt\n"
          ]
        },
        {
          "output_type": "stream",
          "name": "stderr",
          "text": [
            "100%|██████████| 603k/603k [00:00<00:00, 1.96MiB/s]\n"
          ]
        },
        {
          "output_type": "stream",
          "name": "stdout",
          "text": [
            "Downloading: roberta_vocab.bpe\n"
          ]
        },
        {
          "output_type": "stream",
          "name": "stderr",
          "text": [
            "100%|██████████| 456k/456k [00:00<00:00, 1.83MiB/s]\n"
          ]
        },
        {
          "output_type": "stream",
          "name": "stdout",
          "text": [
            "Downloading: roberta_encoder.json\n"
          ]
        },
        {
          "output_type": "stream",
          "name": "stderr",
          "text": [
            "100%|██████████| 899k/899k [00:00<00:00, 2.87MiB/s]\n"
          ]
        }
      ]
    },
    {
      "cell_type": "code",
      "execution_count": null,
      "metadata": {
        "colab": {
          "base_uri": "https://localhost:8080/"
        },
        "id": "vicBGHtukhLy",
        "outputId": "c034bfba-17d8-4feb-eae7-2e9a1209eea5"
      },
      "outputs": [
        {
          "output_type": "stream",
          "name": "stdout",
          "text": [
            "Accuracy on PJ test dataset:  100.0\n"
          ]
        }
      ],
      "source": [
        "print('Accuracy on PJ test dataset: ',metrics.accuracy_score(labels_pj, pred_y)*100)"
      ],
      "id": "vicBGHtukhLy"
    },
    {
      "cell_type": "code",
      "source": [
        "txtcnn.save(path ='txtcnn')"
      ],
      "metadata": {
        "id": "LfdoWxWJK7Vz"
      },
      "id": "LfdoWxWJK7Vz",
      "execution_count": null,
      "outputs": []
    },
    {
      "cell_type": "code",
      "execution_count": null,
      "metadata": {
        "id": "Quj-wul4D3Mt"
      },
      "outputs": [],
      "source": [
        "# model.save(path ='bert_finetuned')"
      ],
      "id": "Quj-wul4D3Mt"
    },
    {
      "cell_type": "code",
      "execution_count": null,
      "metadata": {
        "id": "OrEGkaVlE2nV",
        "colab": {
          "base_uri": "https://localhost:8080/"
        },
        "outputId": "daa86db0-50d6-4f69-dcd2-73a1f467a765"
      },
      "outputs": [
        {
          "output_type": "stream",
          "name": "stdout",
          "text": [
            "Downloading: roberta-model-sm-v2.jl\n"
          ]
        },
        {
          "output_type": "stream",
          "name": "stderr",
          "text": [
            "100%|██████████| 328M/328M [00:09<00:00, 35.0MiB/s]\n"
          ]
        },
        {
          "output_type": "stream",
          "name": "stdout",
          "text": [
            "Downloading: dict.txt\n"
          ]
        },
        {
          "output_type": "stream",
          "name": "stderr",
          "text": [
            "100%|██████████| 603k/603k [00:00<00:00, 1.95MiB/s]\n"
          ]
        },
        {
          "output_type": "stream",
          "name": "stdout",
          "text": [
            "Downloading: roberta_vocab.bpe\n"
          ]
        },
        {
          "output_type": "stream",
          "name": "stderr",
          "text": [
            "100%|██████████| 456k/456k [00:00<00:00, 1.80MiB/s]\n"
          ]
        },
        {
          "output_type": "stream",
          "name": "stdout",
          "text": [
            "Downloading: roberta_encoder.json\n"
          ]
        },
        {
          "output_type": "stream",
          "name": "stderr",
          "text": [
            "100%|██████████| 899k/899k [00:00<00:00, 2.87MiB/s]\n"
          ]
        }
      ],
      "source": [
        "bertmodel = ft.Classifier.load('bert_finetuned')"
      ],
      "id": "OrEGkaVlE2nV"
    },
    {
      "cell_type": "code",
      "source": [
        "pred_y_pan = bertmodel.predict(test_corpus)\n",
        "pred_y_pj = bertmodel.predict(corpus_pj)\n"
      ],
      "metadata": {
        "colab": {
          "base_uri": "https://localhost:8080/"
        },
        "id": "toU-izhhvgIp",
        "outputId": "333463ab-bbfc-4e71-c1d4-385c8ea57238"
      },
      "id": "toU-izhhvgIp",
      "execution_count": null,
      "outputs": [
        {
          "output_type": "stream",
          "name": "stderr",
          "text": [
            "Inference: 0it [00:00, ?it/s]/usr/local/lib/python3.7/dist-packages/finetune/base_models/bert/modeling.py:818: UserWarning: `tf.layers.dense` is deprecated and will be removed in a future version. Please use `tf.keras.layers.Dense` instead.\n",
            "  kernel_initializer=create_initializer(initializer_range),\n",
            "/usr/local/lib/python3.7/dist-packages/keras/legacy_tf_layers/core.py:261: UserWarning: `layer.apply` is deprecated and will be removed in a future version. Please use `layer.__call__` method instead.\n",
            "  return layer.apply(inputs)\n",
            "/usr/local/lib/python3.7/dist-packages/finetune/base_models/bert/modeling.py:827: UserWarning: `tf.layers.dense` is deprecated and will be removed in a future version. Please use `tf.keras.layers.Dense` instead.\n",
            "  kernel_initializer=create_initializer(initializer_range),\n",
            "/usr/local/lib/python3.7/dist-packages/finetune/base_models/bert/modeling.py:836: UserWarning: `tf.layers.dense` is deprecated and will be removed in a future version. Please use `tf.keras.layers.Dense` instead.\n",
            "  kernel_initializer=create_initializer(initializer_range),\n",
            "/usr/local/lib/python3.7/dist-packages/finetune/base_models/bert/modeling.py:954: UserWarning: `tf.layers.dense` is deprecated and will be removed in a future version. Please use `tf.keras.layers.Dense` instead.\n",
            "  kernel_initializer=create_initializer(initializer_range))\n",
            "/usr/local/lib/python3.7/dist-packages/finetune/base_models/bert/modeling.py:964: UserWarning: `tf.layers.dense` is deprecated and will be removed in a future version. Please use `tf.keras.layers.Dense` instead.\n",
            "  kernel_initializer=create_initializer(initializer_range))\n",
            "/usr/local/lib/python3.7/dist-packages/finetune/base_models/bert/modeling.py:971: UserWarning: `tf.layers.dense` is deprecated and will be removed in a future version. Please use `tf.keras.layers.Dense` instead.\n",
            "  kernel_initializer=create_initializer(initializer_range))\n",
            "Inference: 238162it [52:41, 75.33it/s]\n",
            "Inference: 3416it [01:28, 38.73it/s]\n"
          ]
        }
      ]
    },
    {
      "cell_type": "code",
      "source": [
        "print('Accuracy on PAN12 test dataset: ',metrics.accuracy_score(test_labels, pred_y_pan)*100)\n",
        "print('Accuracy on PJ test dataset: ',metrics.accuracy_score(labels_pj, pred_y_pj)*100)"
      ],
      "metadata": {
        "id": "LGuj0xziexW4"
      },
      "id": "LGuj0xziexW4",
      "execution_count": null,
      "outputs": []
    },
    {
      "cell_type": "markdown",
      "source": [
        "#TextCNN"
      ],
      "metadata": {
        "id": "61jOvkmHwBIq"
      },
      "id": "61jOvkmHwBIq"
    },
    {
      "cell_type": "code",
      "source": [
        "txtcnn = ft.Classifier.load('TextCNN_pred_vict_classifier')"
      ],
      "metadata": {
        "id": "KF6-pnncwDDC",
        "colab": {
          "base_uri": "https://localhost:8080/"
        },
        "outputId": "2fd0bb8c-1ae6-4c7d-c569-c528c1cd91ae"
      },
      "id": "KF6-pnncwDDC",
      "execution_count": null,
      "outputs": [
        {
          "output_type": "stream",
          "name": "stdout",
          "text": [
            "Downloading: encoder.json\n"
          ]
        },
        {
          "output_type": "stream",
          "name": "stderr",
          "text": [
            "100%|██████████| 1.04M/1.04M [00:00<00:00, 3.29MiB/s]\n"
          ]
        },
        {
          "output_type": "stream",
          "name": "stdout",
          "text": [
            "Downloading: vocab.bpe\n"
          ]
        },
        {
          "output_type": "stream",
          "name": "stderr",
          "text": [
            "100%|██████████| 456k/456k [00:00<00:00, 1.80MiB/s]\n"
          ]
        },
        {
          "output_type": "stream",
          "name": "stdout",
          "text": [
            "Downloading: model-sm.jl\n"
          ]
        },
        {
          "output_type": "stream",
          "name": "stderr",
          "text": [
            "100%|██████████| 655M/655M [00:17<00:00, 36.8MiB/s]\n"
          ]
        }
      ]
    },
    {
      "cell_type": "code",
      "source": [
        "pred_y_pan = txtcnn.predict(test_corpus)\n",
        "pred_y_pj = txtcnn.predict(corpus_pj)"
      ],
      "metadata": {
        "id": "1SVysCvExdQz",
        "colab": {
          "base_uri": "https://localhost:8080/"
        },
        "outputId": "ef15ecf8-71f6-4863-a327-81cfabe556c6"
      },
      "id": "1SVysCvExdQz",
      "execution_count": null,
      "outputs": [
        {
          "output_type": "stream",
          "name": "stderr",
          "text": [
            "\rInference: 0it [00:00, ?it/s]/usr/local/lib/python3.7/dist-packages/finetune/base_models/textcnn/featurizer.py:77: UserWarning: `tf.layers.conv1d` is deprecated and will be removed in a future version. Please Use `tf.keras.layers.Conv1D` instead.\n",
            "  kernel_initializer=tf.compat.v1.initializers.glorot_normal,\n",
            "/usr/local/lib/python3.7/dist-packages/keras/legacy_tf_layers/convolutional.py:294: UserWarning: `layer.apply` is deprecated and will be removed in a future version. Please use `layer.__call__` method instead.\n",
            "  return layer.apply(inputs)\n",
            "Inference: 155418it [19:12, 134.89it/s]\n",
            "Inference: 77it [00:21,  3.60it/s]\n"
          ]
        }
      ]
    },
    {
      "cell_type": "code",
      "source": [
        "print('Accuracy on PAN12 test dataset: ',metrics.accuracy_score(test_labels, pred_y_pan)*100)\n",
        "print('Accuracy on PJ test dataset: ',metrics.accuracy_score(labels_pj, pred_y_pj)*100)"
      ],
      "metadata": {
        "id": "6wqFwaH0xgbH",
        "colab": {
          "base_uri": "https://localhost:8080/"
        },
        "outputId": "3953cc19-2365-45ce-e419-d01e7edb4dbc"
      },
      "id": "6wqFwaH0xgbH",
      "execution_count": null,
      "outputs": [
        {
          "output_type": "stream",
          "name": "stdout",
          "text": [
            "Accuracy on PAN12 test dataset:  28.958021762673404\n",
            "Accuracy on PJ test dataset:  83.92857142857143\n",
            "Accuracy on PAN12 test dataset:  28.958021762673404\n",
            "Accuracy on PJ test dataset:  83.92857142857143\n"
          ]
        }
      ]
    },
    {
      "cell_type": "markdown",
      "metadata": {
        "id": "HkZz2Ul1SoOt"
      },
      "source": [
        "# Plotting the models"
      ],
      "id": "HkZz2Ul1SoOt"
    },
    {
      "cell_type": "code",
      "execution_count": null,
      "metadata": {
        "id": "fRgJ8CYPU0y_"
      },
      "outputs": [],
      "source": [
        "# vectorizer = TfidfVectorizer(stop_words=stops,ngram_range=(1,3))\n",
        "vectorizer = TfidfVectorizer()\n",
        "X_train = vectorizer.fit_transform(train_corpus)\n",
        "X_test = vectorizer.transform(test_corpus)\n",
        "\n",
        "X_train = scipy.sparse.csr_matrix(X_train)\n",
        "y_train = np.array(train_labels)\n",
        "X_test = scipy.sparse.csr_matrix(X_test)\n",
        "y_test = np.array(test_labels)\n",
        "\n",
        "##pj -data \n",
        "X_test_pj = vectorizer.transform(corpus_pj)#.astype('float16')\n",
        "y_test_pj = np.array(labels_pj)"
      ],
      "id": "fRgJ8CYPU0y_"
    },
    {
      "cell_type": "code",
      "source": [
        "eclf"
      ],
      "metadata": {
        "colab": {
          "base_uri": "https://localhost:8080/"
        },
        "id": "bIG8VoRQFHDx",
        "outputId": "ffcb5988-407a-4f62-ffc5-28aaad66915c"
      },
      "id": "bIG8VoRQFHDx",
      "execution_count": null,
      "outputs": [
        {
          "output_type": "execute_result",
          "data": {
            "text/plain": [
              "VotingClassifier(estimators=[('linear',\n",
              "                              LGBMClassifier(learning_rate=0.09, max_depth=-5,\n",
              "                                             random_state=42)),\n",
              "                             ('svc',\n",
              "                              SVC(C=1, gamma='auto', kernel='linear',\n",
              "                                  probability=True, random_state=0))],\n",
              "                 voting='soft', weights=[1, 1])"
            ]
          },
          "metadata": {},
          "execution_count": 41
        }
      ]
    },
    {
      "cell_type": "code",
      "source": [
        "#saving all models\n",
        "# pickle.dump(modelgbm, open('lgbm.sav', 'wb')) # to load: loaded_model = pickle.load(open(filename, 'rb'))\n",
        "# pickle.dump(model_b, open('xgb.sav', 'wb'))\n",
        "# pickle.dump(model_svc, open('svc.sav', 'wb'))\n",
        "# pickle.dump(eclf, open('voting.sav', 'wb'))\n",
        "# pickle.dump(clf, open('stacking.sav', 'wb'))"
      ],
      "metadata": {
        "id": "EadvO-bW0TXp"
      },
      "id": "EadvO-bW0TXp",
      "execution_count": null,
      "outputs": []
    },
    {
      "cell_type": "code",
      "execution_count": null,
      "metadata": {
        "colab": {
          "background_save": true
        },
        "id": "F_hNVcPTTSAm",
        "outputId": "3b237554-ad86-4401-888c-19a3d2b36c04"
      },
      "outputs": [
        {
          "data": {
            "image/png": "[encoded data removed]",
            "text/plain": [
              "<Figure size 1008x1008 with 1 Axes>"
            ]
          },
          "metadata": {},
          "output_type": "display_data"
        }
      ],
      "source": [
        "y_pred_prob1 = modelgbm.predict_proba(X_test)[:,1]\n",
        "fpr1 , tpr1, thresholds1 = roc_curve(y_test, y_pred_prob1)\n",
        "auc1 = roc_auc_score(y_test, y_pred_prob1)\n",
        "\n",
        "y_pred_prob2 = model_b.predict_proba(X_test)[:,1]\n",
        "fpr2 , tpr2, thresholds2 = roc_curve(y_test, y_pred_prob2)\n",
        "auc2 = roc_auc_score(y_test, y_pred_prob2)\n",
        "\n",
        "\n",
        "y_pred_prob3 = model_svc.predict_proba(X_test)[:,1]\n",
        "fpr3 , tpr3, thresholds3 =  roc_curve(y_test, y_pred_prob3)\n",
        "auc3 = roc_auc_score(y_test, y_pred_prob3)\n",
        "\n",
        "y_pred_prob4 = eclf.predict_proba(X_test)[:,1] \n",
        "fpr4 , tpr4, thresholds4 =  roc_curve(y_test, y_pred_prob4)\n",
        "auc4 = roc_auc_score(y_test, y_pred_prob4)\n",
        "\n",
        "\n",
        "y_pred_prob5 = clf.predict_proba(X_test)[:,1]\n",
        "fpr5 , tpr5, thresholds5 =  roc_curve(y_test, y_pred_prob5)\n",
        "auc5 = roc_auc_score(y_test, y_pred_prob5)\n",
        "\n",
        "y_pred_prob6 = (modeldnn.predict(X_test)).flatten()\n",
        "fpr6 , tpr6, thresholds6 =  roc_curve(y_test, y_pred_prob6)\n",
        "auc6 = roc_auc_score(y_test, y_pred_prob6)\n",
        "\n",
        "fig = plt.figure()\n",
        "fig.set_figwidth(14) # set width\n",
        "fig.set_figheight(14) # set height\n",
        "plt.plot([0,1],[0,1], 'k--')\n",
        "plt.plot(fpr1, tpr1, label= f\"LightGBM AUC = {100*auc1 :.2f}%\")\n",
        "plt.plot(fpr2, tpr2, label= f\"XGBoost AUC = {100*auc2 :.2f}X%\")\n",
        "plt.plot(fpr3, tpr3, label= f\"SVM AUC = {100*auc3 :.2f}%\")\n",
        "plt.plot(fpr4, tpr4, label= f\"Voting AUC = {100*auc4 :.2f}%\")\n",
        "plt.plot(fpr5, tpr5, label= f\"Stacking AUC = {100*auc5 :.2f}%\")\n",
        "plt.plot(fpr6, tpr6, label= f\"DNN AUC = {100*auc6 :.2f}%\")\n",
        "plt.gca().set_xscale(\"log\")\n",
        "plt.yticks(np.arange(22) / 20.0)\n",
        "plt.xlim([4e-5, 1.0])\n",
        "plt.gca().grid(True)\n",
        "plt.xlabel(\"False positive rate\",fontsize=16)\n",
        "plt.ylabel(\"True positive rate\",fontsize=16)\n",
        "plt.title('Different models roc curve comparison',fontsize=18)\n",
        "plt.legend(loc= 'lower right')\n",
        "plt.show()"
      ],
      "id": "F_hNVcPTTSAm"
    },
    {
      "cell_type": "code",
      "execution_count": null,
      "metadata": {
        "id": "dxm0Mwgwff-C"
      },
      "outputs": [],
      "source": [
        "\n",
        "y_pred_prob1 = modelgbm.predict_proba(X_test_pj)[:,1]\n",
        "fpr1 , tpr1, thresholds1 = roc_curve(y_test_pj, y_pred_prob1)\n",
        "auc1 = roc_auc_score(y_test_pj, y_pred_prob1)\n",
        "\n",
        "y_pred_prob2 = model_b.predict_proba(X_test_pj)[:,1]\n",
        "fpr2 , tpr2, thresholds2 = roc_curve(y_test_pj, y_pred_prob2)\n",
        "auc2 = roc_auc_score(y_test_pj, y_pred_prob2)\n",
        "\n",
        "\n",
        "y_pred_prob3 = model_svc.predict_proba(X_test_pj)[:,1]\n",
        "fpr3 , tpr3, thresholds3 =  roc_curve(y_test_pj, y_pred_prob3)\n",
        "auc3 = roc_auc_score(y_test_pj, y_pred_prob3)\n",
        "\n",
        "y_pred_prob4 = eclf.predict_proba(X_test_pj)[:,1] \n",
        "fpr4 , tpr4, thresholds4 =  roc_curve(y_test_pj, y_pred_prob4)\n",
        "auc4 = roc_auc_score(y_test_pj, y_pred_prob4)\n",
        "\n",
        "\n",
        "y_pred_prob5 = clf.predict_proba(X_test_pj)[:,1]\n",
        "fpr5 , tpr5, thresholds5 =  roc_curve(y_test_pj, y_pred_prob5)\n",
        "auc5 = roc_auc_score(y_test_pj, y_pred_prob5)\n",
        "\n",
        "y_pred_prob6 = (modeldnn.predict(X_test_pj)).flatten()\n",
        "fpr6 , tpr6, thresholds6 =  roc_curve(y_test_pj, y_pred_prob6)\n",
        "auc6 = roc_auc_score(y_test_pj, y_pred_prob6)\n",
        "\n",
        "fig = plt.figure()\n",
        "fig.set_figwidth(14) # set width\n",
        "fig.set_figheight(14) # set height\n",
        "plt.plot([0,1],[0,1], 'k--')\n",
        "plt.plot(fpr1, tpr1, label= f\"LightGBM AUC = {100*auc1 :.2f}%\")\n",
        "plt.plot(fpr2, tpr2, label= f\"XGBoost AUC = {100*auc2 :.2f}X%\")\n",
        "plt.plot(fpr3, tpr3, label= f\"SVM AUC = {100*auc3 :.2f}%\")\n",
        "plt.plot(fpr4, tpr4, label= f\"Voting AUC = {100*auc4 :.2f}%\")\n",
        "plt.plot(fpr5, tpr5, label= f\"Stacking AUC = {100*auc5 :.2f}%\")\n",
        "plt.plot(fpr6, tpr6, label= f\"DNN AUC = {100*auc6 :.2f}%\")\n",
        "plt.gca().set_xscale(\"log\")\n",
        "plt.yticks(np.arange(22) / 20.0)\n",
        "plt.xlim([4e-5, 1.0])\n",
        "plt.gca().grid(True)\n",
        "plt.xlabel(\"False positive rate\",fontsize=12)\n",
        "plt.ylabel(\"True positive rate\",fontsize=12)\n",
        "plt.title('Different models roc curve comparison on PJ',fontsize=16)\n",
        "plt.legend(loc= 'lower right')\n",
        "plt.show()"
      ],
      "id": "dxm0Mwgwff-C"
    },
    {
      "cell_type": "markdown",
      "metadata": {
        "id": "bqUKjzs0ZvzP"
      },
      "source": [
        "# Building a classifier for classifying the predator / victim inside the conversation"
      ],
      "id": "bqUKjzs0ZvzP"
    },
    {
      "cell_type": "markdown",
      "metadata": {
        "id": "j2SQ9zqVZz8X"
      },
      "source": [
        "We feed one document per author per conversation. This means if an author partook in multiple conversations we will have multiple documents for that author. The benefit of this is this would better reflect the type of data in real-world and have more labeled data for training purposes"
      ],
      "id": "j2SQ9zqVZz8X"
    },
    {
      "cell_type": "code",
      "execution_count": null,
      "metadata": {
        "id": "cRgjpB96Zx9M"
      },
      "outputs": [],
      "source": [
        "\n",
        "def get_susp_conv_dict(data_path):\n",
        "    labels_dict = {}\n",
        "    with open(data_path + 'sci_labels.csv', 'r') as f:\n",
        "        file = csv.reader(f)\n",
        "        for row in file:\n",
        "            labels_dict[row[0]] = row[1]\n",
        "    return labels_dict\n",
        "\n",
        "\n",
        "def get_predators_dict(file): \n",
        "    all_predators = {}\n",
        "    with open(file, 'r') as f:\n",
        "        reader = csv.reader(f)\n",
        "        for row in reader:\n",
        "            all_predators[row[0]] = 1\n",
        "    return all_predators\n",
        "            \n",
        "\n",
        "def get_features_labels(root, labels_dict, all_predators):\n",
        "    corpus = [] # each row is a string formed from all messages in a conversations\n",
        "    labels = [] # each row is 0 or 1, corresponds to label for same row in corpus\n",
        "\n",
        "    for conversation in root:\n",
        "        # only get suspicious conversations\n",
        "        if labels_dict[conversation.get('id')] == '0':\n",
        "            continue\n",
        "        author_conv_dict = {}\n",
        "        for message in conversation:\n",
        "            author = message.find('author').text\n",
        "            text = message.find('text').text\n",
        "            if text is not None:\n",
        "                if author not in author_conv_dict:\n",
        "                    author_conv_dict[author] = text\n",
        "                else:\n",
        "                    author_conv_dict[author] += \" \" + text \n",
        "        for author, conv in author_conv_dict.items():\n",
        "            corpus.append(conv)\n",
        "            if author in all_predators:\n",
        "                labels.append(1)\n",
        "            else:\n",
        "                labels.append(0)\n",
        "    return corpus, labels"
      ],
      "id": "cRgjpB96Zx9M"
    },
    {
      "cell_type": "code",
      "execution_count": null,
      "metadata": {
        "id": "gIQUKfMoZ2sA"
      },
      "outputs": [],
      "source": [
        "train_data_path = \"data/pan12-sexual-predator-identification-training-corpus-2012-05-01/\"\n",
        "training_xml = ET.parse(train_data_path + 'training_data.xml')\n",
        "train_root = training_xml.getroot()\n",
        "\n",
        "test_data_path = 'data/pan12-sexual-predator-identification-test-corpus-2012-05-21/'\n",
        "test_xml = ET.parse(test_data_path + 'pan12-sexual-predator-identification-test-corpus-2012-05-17.xml')\n",
        "test_root = test_xml.getroot()\n",
        "\n",
        "pred_train_file_path = 'data/pan12-sexual-predator-identification-training-corpus-2012-05-01/pan12-sexual-predator-identification-training-corpus-predators-2012-05-01.txt'\n",
        "pred_test_file_path = 'data/pan12-sexual-predator-identification-test-corpus-2012-05-21/pan12-sexual-predator-identification-groundtruth-problem1.txt'\n",
        "train_corpus, train_labels = get_features_labels(train_root, get_susp_conv_dict(train_data_path), get_predators_dict(pred_train_file_path))\n",
        "test_corpus, test_labels = get_features_labels(test_root, get_susp_conv_dict(test_data_path), get_predators_dict(pred_test_file_path))"
      ],
      "id": "gIQUKfMoZ2sA"
    },
    {
      "cell_type": "markdown",
      "metadata": {
        "id": "xmiy8X1aaDMD"
      },
      "source": [
        "## Applying TF-IDF"
      ],
      "id": "xmiy8X1aaDMD"
    },
    {
      "cell_type": "code",
      "execution_count": null,
      "metadata": {
        "id": "3I7M4TWRaF0S"
      },
      "outputs": [],
      "source": [
        "vectorizer = TfidfVectorizer(ngram_range=(1,2))\n",
        "# vectorizer = TfidfVectorizer(analyzer='word')\n",
        "X_train = vectorizer.fit_transform(train_corpus)\n",
        "X_test = vectorizer.transform(test_corpus)\n",
        "\n",
        "print(\"Training data shape: {}\".format(X_train.shape))\n",
        "print(\"Testing data shape: {}\".format(X_test.shape))\n",
        "\n",
        "X_train = scipy.sparse.csr_matrix(X_train)\n",
        "y_train = np.array(train_labels)\n",
        "X_test = scipy.sparse.csr_matrix(X_test)\n",
        "y_test = np.array(test_labels)\n",
        "\n",
        "print(\"Training data shape: {}\".format(X_train.shape))\n",
        "print(\"Testing data shape: {}\".format(X_test.shape))\n",
        "print(\"Training label shape: {}\".format(y_train.shape))\n",
        "print(\"Testing label shape: {}\".format(y_test.shape))"
      ],
      "id": "3I7M4TWRaF0S"
    },
    {
      "cell_type": "markdown",
      "metadata": {
        "id": "h1z0s8OdaKH2"
      },
      "source": [
        "## SVM"
      ],
      "id": "h1z0s8OdaKH2"
    },
    {
      "cell_type": "code",
      "execution_count": null,
      "metadata": {
        "id": "_ImuB-FPaLbM"
      },
      "outputs": [],
      "source": [
        "model = LinearSVC(random_state=0, tol=0.001, loss='squared_hinge')\n",
        "model.fit(X_train, y_train)\n",
        "pred_y = model.predict(X_test)\n",
        "print(metrics.accuracy_score(y_test, pred_y))"
      ],
      "id": "_ImuB-FPaLbM"
    },
    {
      "cell_type": "markdown",
      "metadata": {
        "id": "VC1qqPnVbLlz"
      },
      "source": [
        "## LightGBM"
      ],
      "id": "VC1qqPnVbLlz"
    },
    {
      "cell_type": "code",
      "execution_count": null,
      "metadata": {
        "id": "JYv3q0A1bEDl"
      },
      "outputs": [],
      "source": [
        "import lightgbm as lgb\n",
        "model = lgb.LGBMClassifier(learning_rate=0.09,max_depth=-5,random_state=42)\n",
        "model.fit(X_train, y_train)\n",
        "pred_y = model.predict(X_test)\n",
        "print(metrics.accuracy_score(y_test, pred_y))"
      ],
      "id": "JYv3q0A1bEDl"
    },
    {
      "cell_type": "markdown",
      "metadata": {
        "id": "wPdq6hFsbQfT"
      },
      "source": [
        "## XGBOOST"
      ],
      "id": "wPdq6hFsbQfT"
    },
    {
      "cell_type": "code",
      "execution_count": null,
      "metadata": {
        "id": "U_Taov4MaMjT"
      },
      "outputs": [],
      "source": [
        "import xgboost as xgb\n",
        "model_b = xgb.XGBClassifier( eval_metric='logloss',use_label_encoder=False)\n",
        "model_b.fit(X_train, y_train)\n",
        "pred_y = model_b.predict(X_test)\n",
        "print(metrics.accuracy_score(y_test, pred_y))"
      ],
      "id": "U_Taov4MaMjT"
    },
    {
      "cell_type": "markdown",
      "metadata": {
        "id": "gS35Vn5HbUIx"
      },
      "source": [
        "## Try PJ dataset as test set on trained corpus"
      ],
      "id": "gS35Vn5HbUIx"
    },
    {
      "cell_type": "code",
      "execution_count": null,
      "metadata": {
        "id": "BpXpK7NZbVyc"
      },
      "outputs": [],
      "source": [
        "from os import listdir\n",
        "from os.path import isfile, join\n",
        "import warnings\n",
        "mypath = 'GeneralData'\n",
        "onlyfiles = [f for f in listdir(mypath) if isfile(join(mypath, f))]\n",
        "onlyfiles.remove('chatlog.dtd')\n",
        "corpus_pj = [] # each row is a string formed from all messages in a conversations\n",
        "labels_pj = [] # each row is 0 or 1, corresponds to label for same row in corpus\n",
        "for file in onlyfiles:\n",
        "    df= pd.read_xml(f'GeneralData/{file}').drop(columns=['COMMENT'])\n",
        "    df=df[~df['BODY'].isna()]\n",
        "    df=df[~df['USERNAME'].isna()]\n",
        "    pred_name = file.split('.xml')[0].lower()\n",
        "    corpus_pj.append(\" \".join(df[df['USERNAME'].str.contains(pred_name,case=False)].BODY.tolist()))\n",
        "    labels_pj.append(1)\n",
        "    corpus_pj.append(\" \".join(df[~df['USERNAME'].str.contains(pred_name,case=False)].BODY.tolist()))\n",
        "    labels_pj.append(0)"
      ],
      "id": "BpXpK7NZbVyc"
    },
    {
      "cell_type": "code",
      "execution_count": null,
      "metadata": {
        "id": "WCkTovClbbZV"
      },
      "outputs": [],
      "source": [
        "X_test_pj = vectorizer.transform(corpus_pj)\n",
        "X_test_pj = scipy.sparse.csr_matrix(X_test_pj)\n",
        "y_test_pj = np.array(labels_pj)"
      ],
      "id": "WCkTovClbbZV"
    },
    {
      "cell_type": "code",
      "execution_count": null,
      "metadata": {
        "id": "5GBEGkr2bc7m"
      },
      "outputs": [],
      "source": [
        "pred_y = model.predict(X_test_pj)\n",
        "print(metrics.accuracy_score(y_test_pj, pred_y))\n",
        "np.unique(pred_y,return_counts=True)"
      ],
      "id": "5GBEGkr2bc7m"
    },
    {
      "cell_type": "markdown",
      "metadata": {
        "id": "FkpC3HITSYnW"
      },
      "source": [
        "# Classifying using Transformers"
      ],
      "id": "FkpC3HITSYnW"
    },
    {
      "cell_type": "markdown",
      "metadata": {
        "id": "beUS0rW3SYnd"
      },
      "source": [
        "## finetune API for text classification\n",
        "built upon TensorFlow & Keras"
      ],
      "id": "beUS0rW3SYnd"
    },
    {
      "cell_type": "code",
      "execution_count": null,
      "metadata": {
        "id": "hBFutDUCSYne"
      },
      "outputs": [],
      "source": [
        "%%capture\n",
        "import finetune as ft"
      ],
      "id": "hBFutDUCSYne"
    },
    {
      "cell_type": "code",
      "execution_count": null,
      "metadata": {
        "id": "sBIlzRg2SYne"
      },
      "outputs": [],
      "source": [
        "from finetune.base_models import BERT, BERTLarge, DistilBERT,RoBERTa,TextCNN"
      ],
      "id": "sBIlzRg2SYne"
    },
    {
      "cell_type": "code",
      "execution_count": null,
      "metadata": {
        "colab": {
          "base_uri": "https://localhost:8080/"
        },
        "id": "X_t5SqzcSYne",
        "outputId": "75476a6b-976a-41c7-c0fc-a3c1b217862d"
      },
      "outputs": [
        {
          "name": "stdout",
          "output_type": "stream",
          "text": [
            "Downloading: encoder.json\n"
          ]
        },
        {
          "name": "stderr",
          "output_type": "stream",
          "text": [
            "100%|██████████| 1.04M/1.04M [00:00<00:00, 3.76MiB/s]\n"
          ]
        },
        {
          "name": "stdout",
          "output_type": "stream",
          "text": [
            "Downloading: vocab.bpe\n"
          ]
        },
        {
          "name": "stderr",
          "output_type": "stream",
          "text": [
            "100%|██████████| 456k/456k [00:00<00:00, 2.02MiB/s]\n"
          ]
        },
        {
          "name": "stdout",
          "output_type": "stream",
          "text": [
            "Downloading: model-sm.jl\n"
          ]
        },
        {
          "name": "stderr",
          "output_type": "stream",
          "text": [
            "100%|██████████| 655M/655M [00:28<00:00, 22.7MiB/s]\n"
          ]
        }
      ],
      "source": [
        "model = ft.Classifier(base_model=TextCNN,chunk_long_sequences=True, n_epochs=3) # chunk_long_sequences flag moves a sliding window of length max_length across the input, and takes the mean of the feature representations from the windows"
      ],
      "id": "X_t5SqzcSYne"
    },
    {
      "cell_type": "code",
      "execution_count": null,
      "metadata": {
        "colab": {
          "base_uri": "https://localhost:8080/"
        },
        "id": "fkSL-PUnSYne",
        "outputId": "e00d6e24-39b9-4669-89bc-ce0d5cedf3b3"
      },
      "outputs": [
        {
          "name": "stderr",
          "output_type": "stream",
          "text": [
            "Epoch 3/3: 100%|██████████| 1808/1808 [00:14<00:00, 125.49it/s]\n",
            "Inference: 0it [00:00, ?it/s]/usr/local/lib/python3.7/dist-packages/finetune/base_models/textcnn/featurizer.py:77: UserWarning: `tf.layers.conv1d` is deprecated and will be removed in a future version. Please Use `tf.keras.layers.Conv1D` instead.\n",
            "  kernel_initializer=tf.compat.v1.initializers.glorot_normal,\n",
            "/usr/local/lib/python3.7/dist-packages/keras/legacy_tf_layers/convolutional.py:294: UserWarning: `layer.apply` is deprecated and will be removed in a future version. Please use `layer.__call__` method instead.\n",
            "  return layer.apply(inputs)\n",
            "Inference: 5608it [00:49, 113.30it/s]"
          ]
        },
        {
          "name": "stdout",
          "output_type": "stream",
          "text": [
            "Accuracy on PAN12 test dataset:  87.99928673323824\n"
          ]
        },
        {
          "name": "stderr",
          "output_type": "stream",
          "text": [
            "\n"
          ]
        }
      ],
      "source": [
        "model.fit(train_corpus, train_labels)\n",
        "pred_y = model.predict(test_corpus)\n",
        "print('Accuracy on PAN12 test dataset: ',metrics.accuracy_score(test_labels, pred_y)*100)\n",
        "# running time of 2 minutes "
      ],
      "id": "fkSL-PUnSYne"
    },
    {
      "cell_type": "code",
      "execution_count": null,
      "metadata": {
        "colab": {
          "base_uri": "https://localhost:8080/"
        },
        "id": "zaRTtcIHSYne",
        "outputId": "29a912aa-35f6-4b27-a378-0e7231e61490"
      },
      "outputs": [
        {
          "name": "stdout",
          "output_type": "stream",
          "text": [
            "Accuracy on PAN12 test dataset:  87.99928673323824\n"
          ]
        }
      ],
      "source": [
        "print('Accuracy on PAN12 test dataset: ',metrics.accuracy_score(test_labels, pred_y)*100)"
      ],
      "id": "zaRTtcIHSYne"
    },
    {
      "cell_type": "code",
      "execution_count": null,
      "metadata": {
        "colab": {
          "base_uri": "https://localhost:8080/"
        },
        "id": "pKuJrl78SYnf",
        "outputId": "e33969a4-4a32-4e44-d80f-289807038c6c"
      },
      "outputs": [
        {
          "name": "stderr",
          "output_type": "stream",
          "text": [
            "\rInference: 0it [00:00, ?it/s]/usr/local/lib/python3.7/dist-packages/finetune/base_models/textcnn/featurizer.py:77: UserWarning: `tf.layers.conv1d` is deprecated and will be removed in a future version. Please Use `tf.keras.layers.Conv1D` instead.\n",
            "  kernel_initializer=tf.compat.v1.initializers.glorot_normal,\n",
            "/usr/local/lib/python3.7/dist-packages/keras/legacy_tf_layers/convolutional.py:294: UserWarning: `layer.apply` is deprecated and will be removed in a future version. Please use `layer.__call__` method instead.\n",
            "  return layer.apply(inputs)\n",
            "Inference: 115it [00:23,  4.85it/s]\n"
          ]
        }
      ],
      "source": [
        "pred_y = model.predict(corpus_pj)"
      ],
      "id": "pKuJrl78SYnf"
    },
    {
      "cell_type": "code",
      "execution_count": null,
      "metadata": {
        "colab": {
          "base_uri": "https://localhost:8080/"
        },
        "id": "ZbSQWZnqVlKP",
        "outputId": "21d6e6c8-a66c-4c70-e4d7-62e9110f8138"
      },
      "outputs": [
        {
          "name": "stdout",
          "output_type": "stream",
          "text": [
            "Accuracy on PJ test dataset:  96.42857142857143\n"
          ]
        }
      ],
      "source": [
        "print('Accuracy on PJ test dataset: ',metrics.accuracy_score(labels_pj, pred_y)*100)"
      ],
      "id": "ZbSQWZnqVlKP"
    },
    {
      "cell_type": "code",
      "execution_count": null,
      "metadata": {
        "id": "4z0pPXC_WCwu"
      },
      "outputs": [],
      "source": [
        "model.save(path ='TextCNN_pred_vict_classifier')"
      ],
      "id": "4z0pPXC_WCwu"
    },
    {
      "cell_type": "markdown",
      "metadata": {
        "id": "bk67M9BXfRN-"
      },
      "source": [
        "# ReShuffeling the train-test pan12 data"
      ],
      "id": "bk67M9BXfRN-"
    },
    {
      "cell_type": "code",
      "execution_count": null,
      "metadata": {
        "id": "EaToxJMbimeV"
      },
      "outputs": [],
      "source": [
        "from sklearn.model_selection import train_test_split"
      ],
      "id": "EaToxJMbimeV"
    },
    {
      "cell_type": "code",
      "execution_count": null,
      "metadata": {
        "id": "yYzKG743hZqp"
      },
      "outputs": [],
      "source": [
        "df= pd.DataFrame(columns = ['chat','labels'])"
      ],
      "id": "yYzKG743hZqp"
    },
    {
      "cell_type": "code",
      "execution_count": null,
      "metadata": {
        "id": "MLX-Nj1IhhfI"
      },
      "outputs": [],
      "source": [
        "df['chat'] =  train_corpus+test_corpus\n",
        "df['labels'] = train_labels+test_labels"
      ],
      "id": "MLX-Nj1IhhfI"
    },
    {
      "cell_type": "code",
      "execution_count": null,
      "metadata": {
        "id": "pvO3q-6ChpmX"
      },
      "outputs": [],
      "source": [
        "X_train, X_test, y_train, y_test = train_test_split(df['chat'].tolist(), df['labels'].tolist(), test_size=0.2, random_state=42)"
      ],
      "id": "pvO3q-6ChpmX"
    },
    {
      "cell_type": "code",
      "execution_count": null,
      "metadata": {
        "colab": {
          "base_uri": "https://localhost:8080/",
          "height": 281
        },
        "id": "1JiMvCAthRGZ",
        "outputId": "a3ac7993-c971-4c49-87f2-d3b3d2e4b81e"
      },
      "outputs": [
        {
          "data": {
            "image/png": "[encoded data removed]",
            "text/plain": [
              "<Figure size 432x288 with 2 Axes>"
            ]
          },
          "metadata": {},
          "output_type": "display_data"
        }
      ],
      "source": [
        "fig, (ax1, ax2) = plt.subplots(1, 2)\n",
        "ax = (pd.Series(y_train).value_counts()/len(y_train)*100).round(2).plot(kind='bar',title='Train labels distribution',ax= ax1)\n",
        "ax.bar_label(ax1.containers[0])\n",
        "ax = (pd.Series(y_test).value_counts()/len(y_test)*100).round(2).plot(kind='bar',title='Test labels distribution',ax=ax2)\n",
        "ax.bar_label(ax2.containers[0])\n",
        "ax1.tick_params(axis='x', rotation=0)\n",
        "ax2.tick_params(axis='x', rotation=0)\n",
        "plt.show()"
      ],
      "id": "1JiMvCAthRGZ"
    },
    {
      "cell_type": "markdown",
      "metadata": {
        "id": "1FpQs4kOjsui"
      },
      "source": [
        ""
      ],
      "id": "1FpQs4kOjsui"
    },
    {
      "cell_type": "markdown",
      "metadata": {
        "id": "h7RyAeYzjtAz"
      },
      "source": [
        "## TF-IDF on data\n",
        "We will now represent all conversations using BOW with TF-IDF weighting scheme."
      ],
      "id": "h7RyAeYzjtAz"
    },
    {
      "cell_type": "code",
      "execution_count": null,
      "metadata": {
        "id": "5fwBiov2jtAz"
      },
      "outputs": [],
      "source": [
        "vectorizer = TfidfVectorizer()\n",
        "X_train = vectorizer.fit_transform(X_train)\n",
        "X_test = vectorizer.transform(X_test)\n",
        "\n",
        "X_train = scipy.sparse.csr_matrix(X_train)\n",
        "y_train = np.array(y_train)\n",
        "X_test = scipy.sparse.csr_matrix(X_test)\n",
        "y_test = np.array(y_test)"
      ],
      "id": "5fwBiov2jtAz"
    },
    {
      "cell_type": "markdown",
      "metadata": {
        "id": "IH-pbUxyjtAz"
      },
      "source": [
        "## Create PJ dataset as test set on trained corpus"
      ],
      "id": "IH-pbUxyjtAz"
    },
    {
      "cell_type": "code",
      "execution_count": null,
      "metadata": {
        "id": "Sv0Sn0-1jtAz"
      },
      "outputs": [],
      "source": [
        "from os import listdir\n",
        "from os.path import isfile, join\n",
        "import warnings\n",
        "mypath = 'GeneralData'\n",
        "onlyfiles = [f for f in listdir(mypath) if isfile(join(mypath, f))]\n",
        "onlyfiles.remove('chatlog.dtd')\n"
      ],
      "id": "Sv0Sn0-1jtAz"
    },
    {
      "cell_type": "code",
      "execution_count": null,
      "metadata": {
        "id": "KUj4Edc4jtAz"
      },
      "outputs": [],
      "source": [
        "corpus_pj = [] # each row is a string formed from all messages in a conversations\n",
        "labels_pj = [] # each row is 0 or 1, corresponds to label for same row in corpus\n",
        "for file in onlyfiles:\n",
        "    df= pd.read_xml(f'GeneralData/{file}').drop(columns=['COMMENT'])\n",
        "    df=df[~df['BODY'].isna()]\n",
        "    df=df[~df['USERNAME'].isna()]\n",
        "    string = \" \"\n",
        "    for text in df.BODY.tolist():\n",
        "        if text is not None:\n",
        "            #preprocess:\n",
        "            #preprocess:\n",
        "            # text = preprocess_text(text)\n",
        "            string = string + \"\\r\\n\" + text \n",
        "    corpus_pj.append(string)\n",
        "    labels_pj.append(1)"
      ],
      "id": "KUj4Edc4jtAz"
    },
    {
      "cell_type": "code",
      "execution_count": null,
      "metadata": {
        "id": "a0eR1hNijtA0"
      },
      "outputs": [],
      "source": [
        "#transform it with TF-IDF based on the trained corpus\n",
        "X_test_pj = vectorizer.transform(corpus_pj)\n",
        "X_test_pj = scipy.sparse.csr_matrix(X_test_pj)#[:,best_feat]\n",
        "y_test_pj = np.array(labels_pj)"
      ],
      "id": "a0eR1hNijtA0"
    },
    {
      "cell_type": "markdown",
      "metadata": {
        "id": "VSf87hLajtA0"
      },
      "source": [
        "##LightGBM model classification"
      ],
      "id": "VSf87hLajtA0"
    },
    {
      "cell_type": "code",
      "execution_count": null,
      "metadata": {
        "colab": {
          "base_uri": "https://localhost:8080/"
        },
        "id": "rFpqrmwmjtA0",
        "outputId": "96f6dcb7-0a76-4697-d753-a6695bd0b138"
      },
      "outputs": [
        {
          "name": "stdout",
          "output_type": "stream",
          "text": [
            "0.9857794853282451\n",
            "Accuracy on PAN12 test dataset:  98.57794853282451\n",
            "Accuracy on PJ test dataset:  98.21428571428571\n"
          ]
        },
        {
          "data": {
            "text/plain": [
              "(array([0, 1]), array([ 1, 55]))"
            ]
          },
          "execution_count": 78,
          "metadata": {},
          "output_type": "execute_result"
        }
      ],
      "source": [
        "import lightgbm as lgb\n",
        "modelgbm = lgb.LGBMClassifier(learning_rate=0.09,max_depth=-5,random_state=42)\n",
        "modelgbm.fit(X_train, y_train)\n",
        "pred_y = modelgbm.predict(X_test)\n",
        "print(metrics.accuracy_score(y_test, pred_y))\n",
        "# try on PJ dataset:\n",
        "print('Accuracy on PAN12 test dataset: ',metrics.accuracy_score(y_test, pred_y)*100)\n",
        "# try on PJ dataset:\n",
        "pred_y = modelgbm.predict(X_test_pj)\n",
        "print('Accuracy on PJ test dataset: ',metrics.accuracy_score(y_test_pj, pred_y)*100)\n",
        "np.unique(pred_y,return_counts=True)"
      ],
      "id": "rFpqrmwmjtA0"
    },
    {
      "cell_type": "markdown",
      "metadata": {
        "id": "bgz3zPZSjtA0"
      },
      "source": [
        "## XGBoost model classification"
      ],
      "id": "bgz3zPZSjtA0"
    },
    {
      "cell_type": "code",
      "execution_count": null,
      "metadata": {
        "colab": {
          "base_uri": "https://localhost:8080/"
        },
        "id": "9xDWFA64jtA0",
        "outputId": "72eaa724-41cd-4f71-a445-615002d8122f"
      },
      "outputs": [
        {
          "name": "stdout",
          "output_type": "stream",
          "text": [
            "Accuracy on PAN12 test dataset:  98.53681514411046\n",
            "Accuracy on PJ test dataset:  94.64285714285714\n"
          ]
        },
        {
          "data": {
            "text/plain": [
              "(array([0, 1]), array([ 3, 53]))"
            ]
          },
          "execution_count": 19,
          "metadata": {},
          "output_type": "execute_result"
        }
      ],
      "source": [
        "import xgboost as xgb\n",
        "np.random.seed(12)\n",
        "model_b = xgb.XGBClassifier(eval_metric='logloss',use_label_encoder=False)\n",
        "model_b.fit(X_train, y_train)\n",
        "pred_y = model_b.predict(X_test)\n",
        "print('Accuracy on PAN12 test dataset: ',metrics.accuracy_score(y_test, pred_y)*100)\n",
        "# try on PJ dataset:\n",
        "pred_y = model_b.predict(X_test_pj)\n",
        "print('Accuracy on PJ test dataset: ',metrics.accuracy_score(y_test_pj, pred_y)*100)\n",
        "np.unique(pred_y,return_counts=True)"
      ],
      "id": "9xDWFA64jtA0"
    },
    {
      "cell_type": "markdown",
      "metadata": {
        "id": "Stf-waMGjtA0"
      },
      "source": [
        "try with best features to achieve higher accuracy on test sets"
      ],
      "id": "Stf-waMGjtA0"
    },
    {
      "cell_type": "code",
      "execution_count": null,
      "metadata": {
        "colab": {
          "base_uri": "https://localhost:8080/"
        },
        "id": "4tMhNQbJjtA1",
        "outputId": "df82b680-d2c4-47cf-8e04-642f709fda25"
      },
      "outputs": [
        {
          "name": "stdout",
          "output_type": "stream",
          "text": [
            "Accuracy on PAN12 test dataset:  98.53681514411046\n",
            "Accuracy on PJ test dataset:  94.64285714285714\n"
          ]
        },
        {
          "data": {
            "text/plain": [
              "(array([0, 1]), array([ 3, 53]))"
            ]
          },
          "execution_count": 20,
          "metadata": {},
          "output_type": "execute_result"
        }
      ],
      "source": [
        "best_feat = pd.Series(model_b.feature_importances_).sort_values(ascending=False).nlargest(155).index.tolist()\n",
        "model_best_feat = xgb.XGBClassifier(eval_metric='logloss',use_label_encoder=False)\n",
        "model_best_feat.fit(X_train[:,best_feat], y_train)\n",
        "pred_y = model_best_feat.predict(X_test[:,best_feat])\n",
        "print('Accuracy on PAN12 test dataset: ',metrics.accuracy_score(y_test, pred_y)*100)\n",
        "#transform it with TF-IDF based on the trained corpus\n",
        "X_test_pj = vectorizer.transform(corpus_pj)\n",
        "X_test_pj = scipy.sparse.csr_matrix(X_test_pj)\n",
        "X_test_pj =X_test_pj[:,best_feat]\n",
        "y_test_pj = np.array(labels_pj)\n",
        "# try on PJ dataset:\n",
        "pred_y = model_best_feat.predict(X_test_pj)\n",
        "print('Accuracy on PJ test dataset: ',metrics.accuracy_score(y_test_pj, pred_y)*100)\n",
        "np.unique(pred_y,return_counts=True)"
      ],
      "id": "4tMhNQbJjtA1"
    },
    {
      "cell_type": "markdown",
      "metadata": {
        "id": "43DcqB3djtA1"
      },
      "source": [
        "## Applying SVM "
      ],
      "id": "43DcqB3djtA1"
    },
    {
      "cell_type": "markdown",
      "metadata": {
        "id": "LKdMx-S9jtA1"
      },
      "source": [
        "Linear support"
      ],
      "id": "LKdMx-S9jtA1"
    },
    {
      "cell_type": "code",
      "execution_count": null,
      "metadata": {
        "colab": {
          "base_uri": "https://localhost:8080/"
        },
        "id": "GjS40HHwjtA1",
        "outputId": "220fa3bd-3e9e-4fa4-a258-3a760dfbeb81"
      },
      "outputs": [
        {
          "name": "stdout",
          "output_type": "stream",
          "text": [
            "Accuracy on PAN12 test dataset:  98.96370006182471\n",
            "Accuracy on PJ test dataset:  96.42857142857143\n"
          ]
        },
        {
          "data": {
            "text/plain": [
              "(array([0, 1]), array([ 2, 54]))"
            ]
          },
          "execution_count": 21,
          "metadata": {},
          "output_type": "execute_result"
        }
      ],
      "source": [
        "#SVM\n",
        "model_linear = LinearSVC(random_state=0, C=2.9, loss='squared_hinge', dual=True)\n",
        "model_linear.fit(X_train, y_train)\n",
        "pred_y = model_linear.predict(X_test)\n",
        "print('Accuracy on PAN12 test dataset: ',metrics.accuracy_score(y_test, pred_y)*100)\n",
        "X_test_pj = vectorizer.transform(corpus_pj)\n",
        "X_test_pj = scipy.sparse.csr_matrix(X_test_pj)\n",
        "X_test_pj =X_test_pj\n",
        "y_test_pj = np.array(labels_pj)\n",
        "# try on PJ dataset:\n",
        "pred_y = model_linear.predict(X_test_pj)\n",
        "print('Accuracy on PJ test dataset: ',metrics.accuracy_score(y_test_pj, pred_y)*100)\n",
        "np.unique(pred_y,return_counts=True)"
      ],
      "id": "GjS40HHwjtA1"
    },
    {
      "cell_type": "markdown",
      "metadata": {
        "id": "ls61ANjBk1Bj"
      },
      "source": [
        "## Applying DeepNN"
      ],
      "id": "ls61ANjBk1Bj"
    },
    {
      "cell_type": "code",
      "execution_count": null,
      "metadata": {
        "id": "aDJjhtb2k1Bj"
      },
      "outputs": [],
      "source": [
        "from keras.models import Sequential\n",
        "from keras.layers import Dense, Dropout\n",
        "from keras.wrappers.scikit_learn import KerasClassifier\n",
        "from keras.utils import np_utils\n",
        "import random as python_random\n",
        "import tensorflow as tf"
      ],
      "id": "aDJjhtb2k1Bj"
    },
    {
      "cell_type": "code",
      "execution_count": null,
      "metadata": {
        "id": "iYZlrfNUk1Bj"
      },
      "outputs": [],
      "source": [
        "from keras import backend as K \n",
        "\n",
        "# Do some code, e.g. train and save model\n",
        "\n",
        "K.clear_session()"
      ],
      "id": "iYZlrfNUk1Bj"
    },
    {
      "cell_type": "code",
      "execution_count": null,
      "metadata": {
        "id": "X0HiF82Ak1Bj"
      },
      "outputs": [],
      "source": [
        "X_train, X_test, y_train, y_test = train_test_split(df['chat'].tolist(), df['labels'].tolist(), test_size=0.2, random_state=42)\n",
        "vectorizer = TfidfVectorizer()\n",
        "# PAN12 data\n",
        "X_train = vectorizer.fit_transform(X_train).astype('float16')\n",
        "X_test = vectorizer.transform(X_test).astype('float16')\n",
        "y_train = np.array(y_train)\n",
        "y_test = np.array(y_test)\n",
        "##pj -data \n",
        "X_test_pj = vectorizer.transform(corpus_pj).astype('float16')\n",
        "y_test_pj = np.array(labels_pj)"
      ],
      "id": "X0HiF82Ak1Bj"
    },
    {
      "cell_type": "code",
      "execution_count": null,
      "metadata": {
        "id": "zY8kcdxIk1Bk"
      },
      "outputs": [],
      "source": [
        "# Model Training \n",
        "print (\"Create model ... \")\n",
        "def build_model(dim_inp):\n",
        "    K.clear_session()\n",
        "    np.random.seed(12)\n",
        "    python_random.seed(12)\n",
        "    tf.random.set_seed(12)\n",
        "    model = Sequential()\n",
        "    model.add(Dense(256, input_dim=dim_inp, activation='relu'))\n",
        "    model.add(Dropout(0.5))\n",
        "    model.add(Dense(200, activation='relu'))\n",
        "    model.add(Dropout(0.5))\n",
        "    model.add(Dense(160, activation='relu'))\n",
        "    model.add(Dropout(0.3))\n",
        "    model.add(Dense(120, activation='relu'))\n",
        "    model.add(Dropout(0.3))\n",
        "    model.add(Dense(80, activation='relu'))\n",
        "    model.add(Dropout(0.3))\n",
        "    model.add(Dense(1, activation='sigmoid'))\n",
        "    model.compile(loss='binary_crossentropy', optimizer='adam', metrics=['accuracy'])\n",
        "    model.summary()\n",
        "    return model\n",
        "\n",
        "print(\"Compile model ...\")\n",
        "model = build_model(X_train.shape[1])"
      ],
      "id": "zY8kcdxIk1Bk"
    },
    {
      "cell_type": "code",
      "execution_count": null,
      "metadata": {
        "id": "gIxMqN08k1Bk"
      },
      "outputs": [],
      "source": [
        "# Train model\n",
        "model.compile(tf.keras.optimizers.Adam(learning_rate=0.001),\n",
        "            loss='binary_crossentropy',\n",
        "            metrics=['accuracy'])\n",
        "model.fit(X_train, y_train, batch_size=64, shuffle=\"batch\",\n",
        "                epochs=3)\n"
      ],
      "id": "gIxMqN08k1Bk"
    },
    {
      "cell_type": "code",
      "execution_count": null,
      "metadata": {
        "id": "BSRCWhH_k1Bk"
      },
      "outputs": [],
      "source": [
        "pred_y = model.predict(X_test)\n",
        "pred_y =np.round(pred_y.flatten())\n",
        "print('Accuracy on PAN12 test dataset: ',metrics.accuracy_score(y_test, pred_y)*100)"
      ],
      "id": "BSRCWhH_k1Bk"
    },
    {
      "cell_type": "code",
      "execution_count": null,
      "metadata": {
        "id": "U_Irngy3k1Bk"
      },
      "outputs": [],
      "source": [
        "pred_y = model.predict(X_test_pj)\n",
        "pred_y =np.round(pred_y.flatten())\n",
        "print('Accuracy on PJ test dataset: ',metrics.accuracy_score(labels_pj,pred_y)*100)"
      ],
      "id": "U_Irngy3k1Bk"
    },
    {
      "cell_type": "markdown",
      "metadata": {
        "id": "upsfaMytE4ZH"
      },
      "source": [
        "# Try NLP tactics: tokenize, lemmatize, and then preprocess"
      ],
      "id": "upsfaMytE4ZH"
    },
    {
      "cell_type": "code",
      "execution_count": null,
      "metadata": {
        "id": "1_86yo29FCcp"
      },
      "outputs": [],
      "source": [
        "from nltk.tokenize import word_tokenize, regexp_tokenize\n",
        "from nltk import regexp_tokenize as rxtoken\n",
        "from nltk.stem import SnowballStemmer, RegexpStemmer\n",
        "from nltk.corpus import stopwords\n",
        "from nltk.probability import FreqDist"
      ],
      "id": "1_86yo29FCcp"
    },
    {
      "cell_type": "code",
      "execution_count": null,
      "metadata": {
        "id": "Q-V4ENwEFIIP"
      },
      "outputs": [],
      "source": [
        "def tokenization(text):\n",
        "    #token = word_tokenize(text) # Separa el texto en tokens\n",
        "    token = regexp_tokenize(text,'[^0-9]') # Extrae los token del texto sin numeros\n",
        "    token = ''.join(str(k) for k in token) # Une los items de la lista\n",
        "    return token.split() # Devuelve tokens del texto\n",
        "\n",
        "def lemmatization(text):\n",
        "    stemmer = SnowballStemmer('english') # Clase Stemming\n",
        "    stem_text = []\n",
        "    for word in text: # Recorro cada palabra en la lista y extraigo su raiz\n",
        "        stem_text.append(stemmer.stem(word))\n",
        "    return stem_text # Devuelvo la raiz de cada palabra\n",
        "  \n",
        "def preprocessText(text):\n",
        "    stopwd = stopwords.words('english') # Conjunto de stopwords\n",
        "    tokens = tokenization(text) # Obtengo el token del texto\n",
        "    if tokens:\n",
        "        # Si el token no pertenece al conjunto de stopwords lo agrego a la lista\n",
        "        text_without_stopwd = [word for word in tokens if len(word) > 2 and word not in stopwd]\n",
        "        text_process = lemmatization(text_without_stopwd) # Obtengo la base de cada palabra en la lista\n",
        "        if text_process:\n",
        "            return text_process # Devuelvo una lista con las palabras mas significativas\n",
        "def processText(text):\n",
        "  token = tokenization(text) # Obtengo el token del texto\n",
        "  clean_words = [word for word in token if len(word)>2 and word not in stopwords.words('english')]\n",
        "  lemma_words = lemmatization(clean_words)\n",
        "  proces_text = [text for text in lemma_words if text]\n",
        "  proces_text = ' '.join(str(t) for t in proces_text if t)\n",
        "  return proces_text "
      ],
      "id": "Q-V4ENwEFIIP"
    }
  ],
  "metadata": {
    "accelerator": "GPU",
    "colab": {
      "collapsed_sections": [
        "9Ugcx-pzQIJy"
      ],
      "machine_shape": "hm",
      "name": "Classifications.ipynb",
      "provenance": []
    },
    "kernelspec": {
      "display_name": "Python 3",
      "language": "python",
      "name": "python3"
    },
    "language_info": {
      "codemirror_mode": {
        "name": "ipython",
        "version": 3
      },
      "file_extension": ".py",
      "mimetype": "text/x-python",
      "name": "python",
      "nbconvert_exporter": "python",
      "pygments_lexer": "ipython3",
      "version": "3.8.8"
    }
  },
  "nbformat": 4,
  "nbformat_minor": 5
}