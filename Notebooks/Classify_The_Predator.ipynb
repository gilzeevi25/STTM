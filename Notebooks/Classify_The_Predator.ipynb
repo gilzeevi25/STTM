{
  "nbformat": 4,
  "nbformat_minor": 0,
  "metadata": {
    "colab": {
      "name": "Classify_The_Predator.ipynb",
      "provenance": [],
      "collapsed_sections": [],
      "machine_shape": "hm",
      "authorship_tag": "ABX9TyO1YJv/W9trIh7LXL+8zita"
    },
    "kernelspec": {
      "name": "python3",
      "display_name": "Python 3"
    },
    "language_info": {
      "name": "python"
    },
    "accelerator": "GPU",
    "gpuClass": "standard"
  },
  "cells": [
    {
      "cell_type": "code",
      "source": [
        "%%capture\n",
        "!pip install --upgrade matplotlib #relevant as colab's default version doesnt support bar_label attribute\n",
        "# Restart the kernel automatically with upgraded matplotlib\n",
        "import os\n",
        "os.kill(os.getpid(), 9)"
      ],
      "metadata": {
        "id": "6VWY_G-JXhJN"
      },
      "execution_count": null,
      "outputs": []
    },
    {
      "cell_type": "code",
      "execution_count": null,
      "metadata": {
        "colab": {
          "base_uri": "https://localhost:8080/"
        },
        "id": "IWzE2-yfDfjX",
        "outputId": "0f75fd4e-2867-4485-884c-2fae2ced0c44"
      },
      "outputs": [
        {
          "output_type": "stream",
          "name": "stdout",
          "text": [
            "Drive already mounted at /content/gdrive; to attempt to forcibly remount, call drive.mount(\"/content/gdrive\", force_remount=True).\n"
          ]
        }
      ],
      "source": [
        "from google.colab import drive\n",
        "drive.mount('/content/gdrive')"
      ]
    },
    {
      "cell_type": "code",
      "execution_count": null,
      "metadata": {
        "colab": {
          "base_uri": "https://localhost:8080/"
        },
        "id": "cKiDt1yRDkF4",
        "outputId": "ac4c6254-45ab-49d5-e082-d3e4bf76969f"
      },
      "outputs": [
        {
          "output_type": "stream",
          "name": "stdout",
          "text": [
            "/content/gdrive/MyDrive/STTM\n"
          ]
        }
      ],
      "source": [
        "cd /content/gdrive/MyDrive/STTM"
      ]
    },
    {
      "cell_type": "code",
      "execution_count": null,
      "metadata": {
        "id": "ecadfa8c"
      },
      "outputs": [],
      "source": [
        "import numpy as np\n",
        "import pandas as pd\n",
        "import xml.etree.ElementTree as ET\n",
        "import datetime\n",
        "import re\n",
        "import time\n",
        "import warnings\n",
        "import csv\n",
        "import sklearn\n",
        "from sklearn.feature_extraction.text import TfidfVectorizer\n",
        "import scipy\n",
        "from tqdm.notebook import tqdm\n",
        "from sklearn import svm\n",
        "import matplotlib.pyplot as plt\n",
        "from sklearn import metrics\n",
        "from sklearn.svm import LinearSVC\n",
        "from sklearn.metrics import classification_report\n",
        "from sklearn.ensemble import VotingClassifier\n",
        "from sklearn.metrics import roc_curve,roc_auc_score\n",
        "import lightgbm as lgb\n",
        "import xgboost as xgb\n",
        "import pickle\n",
        "from keras.models import Sequential\n",
        "from keras.layers import Dense, Dropout\n",
        "# from keras.wrappers.scikit_learn import KerasClassifier\n",
        "from keras.utils import np_utils\n",
        "import random as python_random\n",
        "import tensorflow as tf\n",
        "from keras import backend as K \n",
        "from tensorflow import keras\n"
      ]
    },
    {
      "cell_type": "markdown",
      "source": [
        "inspect which GPU is allocated for the task"
      ],
      "metadata": {
        "id": "8DoVFZys8NMn"
      }
    },
    {
      "cell_type": "code",
      "source": [
        "!nvidia-smi"
      ],
      "metadata": {
        "colab": {
          "base_uri": "https://localhost:8080/"
        },
        "id": "qc0fhXFe8I-t",
        "outputId": "8e840ba1-5019-4c61-891a-8adb1327d544"
      },
      "execution_count": null,
      "outputs": [
        {
          "output_type": "stream",
          "name": "stdout",
          "text": [
            "Tue Jun 14 14:38:34 2022       \n",
            "+-----------------------------------------------------------------------------+\n",
            "| NVIDIA-SMI 460.32.03    Driver Version: 460.32.03    CUDA Version: 11.2     |\n",
            "|-------------------------------+----------------------+----------------------+\n",
            "| GPU  Name        Persistence-M| Bus-Id        Disp.A | Volatile Uncorr. ECC |\n",
            "| Fan  Temp  Perf  Pwr:Usage/Cap|         Memory-Usage | GPU-Util  Compute M. |\n",
            "|                               |                      |               MIG M. |\n",
            "|===============================+======================+======================|\n",
            "|   0  Tesla T4            Off  | 00000000:00:04.0 Off |                    0 |\n",
            "| N/A   35C    P8     9W /  70W |      0MiB / 15109MiB |      0%      Default |\n",
            "|                               |                      |                  N/A |\n",
            "+-------------------------------+----------------------+----------------------+\n",
            "                                                                               \n",
            "+-----------------------------------------------------------------------------+\n",
            "| Processes:                                                                  |\n",
            "|  GPU   GI   CI        PID   Type   Process name                  GPU Memory |\n",
            "|        ID   ID                                                   Usage      |\n",
            "|=============================================================================|\n",
            "|  No running processes found                                                 |\n",
            "+-----------------------------------------------------------------------------+\n"
          ]
        }
      ]
    },
    {
      "cell_type": "code",
      "execution_count": null,
      "metadata": {
        "id": "2fff415f"
      },
      "outputs": [],
      "source": [
        "train_data_path = \"data/pan12-sexual-predator-identification-training-corpus-2012-05-01/\"\n",
        "\n",
        "training_xml = ET.parse(train_data_path + 'training_data.xml')\n",
        "train_root = training_xml.getroot()\n",
        "\n",
        "test_data_path = 'data/pan12-sexual-predator-identification-test-corpus-2012-05-21/'\n",
        "test_xml = ET.parse(test_data_path + 'pan12-sexual-predator-identification-test-corpus-2012-05-17.xml')\n",
        "test_root = test_xml.getroot()\n",
        "\n",
        "train_corpus, train_labels = get_features_labels(train_root, get_labels_dict(train_data_path))\n",
        "test_corpus, test_labels = get_features_labels(test_root, get_labels_dict(test_data_path))"
      ]
    },
    {
      "cell_type": "code",
      "source": [
        "len(train_corpus)"
      ],
      "metadata": {
        "colab": {
          "base_uri": "https://localhost:8080/"
        },
        "id": "W-IYB9AeXtwg",
        "outputId": "c75dc18a-a58b-46ac-c2ed-a03a50fbdb97"
      },
      "execution_count": null,
      "outputs": [
        {
          "output_type": "execute_result",
          "data": {
            "text/plain": [
              "14703"
            ]
          },
          "metadata": {},
          "execution_count": 8
        }
      ]
    },
    {
      "cell_type": "code",
      "source": [
        "fig, (ax1, ax2) = plt.subplots(1, 2)\n",
        "ax = (pd.Series(train_labels).value_counts()/len(train_labels)*100).round(2).plot(kind='bar',title='Train labels distribution',ax= ax1)\n",
        "ax.bar_label(ax1.containers[0])\n",
        "ax = (pd.Series(test_labels).value_counts()/len(test_labels)*100).round(2).plot(kind='bar',title='Test labels distribution',ax=ax2)\n",
        "ax.bar_label(ax2.containers[0])\n",
        "ax1.tick_params(axis='x', rotation=0)\n",
        "ax2.tick_params(axis='x', rotation=0)\n",
        "plt.show()"
      ],
      "metadata": {
        "colab": {
          "base_uri": "https://localhost:8080/",
          "height": 281
        },
        "id": "Pf0SNj5BpMK4",
        "outputId": "aa934f04-f59b-4c7d-abe2-42e372d22465"
      },
      "execution_count": null,
      "outputs": [
        {
          "output_type": "display_data",
          "data": {
            "text/plain": [
              "<Figure size 432x288 with 2 Axes>"
            ],
            "image/png": "[encoded data removed]"
          },
          "metadata": {
            "needs_background": "light"
          }
        }
      ]
    },
    {
      "cell_type": "markdown",
      "metadata": {
        "id": "bqUKjzs0ZvzP"
      },
      "source": [
        "# Building a classifier for classifying the predator / victim inside the conversation"
      ]
    },
    {
      "cell_type": "markdown",
      "metadata": {
        "id": "j2SQ9zqVZz8X"
      },
      "source": [
        "We feed one document per author per conversation. This means if an author partook in multiple conversations we will have multiple documents for that author. The benefit of this is this would better reflect the type of data in real-world and have more labeled data for training purposes"
      ]
    },
    {
      "cell_type": "code",
      "execution_count": null,
      "metadata": {
        "id": "cRgjpB96Zx9M"
      },
      "outputs": [],
      "source": [
        "def get_susp_conv_dict(data_path):\n",
        "    labels_dict = {}\n",
        "    with open(data_path + 'sci_labels.csv', 'r') as f:\n",
        "        file = csv.reader(f)\n",
        "        for row in file:\n",
        "            labels_dict[row[0]] = row[1]\n",
        "    return labels_dict\n",
        "\n",
        "\n",
        "def get_predators_dict(file): \n",
        "    all_predators = {}\n",
        "    with open(file, 'r') as f:\n",
        "        reader = csv.reader(f)\n",
        "        for row in reader:\n",
        "            all_predators[row[0]] = 1\n",
        "    return all_predators\n",
        "            \n",
        "\n",
        "def get_features_labels(root, labels_dict, all_predators):\n",
        "    corpus = [] # each row is a string formed from all messages in a conversations\n",
        "    labels = [] # each row is 0 or 1, corresponds to label for same row in corpus\n",
        "\n",
        "    for conversation in root:\n",
        "        # only get suspicious conversations\n",
        "        if labels_dict[conversation.get('id')] == '0':\n",
        "            continue\n",
        "        author_conv_dict = {}\n",
        "        for message in conversation:\n",
        "            author = message.find('author').text\n",
        "            text = message.find('text').text\n",
        "            if text is not None:\n",
        "                if author not in author_conv_dict:\n",
        "                    author_conv_dict[author] = text\n",
        "                else:\n",
        "                    author_conv_dict[author] += \" \" + text \n",
        "        for author, conv in author_conv_dict.items():\n",
        "            corpus.append(conv)\n",
        "            if author in all_predators:\n",
        "                labels.append(1)\n",
        "            else:\n",
        "                labels.append(0)\n",
        "    return corpus, labels"
      ]
    },
    {
      "cell_type": "code",
      "execution_count": null,
      "metadata": {
        "id": "gIQUKfMoZ2sA"
      },
      "outputs": [],
      "source": [
        "train_data_path = \"data/pan12-sexual-predator-identification-training-corpus-2012-05-01/\"\n",
        "training_xml = ET.parse(train_data_path + 'training_data.xml')\n",
        "train_root = training_xml.getroot()\n",
        "\n",
        "test_data_path = 'data/pan12-sexual-predator-identification-test-corpus-2012-05-21/'\n",
        "test_xml = ET.parse(test_data_path + 'pan12-sexual-predator-identification-test-corpus-2012-05-17.xml')\n",
        "test_root = test_xml.getroot()\n",
        "\n",
        "pred_train_file_path = 'data/pan12-sexual-predator-identification-training-corpus-2012-05-01/pan12-sexual-predator-identification-training-corpus-predators-2012-05-01.txt'\n",
        "pred_test_file_path = 'data/pan12-sexual-predator-identification-test-corpus-2012-05-21/pan12-sexual-predator-identification-groundtruth-problem1.txt'\n",
        "train_corpus, train_labels = get_features_labels(train_root, get_susp_conv_dict(train_data_path), get_predators_dict(pred_train_file_path))\n",
        "test_corpus, test_labels = get_features_labels(test_root, get_susp_conv_dict(test_data_path), get_predators_dict(pred_test_file_path))"
      ]
    },
    {
      "cell_type": "code",
      "source": [
        "len(train_corpus), len(test_corpus)"
      ],
      "metadata": {
        "colab": {
          "base_uri": "https://localhost:8080/"
        },
        "id": "n1quzKGNXZDE",
        "outputId": "6e59afd5-87bc-43d1-f03f-e40f0e96e77f"
      },
      "execution_count": null,
      "outputs": [
        {
          "output_type": "execute_result",
          "data": {
            "text/plain": [
              "(1808, 5608)"
            ]
          },
          "metadata": {},
          "execution_count": 14
        }
      ]
    },
    {
      "cell_type": "code",
      "source": [
        "pd.Series(train_labels).value_counts()"
      ],
      "metadata": {
        "colab": {
          "base_uri": "https://localhost:8080/"
        },
        "id": "teANQoHRYq49",
        "outputId": "803904a2-a1c6-4887-b880-746233e804f6"
      },
      "execution_count": null,
      "outputs": [
        {
          "output_type": "execute_result",
          "data": {
            "text/plain": [
              "0    907\n",
              "1    901\n",
              "dtype: int64"
            ]
          },
          "metadata": {},
          "execution_count": 16
        }
      ]
    },
    {
      "cell_type": "code",
      "source": [
        "pd.Series(test_labels).value_counts()"
      ],
      "metadata": {
        "colab": {
          "base_uri": "https://localhost:8080/"
        },
        "id": "05MzYmGEYwGV",
        "outputId": "e1ae9a09-bd5f-474d-9dcb-86cf8c4a0815"
      },
      "execution_count": null,
      "outputs": [
        {
          "output_type": "execute_result",
          "data": {
            "text/plain": [
              "1    3723\n",
              "0    1885\n",
              "dtype: int64"
            ]
          },
          "metadata": {},
          "execution_count": 18
        }
      ]
    },
    {
      "cell_type": "code",
      "source": [
        "fig, (ax1, ax2) = plt.subplots(1, 2)\n",
        "ax = (pd.Series(train_labels).value_counts()/len(train_labels)*100).round(2).plot(kind='bar',title='Train labels distribution',ax= ax1)\n",
        "ax.bar_label(ax1.containers[0])\n",
        "ax = (pd.Series(test_labels).value_counts()/len(test_labels)*100).round(2).plot(kind='bar',title='Test labels distribution',ax=ax2)\n",
        "ax.bar_label(ax2.containers[0])\n",
        "ax1.tick_params(axis='x', rotation=0)\n",
        "ax2.tick_params(axis='x', rotation=0)\n",
        "plt.show()"
      ],
      "metadata": {
        "colab": {
          "base_uri": "https://localhost:8080/",
          "height": 281
        },
        "id": "Hc3vcA4dYG-1",
        "outputId": "4bcb102d-e5e9-4104-ddb5-767f8121d35d"
      },
      "execution_count": null,
      "outputs": [
        {
          "output_type": "display_data",
          "data": {
            "text/plain": [
              "<Figure size 432x288 with 2 Axes>"
            ],
            "image/png": "[encoded data removed]"
          },
          "metadata": {
            "needs_background": "light"
          }
        }
      ]
    },
    {
      "cell_type": "code",
      "execution_count": null,
      "metadata": {
        "id": "BpXpK7NZbVyc"
      },
      "outputs": [],
      "source": [
        "from os import listdir\n",
        "from os.path import isfile, join\n",
        "import warnings\n",
        "mypath = 'GeneralData'\n",
        "onlyfiles = [f for f in listdir(mypath) if isfile(join(mypath, f))]\n",
        "onlyfiles.remove('chatlog.dtd')\n",
        "corpus_pj = [] # each row is a string formed from all messages in a conversations\n",
        "labels_pj = [] # each row is 0 or 1, corresponds to label for same row in corpus\n",
        "for file in onlyfiles:\n",
        "    df= pd.read_xml(f'GeneralData/{file}').drop(columns=['COMMENT'])\n",
        "    df=df[~df['BODY'].isna()]\n",
        "    df=df[~df['USERNAME'].isna()]\n",
        "    pred_name = file.split('.xml')[0].lower()\n",
        "    corpus_pj.append(\" \".join(df[df['USERNAME'].str.contains(pred_name,case=False)].BODY.tolist()))\n",
        "    labels_pj.append(1)\n",
        "    corpus_pj.append(\" \".join(df[~df['USERNAME'].str.contains(pred_name,case=False)].BODY.tolist()))\n",
        "    labels_pj.append(0)"
      ]
    },
    {
      "cell_type": "code",
      "source": [
        "len(labels_pj)"
      ],
      "metadata": {
        "colab": {
          "base_uri": "https://localhost:8080/"
        },
        "id": "MgjRWFzsqLaR",
        "outputId": "7c7b11db-4c91-482f-8981-67eb25f2dcf9"
      },
      "execution_count": null,
      "outputs": [
        {
          "output_type": "execute_result",
          "data": {
            "text/plain": [
              "112"
            ]
          },
          "metadata": {},
          "execution_count": 11
        }
      ]
    },
    {
      "cell_type": "code",
      "execution_count": null,
      "metadata": {
        "id": "WCkTovClbbZV"
      },
      "outputs": [],
      "source": [
        "X_test_pj = vectorizer.transform(corpus_pj)\n",
        "X_test_pj = scipy.sparse.csr_matrix(X_test_pj)\n",
        "y_test_pj = np.array(labels_pj)"
      ]
    },
    {
      "cell_type": "markdown",
      "metadata": {
        "id": "xmiy8X1aaDMD"
      },
      "source": [
        "## Applying TF-IDF"
      ]
    },
    {
      "cell_type": "code",
      "execution_count": null,
      "metadata": {
        "id": "3I7M4TWRaF0S",
        "colab": {
          "base_uri": "https://localhost:8080/"
        },
        "outputId": "b38fd7e0-673d-4394-ae20-3fb72aa8a066"
      },
      "outputs": [
        {
          "output_type": "stream",
          "name": "stdout",
          "text": [
            "Training data shape: (1808, 120616)\n",
            "Testing data shape: (5608, 120616)\n",
            "Training data shape: (1808, 120616)\n",
            "Testing data shape: (5608, 120616)\n",
            "Training label shape: (1808,)\n",
            "Testing label shape: (5608,)\n"
          ]
        }
      ],
      "source": [
        "vectorizer = TfidfVectorizer(ngram_range=(1,2))\n",
        "# vectorizer = TfidfVectorizer(analyzer='word')\n",
        "X_train = vectorizer.fit_transform(train_corpus)\n",
        "X_test = vectorizer.transform(test_corpus)\n",
        "\n",
        "print(\"Training data shape: {}\".format(X_train.shape))\n",
        "print(\"Testing data shape: {}\".format(X_test.shape))\n",
        "\n",
        "X_train = scipy.sparse.csr_matrix(X_train)\n",
        "y_train = np.array(train_labels)\n",
        "X_test = scipy.sparse.csr_matrix(X_test)\n",
        "y_test = np.array(test_labels)\n",
        "\n",
        "print(\"Training data shape: {}\".format(X_train.shape))\n",
        "print(\"Testing data shape: {}\".format(X_test.shape))\n",
        "print(\"Training label shape: {}\".format(y_train.shape))\n",
        "print(\"Testing label shape: {}\".format(y_test.shape))"
      ]
    },
    {
      "cell_type": "markdown",
      "metadata": {
        "id": "sKxmHGngmDg3"
      },
      "source": [
        "#LightGBM model classification"
      ]
    },
    {
      "cell_type": "code",
      "execution_count": null,
      "metadata": {
        "colab": {
          "base_uri": "https://localhost:8080/"
        },
        "id": "75510ff7",
        "outputId": "6a516802-cf97-4e23-e85e-3e9db225c0b9"
      },
      "outputs": [
        {
          "output_type": "stream",
          "name": "stdout",
          "text": [
            "0.8215049928673324\n",
            "0.9285714285714286\n"
          ]
        },
        {
          "output_type": "execute_result",
          "data": {
            "text/plain": [
              "(array([0, 1]), array([54, 58]))"
            ]
          },
          "metadata": {},
          "execution_count": 34
        }
      ],
      "source": [
        "import lightgbm as lgb\n",
        "modelgbm = lgb.LGBMClassifier(learning_rate=0.09,max_depth=-5,random_state=42)\n",
        "modelgbm.fit(X_train, y_train)\n",
        "pred_y = modelgbm.predict(X_test)\n",
        "print(metrics.accuracy_score(y_test, pred_y))\n",
        "# try on PJ dataset:\n",
        "pred_y = modelgbm.predict(X_test_pj)\n",
        "print(metrics.accuracy_score(y_test_pj, pred_y))\n",
        "np.unique(pred_y,return_counts=True)"
      ]
    },
    {
      "cell_type": "markdown",
      "metadata": {
        "id": "RreVbcCqlX8J"
      },
      "source": [
        "# XGBoost model classification"
      ]
    },
    {
      "cell_type": "code",
      "execution_count": null,
      "metadata": {
        "colab": {
          "base_uri": "https://localhost:8080/"
        },
        "id": "34sEYJ_P82xj",
        "outputId": "02c3be3e-9c6b-41b6-91ab-3c2fc8ac97a3"
      },
      "outputs": [
        {
          "output_type": "stream",
          "name": "stdout",
          "text": [
            "Accuracy on PAN12 test dataset:  79.56490727532098\n",
            "Accuracy on PJ test dataset:  91.96428571428571\n"
          ]
        },
        {
          "output_type": "execute_result",
          "data": {
            "text/plain": [
              "(array([0, 1]), array([53, 59]))"
            ]
          },
          "metadata": {},
          "execution_count": 35
        }
      ],
      "source": [
        "np.random.seed(12)\n",
        "model_b = xgb.XGBClassifier(eval_metric='logloss',use_label_encoder=False, learning_rate = 0.3, n_estimators=1000, max_depth=4,\n",
        " min_child_weight=0, gamma=0.4, subsample=0.8, colsample_bytree=0.8,\n",
        " objective= 'binary:logistic', nthread=8, scale_pos_weight=1,seed=27, reg_alpha= 1e-07)\n",
        "model_b.fit(X_train, y_train)\n",
        "pred_y = model_b.predict(X_test)\n",
        "print('Accuracy on PAN12 test dataset: ',metrics.accuracy_score(y_test, pred_y)*100)\n",
        "# try on PJ dataset:\n",
        "pred_y = model_b.predict(X_test_pj)\n",
        "print('Accuracy on PJ test dataset: ',metrics.accuracy_score(y_test_pj, pred_y)*100)\n",
        "np.unique(pred_y,return_counts=True)"
      ]
    },
    {
      "cell_type": "markdown",
      "metadata": {
        "id": "d_SYzUxso1NK"
      },
      "source": [
        "# Applying SVM "
      ]
    },
    {
      "cell_type": "markdown",
      "metadata": {
        "id": "C3X5iqg4pIwS"
      },
      "source": [
        "Linear support"
      ]
    },
    {
      "cell_type": "code",
      "execution_count": null,
      "metadata": {
        "colab": {
          "base_uri": "https://localhost:8080/"
        },
        "id": "37b911de",
        "outputId": "17b4249d-cb3e-4194-de1c-a89592910d11"
      },
      "outputs": [
        {
          "output_type": "stream",
          "name": "stdout",
          "text": [
            "Accuracy on PAN12 test dataset:  86.32310984308131\n",
            "Accuracy on PJ test dataset:  91.96428571428571\n"
          ]
        },
        {
          "output_type": "execute_result",
          "data": {
            "text/plain": [
              "(array([0, 1]), array([51, 61]))"
            ]
          },
          "metadata": {},
          "execution_count": 36
        }
      ],
      "source": [
        "#SVM\n",
        "model_linear = LinearSVC(random_state=0, C=2.9, loss='squared_hinge', dual=True)\n",
        "model_linear.fit(X_train, y_train)\n",
        "pred_y = model_linear.predict(X_test)\n",
        "print('Accuracy on PAN12 test dataset: ',metrics.accuracy_score(y_test, pred_y)*100)\n",
        "X_test_pj = vectorizer.transform(corpus_pj)\n",
        "X_test_pj = scipy.sparse.csr_matrix(X_test_pj)\n",
        "X_test_pj =X_test_pj\n",
        "y_test_pj = np.array(labels_pj)\n",
        "# try on PJ dataset:\n",
        "pred_y = model_linear.predict(X_test_pj)\n",
        "print('Accuracy on PJ test dataset: ',metrics.accuracy_score(y_test_pj, pred_y)*100)\n",
        "np.unique(pred_y,return_counts=True)"
      ]
    },
    {
      "cell_type": "markdown",
      "metadata": {
        "id": "igmU8zHJpoM4"
      },
      "source": [
        "C-Support Vector"
      ]
    },
    {
      "cell_type": "code",
      "execution_count": null,
      "metadata": {
        "colab": {
          "base_uri": "https://localhost:8080/"
        },
        "id": "cd5cf266",
        "outputId": "8455db71-5898-4531-b0e3-dcf9d9e24cf0"
      },
      "outputs": [
        {
          "output_type": "stream",
          "name": "stdout",
          "text": [
            "Accuracy on PAN12 test dataset:  86.28744650499287\n",
            "Accuracy on PJ test dataset:  91.96428571428571\n"
          ]
        },
        {
          "output_type": "execute_result",
          "data": {
            "text/plain": [
              "(array([0, 1]), array([51, 61]))"
            ]
          },
          "metadata": {},
          "execution_count": 37
        }
      ],
      "source": [
        "# linear kernel SVM \n",
        "model_svc = svm.SVC(kernel='linear', C=1, gamma='auto', random_state=0,probability=True)\n",
        "model_svc.fit(X_train, y_train)\n",
        "pred_y = model_svc.predict(X_test)\n",
        "print('Accuracy on PAN12 test dataset: ',metrics.accuracy_score(y_test, pred_y)*100)\n",
        "X_test_pj = vectorizer.transform(corpus_pj)\n",
        "X_test_pj = scipy.sparse.csr_matrix(X_test_pj)\n",
        "X_test_pj =X_test_pj\n",
        "y_test_pj = np.array(labels_pj)\n",
        "# try on PJ dataset:\n",
        "pred_y = model_svc.predict(X_test_pj)\n",
        "print('Accuracy on PJ test dataset: ',metrics.accuracy_score(y_test_pj, pred_y)*100)\n",
        "np.unique(pred_y,return_counts=True)"
      ]
    },
    {
      "cell_type": "markdown",
      "metadata": {
        "id": "BM7A0M293-RJ"
      },
      "source": [
        "# SVM improvemets"
      ]
    },
    {
      "cell_type": "code",
      "execution_count": null,
      "metadata": {
        "id": "mUx2CNhC4GBf",
        "colab": {
          "base_uri": "https://localhost:8080/"
        },
        "outputId": "d50d3bfb-e33f-4e10-cf39-7db1fd5e5dfe"
      },
      "outputs": [
        {
          "output_type": "stream",
          "name": "stdout",
          "text": [
            "Accuracy on PAN12 test dataset:  84.87874465049929\n",
            "Accuracy on PJ test dataset:  92.85714285714286\n"
          ]
        },
        {
          "output_type": "execute_result",
          "data": {
            "text/plain": [
              "(array([0, 1]), array([52, 60]))"
            ]
          },
          "metadata": {},
          "execution_count": 38
        }
      ],
      "source": [
        "#eclf = VotingClassifier(estimators=[('linear', xgb.XGBClassifier(eval_metric='logloss',use_label_encoder=False)), ('svc', model_svc),])#, voting='soft', weights=[1, 1]) with soft the test acc is 98.589 and pj is 98.214\n",
        "eclf = VotingClassifier(estimators=[('linear', lgb.LGBMClassifier(learning_rate=0.09,max_depth=-5,random_state=42)), ('svc', svm.SVC(kernel='linear', C=1, gamma='auto', random_state=0,probability=True))],voting='soft', weights=[1, 1])#, voting='soft', weights=[1, 1]) with soft the test acc is 98.589 and pj is 98.214\n",
        "eclf.fit(X_train, y_train)\n",
        "pred_y =eclf.predict(X_test)\n",
        "print('Accuracy on PAN12 test dataset: ',metrics.accuracy_score(y_test, pred_y)*100)\n",
        "# X_test_pj = vectorizer.transform(corpus_pj)\n",
        "# X_test_pj = scipy.sparse.csr_matrix(X_test_pj)\n",
        "# X_test_pj =X_test_pj\n",
        "# y_test_pj = np.array(labels_pj)\n",
        "# try on PJ dataset:\n",
        "pred_y = eclf.predict(X_test_pj)\n",
        "print('Accuracy on PJ test dataset: ',metrics.accuracy_score(y_test_pj, pred_y)*100)\n",
        "np.unique(pred_y,return_counts=True)"
      ]
    },
    {
      "cell_type": "code",
      "execution_count": null,
      "metadata": {
        "id": "VvJL3hfL6Vcy",
        "colab": {
          "base_uri": "https://localhost:8080/"
        },
        "outputId": "cdf711f3-7eda-4ba6-f913-4b98253f02d0"
      },
      "outputs": [
        {
          "output_type": "stream",
          "name": "stdout",
          "text": [
            "Accuracy on PAN12 test dataset:  86.39443651925819\n",
            "Accuracy on PJ test dataset:  91.96428571428571\n"
          ]
        },
        {
          "output_type": "execute_result",
          "data": {
            "text/plain": [
              "(array([0, 1]), array([51, 61]))"
            ]
          },
          "metadata": {},
          "execution_count": 39
        }
      ],
      "source": [
        "from sklearn.ensemble import RandomForestClassifier\n",
        "from sklearn.svm import LinearSVC\n",
        "from sklearn.linear_model import LogisticRegression\n",
        "from sklearn.preprocessing import StandardScaler\n",
        "from sklearn.pipeline import make_pipeline\n",
        "from sklearn.ensemble import StackingClassifier\n",
        "\n",
        "estimators = [\n",
        "    ('sv,', svm.SVC(kernel='linear', C=1, gamma='auto', random_state=0,probability=True)),\n",
        "     ('svtwo', LinearSVC(random_state=0, C=2.9, loss='squared_hinge', dual=True)),\n",
        "     ('xgb',xgb.XGBClassifier(eval_metric='logloss',use_label_encoder=False)),\n",
        "      ('linear', lgb.LGBMClassifier(learning_rate=0.09,max_depth=-5,random_state=42))]\n",
        "clf = StackingClassifier(\n",
        "     estimators=estimators, final_estimator=LogisticRegression())\n",
        "clf.fit(X_train, y_train)\n",
        "pred_y =clf.predict(X_test)\n",
        "print('Accuracy on PAN12 test dataset: ',metrics.accuracy_score(y_test, pred_y)*100)\n",
        "pred_y = clf.predict(X_test_pj)\n",
        "print('Accuracy on PJ test dataset: ',metrics.accuracy_score(y_test_pj, pred_y)*100)\n",
        "np.unique(pred_y,return_counts=True)"
      ]
    },
    {
      "cell_type": "markdown",
      "metadata": {
        "id": "nDBNHcFRjxxo"
      },
      "source": [
        "# Applying DeepNN"
      ]
    },
    {
      "cell_type": "code",
      "execution_count": null,
      "metadata": {
        "id": "SgdzV8yHkHyH"
      },
      "outputs": [],
      "source": [
        "from sklearn.multiclass import OneVsRestClassifier\n",
        "from keras.models import Sequential\n",
        "from keras.layers import Dense, Dropout\n",
        "# from keras.wrappers.scikit_learn import KerasClassifier\n",
        "from keras.utils import np_utils\n",
        "import random as python_random\n",
        "import tensorflow as tf"
      ]
    },
    {
      "cell_type": "code",
      "execution_count": null,
      "metadata": {
        "id": "CG30Q5iiAkv8"
      },
      "outputs": [],
      "source": [
        "from keras import backend as K \n",
        "\n",
        "# Do some code, e.g. train and save model\n",
        "\n",
        "K.clear_session()"
      ]
    },
    {
      "cell_type": "code",
      "execution_count": null,
      "metadata": {
        "id": "uw6zJBrM8TAL"
      },
      "outputs": [],
      "source": [
        "# # vectorizer = TfidfVectorizer()\n",
        "# vectorizer = TfidfVectorizer()\n",
        "\n",
        "# # PAN12 data\n",
        "# X_train = vectorizer.fit_transform(train_corpus).astype('float16')\n",
        "# X_test = vectorizer.transform(test_corpus).astype('float16')\n",
        "# y_train = np.array(train_labels)\n",
        "# y_test = np.array(test_labels)\n",
        "# ##pj -data \n",
        "# X_test_pj = vectorizer.transform(corpus_pj).astype('float16')\n",
        "# y_test_pj = np.array(labels_pj)"
      ]
    },
    {
      "cell_type": "code",
      "execution_count": null,
      "metadata": {
        "colab": {
          "base_uri": "https://localhost:8080/"
        },
        "id": "D3RC5Ns5IBaI",
        "outputId": "bb97a95b-8dfa-4a68-b0fb-aaef99ba458e"
      },
      "outputs": [
        {
          "output_type": "stream",
          "name": "stdout",
          "text": [
            "Create model ... \n",
            "Compile model ...\n",
            "Model: \"sequential\"\n",
            "_________________________________________________________________\n",
            " Layer (type)                Output Shape              Param #   \n",
            "=================================================================\n",
            " dense (Dense)               (None, 256)               30877952  \n",
            "                                                                 \n",
            " dropout (Dropout)           (None, 256)               0         \n",
            "                                                                 \n",
            " dense_1 (Dense)             (None, 200)               51400     \n",
            "                                                                 \n",
            " dropout_1 (Dropout)         (None, 200)               0         \n",
            "                                                                 \n",
            " dense_2 (Dense)             (None, 160)               32160     \n",
            "                                                                 \n",
            " dropout_2 (Dropout)         (None, 160)               0         \n",
            "                                                                 \n",
            " dense_3 (Dense)             (None, 120)               19320     \n",
            "                                                                 \n",
            " dropout_3 (Dropout)         (None, 120)               0         \n",
            "                                                                 \n",
            " dense_4 (Dense)             (None, 80)                9680      \n",
            "                                                                 \n",
            " dropout_4 (Dropout)         (None, 80)                0         \n",
            "                                                                 \n",
            " dense_5 (Dense)             (None, 1)                 81        \n",
            "                                                                 \n",
            "=================================================================\n",
            "Total params: 30,990,593\n",
            "Trainable params: 30,990,593\n",
            "Non-trainable params: 0\n",
            "_________________________________________________________________\n"
          ]
        }
      ],
      "source": [
        "# Model Training \n",
        "print (\"Create model ... \")\n",
        "def build_model(shape):\n",
        "    K.clear_session()\n",
        "    np.random.seed(12)\n",
        "    python_random.seed(12)\n",
        "    tf.random.set_seed(12)\n",
        "    model = Sequential()\n",
        "    model.add(Dense(256, input_dim=shape, activation='relu'))\n",
        "    # model.add(Dense(256, input_dim=121394, activation='relu'))\n",
        "    model.add(Dropout(0.5))\n",
        "    model.add(Dense(200, activation='relu'))\n",
        "    model.add(Dropout(0.5))\n",
        "    model.add(Dense(160, activation='relu'))\n",
        "    model.add(Dropout(0.3))\n",
        "    model.add(Dense(120, activation='relu'))\n",
        "    model.add(Dropout(0.3))\n",
        "    model.add(Dense(80, activation='relu'))\n",
        "    model.add(Dropout(0.3))\n",
        "    model.add(Dense(1, activation='sigmoid'))\n",
        "    model.compile(loss='binary_crossentropy', optimizer='adam', metrics=['accuracy'])\n",
        "    model.summary()\n",
        "    return model\n",
        "\n",
        "print(\"Compile model ...\")\n",
        "modeldnn = build_model(X_train.shape[1])"
      ]
    },
    {
      "cell_type": "code",
      "execution_count": null,
      "metadata": {
        "id": "DRNWstUu9Gh_",
        "colab": {
          "base_uri": "https://localhost:8080/"
        },
        "outputId": "88e5dfa1-6509-42fa-c5c4-2e03dc50dc91"
      },
      "outputs": [
        {
          "output_type": "stream",
          "name": "stdout",
          "text": [
            "Epoch 1/3\n"
          ]
        },
        {
          "output_type": "stream",
          "name": "stderr",
          "text": [
            "/usr/local/lib/python3.7/dist-packages/tensorflow/python/framework/indexed_slices.py:446: UserWarning: Converting sparse IndexedSlices(IndexedSlices(indices=Tensor(\"gradient_tape/sequential/dense/embedding_lookup_sparse/Reshape_1:0\", shape=(None,), dtype=int32), values=Tensor(\"gradient_tape/sequential/dense/embedding_lookup_sparse/Reshape:0\", shape=(None, 256), dtype=float32), dense_shape=Tensor(\"gradient_tape/sequential/dense/embedding_lookup_sparse/Cast:0\", shape=(2,), dtype=int32))) to a dense Tensor of unknown shape. This may consume a large amount of memory.\n",
            "  \"shape. This may consume a large amount of memory.\" % value)\n"
          ]
        },
        {
          "output_type": "stream",
          "name": "stdout",
          "text": [
            "29/29 [==============================] - 1s 22ms/step - loss: 0.6795 - accuracy: 0.6322\n",
            "Epoch 2/3\n",
            "29/29 [==============================] - 1s 22ms/step - loss: 0.2431 - accuracy: 0.9364\n",
            "Epoch 3/3\n",
            "29/29 [==============================] - 1s 22ms/step - loss: 0.0207 - accuracy: 0.9945\n"
          ]
        },
        {
          "output_type": "execute_result",
          "data": {
            "text/plain": [
              "<keras.callbacks.History at 0x7f3a2d94ff50>"
            ]
          },
          "metadata": {},
          "execution_count": 44
        }
      ],
      "source": [
        "# Train model\n",
        "modeldnn.compile(tf.keras.optimizers.Adam(learning_rate=0.001),\n",
        "            loss='binary_crossentropy',\n",
        "            metrics=['accuracy'])\n",
        "modeldnn.fit(X_train.astype('float16'), y_train, batch_size=64, shuffle=\"batch\",\n",
        "                epochs=3)"
      ]
    },
    {
      "cell_type": "code",
      "execution_count": null,
      "metadata": {
        "id": "JPTd0Wf-HbO5",
        "colab": {
          "base_uri": "https://localhost:8080/"
        },
        "outputId": "8da6b2b7-f06d-4f39-ce2a-bb0ecd1c7a5a"
      },
      "outputs": [
        {
          "output_type": "stream",
          "name": "stdout",
          "text": [
            "Accuracy on PAN12 test dataset:  90.99500713266761\n"
          ]
        }
      ],
      "source": [
        "pred_y = modeldnn.predict(X_test.astype('float16'))\n",
        "pred_y =np.round(pred_y.flatten())\n",
        "print('Accuracy on PAN12 test dataset: ',metrics.accuracy_score(y_test, pred_y)*100)"
      ]
    },
    {
      "cell_type": "code",
      "execution_count": null,
      "metadata": {
        "id": "5AP_kwbj-9M0",
        "colab": {
          "base_uri": "https://localhost:8080/"
        },
        "outputId": "4b146824-0eb1-4aaf-a585-004b14a87da3"
      },
      "outputs": [
        {
          "output_type": "stream",
          "name": "stdout",
          "text": [
            "Accuracy on PJ test dataset:  91.96428571428571\n"
          ]
        }
      ],
      "source": [
        "pred_y = modeldnn.predict(X_test_pj.astype('float16'))\n",
        "pred_y =np.round(pred_y.flatten())\n",
        "print('Accuracy on PJ test dataset: ',metrics.accuracy_score(labels_pj,pred_y)*100)"
      ]
    },
    {
      "cell_type": "markdown",
      "source": [
        "Saving the models above"
      ],
      "metadata": {
        "id": "hwiXfhGysYMU"
      }
    },
    {
      "cell_type": "code",
      "source": [
        "pickle.dump(modelgbm, open('lgbm_pred.sav', 'wb')) # to load: loaded_model = pickle.load(open(filename, 'rb'))\n",
        "pickle.dump(model_b, open('xgb_pred.sav', 'wb'))\n",
        "pickle.dump(model_svc, open('svc_pred.sav', 'wb'))\n",
        "pickle.dump(eclf, open('voting_pred.sav', 'wb'))\n",
        "pickle.dump(clf, open('stacking_pred.sav', 'wb'))\n",
        "modeldnn.save('dnn_pred')"
      ],
      "metadata": {
        "id": "6NahssXksW4f"
      },
      "execution_count": null,
      "outputs": []
    },
    {
      "cell_type": "markdown",
      "metadata": {
        "id": "9k31mMiBqB-4"
      },
      "source": [
        "# Classifying using Transformers"
      ]
    },
    {
      "cell_type": "markdown",
      "metadata": {
        "id": "QumQr0bBr8_8"
      },
      "source": [
        "## finetune API for text classification\n",
        "built upon TensorFlow & Keras"
      ]
    },
    {
      "cell_type": "code",
      "execution_count": null,
      "metadata": {
        "id": "56bZw7_nqFVo"
      },
      "outputs": [],
      "source": [
        "%%capture\n",
        "!pip install --quiet finetune"
      ]
    },
    {
      "cell_type": "code",
      "execution_count": null,
      "metadata": {
        "id": "5cYBV32lq6mH"
      },
      "outputs": [],
      "source": [
        "%%capture\n",
        "import finetune as ft"
      ]
    },
    {
      "cell_type": "code",
      "execution_count": null,
      "metadata": {
        "id": "6iWzHRWzqR03"
      },
      "outputs": [],
      "source": [
        "from finetune.base_models import RoBERTa,TextCNN"
      ]
    },
    {
      "cell_type": "code",
      "source": [
        "txtcnn_pred = ft.Classifier(base_model=TextCNN,chunk_long_sequences=True, n_epochs=3) # chunk_long_sequences flag moves a sliding window of length max_length across the input, and takes the mean of the feature representations from the windows\n",
        "txtcnn_pred.fit(train_corpus, train_labels)\n",
        "txtcnn_pred.save(path ='txtcnn_pred')"
      ],
      "metadata": {
        "colab": {
          "base_uri": "https://localhost:8080/"
        },
        "id": "SWCxMG2UruLg",
        "outputId": "419df6ba-db51-4eff-bf0a-abd7c3fc3fb6"
      },
      "execution_count": null,
      "outputs": [
        {
          "output_type": "stream",
          "name": "stderr",
          "text": [
            "Epoch 3/3: 100%|██████████| 1808/1808 [00:25<00:00, 69.98it/s]\n"
          ]
        }
      ]
    },
    {
      "cell_type": "code",
      "execution_count": null,
      "metadata": {
        "colab": {
          "base_uri": "https://localhost:8080/"
        },
        "id": "xc2HmT7zrzUk",
        "outputId": "be38f668-e5c3-4ddf-d015-d58a66b8e9aa"
      },
      "outputs": [
        {
          "output_type": "stream",
          "name": "stderr",
          "text": [
            "Epoch 7/7: 100%|██████████| 2118/2118 [03:13<00:00, 10.92it/s]\n"
          ]
        }
      ],
      "source": [
        "roberta_pred = ft.Classifier(base_model=RoBERTa,chunk_long_sequences=True, n_epochs=7) # chunk_long_sequences flag moves a sliding window of length max_length across the input, and takes the mean of the feature representations from the windows\n",
        "roberta_pred.fit(train_corpus, train_labels)\n",
        "roberta_pred.save(path ='roberta_pred')"
      ]
    },
    {
      "cell_type": "markdown",
      "source": [
        "## Plot the results"
      ],
      "metadata": {
        "id": "f6R_STnmveQz"
      }
    },
    {
      "cell_type": "markdown",
      "source": [
        "# Load all trained models"
      ],
      "metadata": {
        "id": "g5d0F1uwTsNp"
      }
    },
    {
      "cell_type": "code",
      "source": [
        "modelgbm = pickle.load(open('lgbm_pred.sav', 'rb'))# pickle.dump(modelgbm, open('lgbm.sav', 'wb')) # to load: loaded_model = pickle.load(open(filename, 'rb'))\n",
        "model_b = pickle.load(open('xgb_pred.sav', 'rb'))# pickle.dump(model_b, open('xgb.sav', 'wb'))\n",
        "model_svc = pickle.load(open('svc_pred.sav', 'rb'))# pickle.dump(model_svc, open('svc.sav', 'wb'))\n",
        "eclf = pickle.load(open('voting_pred.sav', 'rb'))# pickle.dump(eclf, open('voting.sav', 'wb'))\n",
        "clf = pickle.load(open('stacking_pred.sav', 'rb'))# pickle.dump(clf, open('stacking.sav', 'wb'))\n",
        "modeldnn =  keras.models.load_model('dnn_pred')\n",
        "bertmodel = ft.Classifier.load('roberta_pred')\n",
        "txtcnn = ft.Classifier.load('txtcnn_pred')"
      ],
      "metadata": {
        "id": "N07bfwj4T__-"
      },
      "execution_count": null,
      "outputs": []
    },
    {
      "cell_type": "code",
      "source": [
        "%%capture\n",
        "### save accuracy on pj dataset\n",
        "\n",
        "acc1_pj=  metrics.accuracy_score(y_test_pj, modelgbm.predict(X_test_pj ))*100\n",
        "\n",
        "acc2_pj=  metrics.accuracy_score(y_test_pj, model_b.predict(X_test_pj))*100\n",
        "\n",
        "acc3_pj=  metrics.accuracy_score(y_test_pj, model_svc.predict(X_test_pj))*100\n",
        "\n",
        "acc4_pj=  metrics.accuracy_score(y_test_pj, eclf.predict(X_test_pj))*100\n",
        "\n",
        "acc5_pj=  metrics.accuracy_score(y_test_pj, clf.predict(X_test_pj))*100\n",
        "\n",
        "acc6_pj=  metrics.accuracy_score(y_test_pj, np.round(modeldnn.predict(X_test_pj.astype('float16')).flatten()))*100\n",
        "\n",
        "y_pred_bert = bertmodel.predict(corpus_pj)\n",
        "acc7_pj = metrics.accuracy_score(labels_pj,y_pred_bert)*100\n",
        "\n",
        "y_pred_txtcnn = txtcnn.predict(corpus_pj)\n",
        "acc8_pj  = metrics.accuracy_score(labels_pj, y_pred_txtcnn)*100 #textcnn\n",
        "\n",
        "acc_pj = ['PervJust Accuracy',acc1_pj,acc2_pj,acc3_pj,acc4_pj,acc5_pj,acc6_pj,acc7_pj,acc8_pj]"
      ],
      "metadata": {
        "id": "QCJJZjdVdpqU"
      },
      "execution_count": null,
      "outputs": []
    },
    {
      "cell_type": "code",
      "source": [
        "acc_pj"
      ],
      "metadata": {
        "colab": {
          "base_uri": "https://localhost:8080/"
        },
        "id": "Tz1AK_wKGZaq",
        "outputId": "38a51aed-cfd0-474d-c3c9-2710a6376f74"
      },
      "execution_count": null,
      "outputs": [
        {
          "output_type": "execute_result",
          "data": {
            "text/plain": [
              "['PervJust Accuracy',\n",
              " 92.85714285714286,\n",
              " 91.96428571428571,\n",
              " 91.96428571428571,\n",
              " 92.85714285714286,\n",
              " 91.96428571428571,\n",
              " 91.96428571428571,\n",
              " 98.21428571428571,\n",
              " 96.42857142857143]"
            ]
          },
          "metadata": {},
          "execution_count": 109
        }
      ]
    },
    {
      "cell_type": "code",
      "source": [
        "%%time\n",
        "inf_time_list = ['Inference Time [Min]']\n",
        "t = time.time()\n",
        "acc1=  metrics.accuracy_score(y_test, modelgbm.predict(X_test))*100\n",
        "inf_time_list.append((time.time() - t)/60)\n",
        "\n",
        "t = time.time()\n",
        "acc2=  metrics.accuracy_score(y_test, model_b.predict(X_test))*100\n",
        "inf_time_list.append((time.time() - t)/60)\n",
        "\n",
        "t = time.time()\n",
        "acc3=  metrics.accuracy_score(y_test, model_svc.predict(X_test))*100\n",
        "inf_time_list.append((time.time() - t)/60)\n",
        "\n",
        "t = time.time()\n",
        "acc4=  metrics.accuracy_score(y_test, eclf.predict(X_test))*100\n",
        "inf_time_list.append((time.time() - t)/60)\n",
        "\n",
        "t = time.time()\n",
        "acc5=  metrics.accuracy_score(y_test, clf.predict(X_test))*100\n",
        "inf_time_list.append((time.time() - t)/60)\n",
        "\n",
        "t = time.time()\n",
        "acc6=  metrics.accuracy_score(y_test, np.round(modeldnn.predict(X_test.astype('float16')).flatten()))*100\n",
        "inf_time_list.append((time.time() - t)/60)\n"
      ],
      "metadata": {
        "colab": {
          "base_uri": "https://localhost:8080/"
        },
        "id": "ynV3c3IDfjCd",
        "outputId": "dafc011a-d4b6-4966-8534-e492f1d267e4"
      },
      "execution_count": null,
      "outputs": [
        {
          "output_type": "stream",
          "name": "stdout",
          "text": [
            "CPU times: user 19.3 s, sys: 331 ms, total: 19.6 s\n",
            "Wall time: 19.2 s\n"
          ]
        }
      ]
    },
    {
      "cell_type": "code",
      "source": [
        "t = time.time()\n",
        "y_pred_bert = bertmodel.predict(test_corpus)\n",
        "acc7 = metrics.accuracy_score(test_labels,y_pred_bert)*100\n",
        "inf_time_list.append((time.time() - t)/60)\n"
      ],
      "metadata": {
        "id": "fVha64u-ksGr",
        "colab": {
          "base_uri": "https://localhost:8080/"
        },
        "outputId": "44e4492b-3c35-4037-ece5-32f641353796"
      },
      "execution_count": null,
      "outputs": [
        {
          "output_type": "stream",
          "name": "stderr",
          "text": [
            "\rInference: 0it [00:00, ?it/s]/usr/local/lib/python3.7/dist-packages/finetune/base_models/bert/modeling.py:818: UserWarning: `tf.layers.dense` is deprecated and will be removed in a future version. Please use `tf.keras.layers.Dense` instead.\n",
            "  kernel_initializer=create_initializer(initializer_range),\n",
            "/usr/local/lib/python3.7/dist-packages/keras/legacy_tf_layers/core.py:261: UserWarning: `layer.apply` is deprecated and will be removed in a future version. Please use `layer.__call__` method instead.\n",
            "  return layer.apply(inputs)\n",
            "/usr/local/lib/python3.7/dist-packages/finetune/base_models/bert/modeling.py:827: UserWarning: `tf.layers.dense` is deprecated and will be removed in a future version. Please use `tf.keras.layers.Dense` instead.\n",
            "  kernel_initializer=create_initializer(initializer_range),\n",
            "/usr/local/lib/python3.7/dist-packages/finetune/base_models/bert/modeling.py:836: UserWarning: `tf.layers.dense` is deprecated and will be removed in a future version. Please use `tf.keras.layers.Dense` instead.\n",
            "  kernel_initializer=create_initializer(initializer_range),\n",
            "/usr/local/lib/python3.7/dist-packages/finetune/base_models/bert/modeling.py:954: UserWarning: `tf.layers.dense` is deprecated and will be removed in a future version. Please use `tf.keras.layers.Dense` instead.\n",
            "  kernel_initializer=create_initializer(initializer_range))\n",
            "/usr/local/lib/python3.7/dist-packages/finetune/base_models/bert/modeling.py:964: UserWarning: `tf.layers.dense` is deprecated and will be removed in a future version. Please use `tf.keras.layers.Dense` instead.\n",
            "  kernel_initializer=create_initializer(initializer_range))\n",
            "/usr/local/lib/python3.7/dist-packages/finetune/base_models/bert/modeling.py:971: UserWarning: `tf.layers.dense` is deprecated and will be removed in a future version. Please use `tf.keras.layers.Dense` instead.\n",
            "  kernel_initializer=create_initializer(initializer_range))\n",
            "Inference: 5749it [01:12, 79.30it/s]\n"
          ]
        }
      ]
    },
    {
      "cell_type": "code",
      "source": [
        "t = time.time()\n",
        "y_pred_txtcnn = txtcnn.predict(test_corpus)\n",
        "acc8  = metrics.accuracy_score(test_labels, y_pred_txtcnn)*100 #textcnn\n",
        "inf_time_list.append((time.time() - t)/60)"
      ],
      "metadata": {
        "colab": {
          "base_uri": "https://localhost:8080/"
        },
        "id": "gfq9aBUSmA4f",
        "outputId": "95e68492-06c9-4ee6-d5d8-4b08a14cc209"
      },
      "execution_count": null,
      "outputs": [
        {
          "output_type": "stream",
          "name": "stderr",
          "text": [
            "\rInference: 0it [00:00, ?it/s]/usr/local/lib/python3.7/dist-packages/finetune/base_models/textcnn/featurizer.py:77: UserWarning: `tf.layers.conv1d` is deprecated and will be removed in a future version. Please Use `tf.keras.layers.Conv1D` instead.\n",
            "  kernel_initializer=tf.compat.v1.initializers.glorot_normal,\n",
            "/usr/local/lib/python3.7/dist-packages/keras/legacy_tf_layers/convolutional.py:294: UserWarning: `layer.apply` is deprecated and will be removed in a future version. Please use `layer.__call__` method instead.\n",
            "  return layer.apply(inputs)\n",
            "Inference: 5608it [00:32, 174.85it/s]\n"
          ]
        }
      ]
    },
    {
      "cell_type": "code",
      "source": [
        "with open('inf_time_list_pred.pkl', 'wb') as f:\n",
        "  pickle.dump(inf_time_list, f)\n",
        "f.close()\n",
        "accuracy_list = ['Accuracy',acc1,acc2,acc3,acc4,acc5,acc6,acc7,acc8]\n",
        "with open('accuracy_list_pred.pkl', 'wb') as f:\n",
        "  pickle.dump(accuracy_list, f)\n",
        "f.close()\n",
        "with open('acc_pj_pred.pkl', 'wb') as f:\n",
        "  pickle.dump(acc_pj, f)\n",
        "f.close()"
      ],
      "metadata": {
        "id": "7NQisy2cfEET"
      },
      "execution_count": null,
      "outputs": []
    },
    {
      "cell_type": "code",
      "source": [
        "inf_time_list =pickle.load(open('inf_time_list_pred.pkl', 'rb'))\n",
        "accuracy_list = pickle.load(open('accuracy_list_pred.pkl', 'rb'))\n",
        "acc_pj = pickle.load(open('acc_pj_pred.pkl', 'rb'))"
      ],
      "metadata": {
        "id": "FWlhvsFaPpDf"
      },
      "execution_count": null,
      "outputs": []
    },
    {
      "cell_type": "code",
      "source": [
        "y_pred_prob1 = modelgbm.predict_proba(X_test)[:,1]\n",
        "fpr1 , tpr1, thresholds1 = roc_curve(y_test, y_pred_prob1)\n",
        "auc1 = roc_auc_score(y_test, y_pred_prob1)\n",
        "\n",
        "y_pred_prob2 = model_b.predict_proba(X_test)[:,1]\n",
        "fpr2 , tpr2, thresholds2 = roc_curve(y_test, y_pred_prob2)\n",
        "auc2 = roc_auc_score(y_test, y_pred_prob2)\n",
        "\n",
        "\n",
        "y_pred_prob3 = model_svc.predict_proba(X_test)[:,1]\n",
        "fpr3 , tpr3, thresholds3 =  roc_curve(y_test, y_pred_prob3)\n",
        "auc3 = roc_auc_score(y_test, y_pred_prob3)\n",
        "\n",
        "y_pred_prob4 = eclf.predict_proba(X_test)[:,1] \n",
        "fpr4 , tpr4, thresholds4 =  roc_curve(y_test, y_pred_prob4)\n",
        "auc4 = roc_auc_score(y_test, y_pred_prob4)\n",
        "\n",
        "\n",
        "y_pred_prob5 = clf.predict_proba(X_test)[:,1]\n",
        "fpr5 , tpr5, thresholds5 =  roc_curve(y_test, y_pred_prob5)\n",
        "auc5 = roc_auc_score(y_test, y_pred_prob5)\n",
        "\n",
        "y_pred_prob6 = (modeldnn.predict(X_test)).flatten()\n",
        "fpr6 , tpr6, thresholds6 =  roc_curve(y_test, y_pred_prob6)\n",
        "auc6 = roc_auc_score(y_test, y_pred_prob6)\n",
        "\n",
        "y_pred_prob7 = bertmodel.predict_proba(test_corpus)\n",
        "y_pred_prob7 = [val[1] for val in y_pred_prob7]\n",
        "fpr7 , tpr7, thresholds7 =  roc_curve(test_labels, y_pred_prob7)\n",
        "auc7 = roc_auc_score(test_labels, y_pred_prob7)"
      ],
      "metadata": {
        "colab": {
          "base_uri": "https://localhost:8080/"
        },
        "id": "2sJO2GxxUl4Y",
        "outputId": "107be065-c417-4c7b-8ee3-1793a1d74022"
      },
      "execution_count": null,
      "outputs": [
        {
          "output_type": "stream",
          "name": "stderr",
          "text": [
            "\rInference: 0it [00:00, ?it/s]/usr/local/lib/python3.7/dist-packages/finetune/base_models/bert/modeling.py:818: UserWarning: `tf.layers.dense` is deprecated and will be removed in a future version. Please use `tf.keras.layers.Dense` instead.\n",
            "  kernel_initializer=create_initializer(initializer_range),\n",
            "/usr/local/lib/python3.7/dist-packages/keras/legacy_tf_layers/core.py:261: UserWarning: `layer.apply` is deprecated and will be removed in a future version. Please use `layer.__call__` method instead.\n",
            "  return layer.apply(inputs)\n",
            "/usr/local/lib/python3.7/dist-packages/finetune/base_models/bert/modeling.py:827: UserWarning: `tf.layers.dense` is deprecated and will be removed in a future version. Please use `tf.keras.layers.Dense` instead.\n",
            "  kernel_initializer=create_initializer(initializer_range),\n",
            "/usr/local/lib/python3.7/dist-packages/finetune/base_models/bert/modeling.py:836: UserWarning: `tf.layers.dense` is deprecated and will be removed in a future version. Please use `tf.keras.layers.Dense` instead.\n",
            "  kernel_initializer=create_initializer(initializer_range),\n",
            "/usr/local/lib/python3.7/dist-packages/finetune/base_models/bert/modeling.py:954: UserWarning: `tf.layers.dense` is deprecated and will be removed in a future version. Please use `tf.keras.layers.Dense` instead.\n",
            "  kernel_initializer=create_initializer(initializer_range))\n",
            "/usr/local/lib/python3.7/dist-packages/finetune/base_models/bert/modeling.py:964: UserWarning: `tf.layers.dense` is deprecated and will be removed in a future version. Please use `tf.keras.layers.Dense` instead.\n",
            "  kernel_initializer=create_initializer(initializer_range))\n",
            "/usr/local/lib/python3.7/dist-packages/finetune/base_models/bert/modeling.py:971: UserWarning: `tf.layers.dense` is deprecated and will be removed in a future version. Please use `tf.keras.layers.Dense` instead.\n",
            "  kernel_initializer=create_initializer(initializer_range))\n",
            "Inference: 5749it [01:13, 77.76it/s]\n"
          ]
        }
      ]
    },
    {
      "cell_type": "code",
      "source": [
        "tpf_fpr_auc =[(fpr1 , tpr1,auc1),(fpr2 , tpr2,auc2),(fpr3 , tpr3,auc3),(fpr4 , tpr4,auc4),(fpr5 , tpr5,auc5),(fpr6 , tpr6,auc6),(fpr7 , tpr7,auc7)]"
      ],
      "metadata": {
        "id": "MXpIDACnNIrm"
      },
      "execution_count": null,
      "outputs": []
    },
    {
      "cell_type": "code",
      "source": [
        "with open('tpf_fpr_auc_1_7_pred.pkl', 'wb') as f:\n",
        "  pickle.dump(tpf_fpr_auc , f)\n",
        "f.close()"
      ],
      "metadata": {
        "id": "vz5swqsqNX_u"
      },
      "execution_count": null,
      "outputs": []
    },
    {
      "cell_type": "code",
      "source": [
        "tpf_fpr_auc=   pickle.load(open('tpf_fpr_auc_1_7_pred.pkl', 'rb'))"
      ],
      "metadata": {
        "id": "-jgWfh5uNr0k"
      },
      "execution_count": null,
      "outputs": []
    },
    {
      "cell_type": "code",
      "source": [
        "y_pred_prob8 = txtcnn.predict_proba(test_corpus)\n",
        "y_pred_prob8 = [val[1] for val in y_pred_prob8]\n",
        "fpr8 , tpr8, thresholds8 =  roc_curve(test_labels, y_pred_prob8)\n",
        "auc8 = roc_auc_score(test_labels, y_pred_prob8)"
      ],
      "metadata": {
        "colab": {
          "base_uri": "https://localhost:8080/"
        },
        "id": "AqTKPhSEd0nQ",
        "outputId": "33e8c6e5-b1de-427c-8e87-12d294d68a9d"
      },
      "execution_count": null,
      "outputs": [
        {
          "output_type": "stream",
          "name": "stderr",
          "text": [
            "\rInference: 0it [00:00, ?it/s]/usr/local/lib/python3.7/dist-packages/finetune/base_models/textcnn/featurizer.py:77: UserWarning: `tf.layers.conv1d` is deprecated and will be removed in a future version. Please Use `tf.keras.layers.Conv1D` instead.\n",
            "  kernel_initializer=tf.compat.v1.initializers.glorot_normal,\n",
            "/usr/local/lib/python3.7/dist-packages/keras/legacy_tf_layers/convolutional.py:294: UserWarning: `layer.apply` is deprecated and will be removed in a future version. Please use `layer.__call__` method instead.\n",
            "  return layer.apply(inputs)\n",
            "Inference: 5608it [00:32, 173.67it/s]\n"
          ]
        }
      ]
    },
    {
      "cell_type": "code",
      "source": [
        "tpf_fpr_auc.append((fpr8 , tpr8,auc8))\n",
        "with open('tpf_fpr_auc_1_8_pred.pkl', 'wb') as f:\n",
        "  pickle.dump(tpf_fpr_auc , f)\n",
        "f.close()"
      ],
      "metadata": {
        "id": "eIrankUvQRWy"
      },
      "execution_count": null,
      "outputs": []
    },
    {
      "cell_type": "code",
      "source": [
        "# tpf_fpr_auc =[(fpr1 , tpr1,auc1)\n",
        "fig = plt.figure()\n",
        "fig.set_figwidth(14) # set width\n",
        "fig.set_figheight(14) # set height\n",
        "plt.plot([0,1],[0,1], 'k--')\n",
        "plt.plot(tpf_fpr_auc[0][0], tpf_fpr_auc[0][1], label= f\"LightGBM AUC = {100*tpf_fpr_auc[0][2] :.2f}%\")\n",
        "plt.plot(tpf_fpr_auc[1][0], tpf_fpr_auc[1][1], label= f\"XGBoost AUC = {100*tpf_fpr_auc[1][2] :.2f}%\")\n",
        "plt.plot(tpf_fpr_auc[2][0], tpf_fpr_auc[2][1], label= f\"SVM AUC = {100*tpf_fpr_auc[2][2] :.2f}%\")\n",
        "plt.plot(tpf_fpr_auc[3][0], tpf_fpr_auc[3][1], label= f\"Voting AUC = {100*tpf_fpr_auc[3][2] :.2f}%\")\n",
        "plt.plot(tpf_fpr_auc[4][0], tpf_fpr_auc[4][1], label= f\"Stacking AUC = {100*tpf_fpr_auc[4][2] :.2f}%\")\n",
        "plt.plot(tpf_fpr_auc[5][0], tpf_fpr_auc[5][1], label= f\"DNN AUC = {100*tpf_fpr_auc[5][2] :.2f}%\")\n",
        "plt.plot(tpf_fpr_auc[6][0], tpf_fpr_auc[6][1], label= f\"RoBerta AUC = {100*tpf_fpr_auc[6][2] :.2f}%\")\n",
        "plt.plot(tpf_fpr_auc[7][0], tpf_fpr_auc[7][1], label= f\"TextCNN AUC = {100*tpf_fpr_auc[7][2] :.2f}%\")\n",
        "plt.gca().set_xscale(\"log\")\n",
        "plt.yticks(np.arange(22) / 20.0)\n",
        "plt.xlim([4e-5, 1.0])\n",
        "plt.gca().grid(True)\n",
        "plt.xlabel(\"False positive rate\",fontsize=16)\n",
        "plt.ylabel(\"True positive rate\",fontsize=16)\n",
        "plt.title('Different models roc curve comparison',fontsize=18)\n",
        "plt.legend(loc= 'lower right')\n",
        "plt.show()"
      ],
      "metadata": {
        "colab": {
          "base_uri": "https://localhost:8080/",
          "height": 852
        },
        "id": "560VKYAkREYP",
        "outputId": "1f104d5c-07ea-4b2f-c65d-d85f871a2956"
      },
      "execution_count": null,
      "outputs": [
        {
          "output_type": "display_data",
          "data": {
            "text/plain": [
              "<Figure size 1008x1008 with 1 Axes>"
            ],
            "image/png": "[encoded data removed]"
          },
          "metadata": {
            "needs_background": "light"
          }
        }
      ]
    },
    {
      "cell_type": "markdown",
      "source": [
        "# Accuracy and detection rates"
      ],
      "metadata": {
        "id": "T_WQ1IsAWhkm"
      }
    },
    {
      "cell_type": "code",
      "source": [
        "dat=pd.DataFrame(data= [accuracy_list,\n",
        "                        ['AUC',tpf_fpr_auc[0][2]*100,tpf_fpr_auc[1][2]*100,tpf_fpr_auc[2][2]*100,tpf_fpr_auc[3][2]*100,tpf_fpr_auc[4][2]*100,tpf_fpr_auc[5][2]*100,tpf_fpr_auc[6][2]*100,tpf_fpr_auc[7][2]*100],\n",
        "                        ['0.1% FPR Detection',\n",
        "                        tpf_fpr_auc[0][1][np.abs(tpf_fpr_auc[0][0]-0.001).argmin()] * 100,\n",
        "                        tpf_fpr_auc[1][1][np.abs(tpf_fpr_auc[1][0]-0.001).argmin()] * 100,\n",
        "                        tpf_fpr_auc[2][1][np.abs(tpf_fpr_auc[2][0]-0.001).argmin()] * 100,\n",
        "                        tpf_fpr_auc[3][1][np.abs(tpf_fpr_auc[3][0]-0.001).argmin()] * 100,\n",
        "                        tpf_fpr_auc[4][1][np.abs(tpf_fpr_auc[4][0]-0.001).argmin()] * 100,\n",
        "                        tpf_fpr_auc[5][1][np.abs(tpf_fpr_auc[5][0]-0.001).argmin()] * 100,\n",
        "                        tpf_fpr_auc[6][1][np.abs(tpf_fpr_auc[6][0]-0.001).argmin()] * 100,\n",
        "                        tpf_fpr_auc[7][1][1] * 100\n",
        "                         ],\n",
        "                        ['1% FPR Detection',\n",
        "                        tpf_fpr_auc[0][1][np.abs(tpf_fpr_auc[0][0]-0.01).argmin()] * 100,\n",
        "                        tpf_fpr_auc[1][1][np.abs(tpf_fpr_auc[1][0]-0.01).argmin()] * 100,\n",
        "                        tpf_fpr_auc[2][1][np.abs(tpf_fpr_auc[2][0]-0.01).argmin()] * 100,\n",
        "                        tpf_fpr_auc[3][1][np.abs(tpf_fpr_auc[3][0]-0.01).argmin()] * 100,\n",
        "                        tpf_fpr_auc[4][1][np.abs(tpf_fpr_auc[4][0]-0.01).argmin()] * 100,\n",
        "                        tpf_fpr_auc[5][1][np.abs(tpf_fpr_auc[5][0]-0.01).argmin()] * 100,\n",
        "                        tpf_fpr_auc[6][1][np.abs(tpf_fpr_auc[6][0]-0.01).argmin()] * 100,\n",
        "                        tpf_fpr_auc[7][1][np.abs(tpf_fpr_auc[7][0]-0.01).argmin()] * 100\n",
        "                         ],\n",
        "                        inf_time_list,\n",
        "                        acc_pj],\n",
        "                 columns =  ['metric','LightGBM','XGBoost','SVM','Voting','Stacking','DNN','RoBerta','TextCNN'])\n",
        "dat = dat.set_index('metric')\n",
        "dat = dat.rename(index={'Accuracy': 'Accuracy on PAN12 test'})"
      ],
      "metadata": {
        "id": "MPq6Oy6eaq3h"
      },
      "execution_count": null,
      "outputs": []
    },
    {
      "cell_type": "code",
      "source": [
        "dat.round(2)"
      ],
      "metadata": {
        "colab": {
          "base_uri": "https://localhost:8080/",
          "height": 414
        },
        "id": "h2FoyJX3lbyi",
        "outputId": "187c140e-25bd-4ad7-cddd-c7b1d54d5242"
      },
      "execution_count": null,
      "outputs": [
        {
          "output_type": "execute_result",
          "data": {
            "text/plain": [
              "                        LightGBM  XGBoost    SVM  Voting  Stacking    DNN  \\\n",
              "metric                                                                      \n",
              "Accuracy on PAN12 test     82.15    79.56  86.29   84.88     86.39  91.00   \n",
              "AUC                        92.57    92.18  95.15   95.02     95.29  96.17   \n",
              "0.1% FPR Detection         11.71     7.12   8.57   11.90      8.17  12.60   \n",
              "1% FPR Detection           38.79    37.01  36.21   44.21     36.02  46.31   \n",
              "Inference Time [Min]        0.00     0.00   0.10    0.10      0.10   0.01   \n",
              "PervJust Accuracy          92.86    91.96  91.96   92.86     91.96  91.96   \n",
              "\n",
              "                        RoBerta  TextCNN  \n",
              "metric                                    \n",
              "Accuracy on PAN12 test    85.79    88.00  \n",
              "AUC                       97.12    96.40  \n",
              "0.1% FPR Detection        18.69    30.46  \n",
              "1% FPR Detection          51.33    52.62  \n",
              "Inference Time [Min]       1.21     0.53  \n",
              "PervJust Accuracy         98.21    96.43  "
            ],
            "text/html": [
              "\n",
              "  <div id=\"df-23c35d0a-e8ac-4657-a6fb-e8805dc4e87a\">\n",
              "    <div class=\"colab-df-container\">\n",
              "      <div>\n",
              "<style scoped>\n",
              "    .dataframe tbody tr th:only-of-type {\n",
              "        vertical-align: middle;\n",
              "    }\n",
              "\n",
              "    .dataframe tbody tr th {\n",
              "        vertical-align: top;\n",
              "    }\n",
              "\n",
              "    .dataframe thead th {\n",
              "        text-align: right;\n",
              "    }\n",
              "</style>\n",
              "<table border=\"1\" class=\"dataframe\">\n",
              "  <thead>\n",
              "    <tr style=\"text-align: right;\">\n",
              "      <th></th>\n",
              "      <th>LightGBM</th>\n",
              "      <th>XGBoost</th>\n",
              "      <th>SVM</th>\n",
              "      <th>Voting</th>\n",
              "      <th>Stacking</th>\n",
              "      <th>DNN</th>\n",
              "      <th>RoBerta</th>\n",
              "      <th>TextCNN</th>\n",
              "    </tr>\n",
              "    <tr>\n",
              "      <th>metric</th>\n",
              "      <th></th>\n",
              "      <th></th>\n",
              "      <th></th>\n",
              "      <th></th>\n",
              "      <th></th>\n",
              "      <th></th>\n",
              "      <th></th>\n",
              "      <th></th>\n",
              "    </tr>\n",
              "  </thead>\n",
              "  <tbody>\n",
              "    <tr>\n",
              "      <th>Accuracy on PAN12 test</th>\n",
              "      <td>82.15</td>\n",
              "      <td>79.56</td>\n",
              "      <td>86.29</td>\n",
              "      <td>84.88</td>\n",
              "      <td>86.39</td>\n",
              "      <td>91.00</td>\n",
              "      <td>85.79</td>\n",
              "      <td>88.00</td>\n",
              "    </tr>\n",
              "    <tr>\n",
              "      <th>AUC</th>\n",
              "      <td>92.57</td>\n",
              "      <td>92.18</td>\n",
              "      <td>95.15</td>\n",
              "      <td>95.02</td>\n",
              "      <td>95.29</td>\n",
              "      <td>96.17</td>\n",
              "      <td>97.12</td>\n",
              "      <td>96.40</td>\n",
              "    </tr>\n",
              "    <tr>\n",
              "      <th>0.1% FPR Detection</th>\n",
              "      <td>11.71</td>\n",
              "      <td>7.12</td>\n",
              "      <td>8.57</td>\n",
              "      <td>11.90</td>\n",
              "      <td>8.17</td>\n",
              "      <td>12.60</td>\n",
              "      <td>18.69</td>\n",
              "      <td>30.46</td>\n",
              "    </tr>\n",
              "    <tr>\n",
              "      <th>1% FPR Detection</th>\n",
              "      <td>38.79</td>\n",
              "      <td>37.01</td>\n",
              "      <td>36.21</td>\n",
              "      <td>44.21</td>\n",
              "      <td>36.02</td>\n",
              "      <td>46.31</td>\n",
              "      <td>51.33</td>\n",
              "      <td>52.62</td>\n",
              "    </tr>\n",
              "    <tr>\n",
              "      <th>Inference Time [Min]</th>\n",
              "      <td>0.00</td>\n",
              "      <td>0.00</td>\n",
              "      <td>0.10</td>\n",
              "      <td>0.10</td>\n",
              "      <td>0.10</td>\n",
              "      <td>0.01</td>\n",
              "      <td>1.21</td>\n",
              "      <td>0.53</td>\n",
              "    </tr>\n",
              "    <tr>\n",
              "      <th>PervJust Accuracy</th>\n",
              "      <td>92.86</td>\n",
              "      <td>91.96</td>\n",
              "      <td>91.96</td>\n",
              "      <td>92.86</td>\n",
              "      <td>91.96</td>\n",
              "      <td>91.96</td>\n",
              "      <td>98.21</td>\n",
              "      <td>96.43</td>\n",
              "    </tr>\n",
              "  </tbody>\n",
              "</table>\n",
              "</div>\n",
              "      <button class=\"colab-df-convert\" onclick=\"convertToInteractive('df-23c35d0a-e8ac-4657-a6fb-e8805dc4e87a')\"\n",
              "              title=\"Convert this dataframe to an interactive table.\"\n",
              "              style=\"display:none;\">\n",
              "        \n",
              "  <svg xmlns=\"http://www.w3.org/2000/svg\" height=\"24px\"viewBox=\"0 0 24 24\"\n",
              "       width=\"24px\">\n",
              "    <path d=\"M0 0h24v24H0V0z\" fill=\"none\"/>\n",
              "    <path d=\"M18.56 5.44l.94 2.06.94-2.06 2.06-.94-2.06-.94-.94-2.06-.94 2.06-2.06.94zm-11 1L8.5 8.5l.94-2.06 2.06-.94-2.06-.94L8.5 2.5l-.94 2.06-2.06.94zm10 10l.94 2.06.94-2.06 2.06-.94-2.06-.94-.94-2.06-.94 2.06-2.06.94z\"/><path d=\"M17.41 7.96l-1.37-1.37c-.4-.4-.92-.59-1.43-.59-.52 0-1.04.2-1.43.59L10.3 9.45l-7.72 7.72c-.78.78-.78 2.05 0 2.83L4 21.41c.39.39.9.59 1.41.59.51 0 1.02-.2 1.41-.59l7.78-7.78 2.81-2.81c.8-.78.8-2.07 0-2.86zM5.41 20L4 18.59l7.72-7.72 1.47 1.35L5.41 20z\"/>\n",
              "  </svg>\n",
              "      </button>\n",
              "      \n",
              "  <style>\n",
              "    .colab-df-container {\n",
              "      display:flex;\n",
              "      flex-wrap:wrap;\n",
              "      gap: 12px;\n",
              "    }\n",
              "\n",
              "    .colab-df-convert {\n",
              "      background-color: #E8F0FE;\n",
              "      border: none;\n",
              "      border-radius: 50%;\n",
              "      cursor: pointer;\n",
              "      display: none;\n",
              "      fill: #1967D2;\n",
              "      height: 32px;\n",
              "      padding: 0 0 0 0;\n",
              "      width: 32px;\n",
              "    }\n",
              "\n",
              "    .colab-df-convert:hover {\n",
              "      background-color: #E2EBFA;\n",
              "      box-shadow: 0px 1px 2px rgba(60, 64, 67, 0.3), 0px 1px 3px 1px rgba(60, 64, 67, 0.15);\n",
              "      fill: #174EA6;\n",
              "    }\n",
              "\n",
              "    [theme=dark] .colab-df-convert {\n",
              "      background-color: #3B4455;\n",
              "      fill: #D2E3FC;\n",
              "    }\n",
              "\n",
              "    [theme=dark] .colab-df-convert:hover {\n",
              "      background-color: #434B5C;\n",
              "      box-shadow: 0px 1px 3px 1px rgba(0, 0, 0, 0.15);\n",
              "      filter: drop-shadow(0px 1px 2px rgba(0, 0, 0, 0.3));\n",
              "      fill: #FFFFFF;\n",
              "    }\n",
              "  </style>\n",
              "\n",
              "      <script>\n",
              "        const buttonEl =\n",
              "          document.querySelector('#df-23c35d0a-e8ac-4657-a6fb-e8805dc4e87a button.colab-df-convert');\n",
              "        buttonEl.style.display =\n",
              "          google.colab.kernel.accessAllowed ? 'block' : 'none';\n",
              "\n",
              "        async function convertToInteractive(key) {\n",
              "          const element = document.querySelector('#df-23c35d0a-e8ac-4657-a6fb-e8805dc4e87a');\n",
              "          const dataTable =\n",
              "            await google.colab.kernel.invokeFunction('convertToInteractive',\n",
              "                                                     [key], {});\n",
              "          if (!dataTable) return;\n",
              "\n",
              "          const docLinkHtml = 'Like what you see? Visit the ' +\n",
              "            '<a target=\"_blank\" href=https://colab.research.google.com/notebooks/data_table.ipynb>data table notebook</a>'\n",
              "            + ' to learn more about interactive tables.';\n",
              "          element.innerHTML = '';\n",
              "          dataTable['output_type'] = 'display_data';\n",
              "          await google.colab.output.renderOutput(dataTable, element);\n",
              "          const docLink = document.createElement('div');\n",
              "          docLink.innerHTML = docLinkHtml;\n",
              "          element.appendChild(docLink);\n",
              "        }\n",
              "      </script>\n",
              "    </div>\n",
              "  </div>\n",
              "  "
            ]
          },
          "metadata": {},
          "execution_count": 123
        }
      ]
    },
    {
      "cell_type": "code",
      "source": [
        "dat"
      ],
      "metadata": {
        "colab": {
          "base_uri": "https://localhost:8080/",
          "height": 269
        },
        "id": "hpV6xUr-kJIm",
        "outputId": "c12411bf-54ed-4446-8c62-3ec6d89bfb42"
      },
      "execution_count": null,
      "outputs": [
        {
          "output_type": "execute_result",
          "data": {
            "text/plain": [
              "                         LightGBM    XGBoost        SVM     Voting   Stacking  \\\n",
              "metric                                                                          \n",
              "Accuracy on PAN12 test  82.150499  79.564907  86.287447  84.878745  86.394437   \n",
              "AUC                     92.569111  92.179975  95.154994  95.018927  95.290847   \n",
              "0.1% FPR Detection      11.710986   7.117916   8.568359  11.899006   8.165458   \n",
              "1% FPR Detection        38.785925  37.013161  36.207360  44.211657  36.019339   \n",
              "Inference Time [Min]     0.004548   0.004311   0.100282   0.097954   0.103102   \n",
              "PervJust Accuracy       92.857143  91.964286  91.964286  92.857143  91.964286   \n",
              "\n",
              "                              DNN    RoBerta    TextCNN  \n",
              "metric                                                   \n",
              "Accuracy on PAN12 test  90.995007  85.788160  87.999287  \n",
              "AUC                     96.174828  97.117944  96.401023  \n",
              "0.1% FPR Detection      12.597368  18.694601  30.459307  \n",
              "1% FPR Detection        46.306742  51.329573  52.618856  \n",
              "Inference Time [Min]     0.009082   1.208521   0.534857  \n",
              "PervJust Accuracy       91.964286  98.214286  96.428571  "
            ],
            "text/html": [
              "\n",
              "  <div id=\"df-4d94ec69-ad75-4d91-bf81-7257a2a3aa9c\">\n",
              "    <div class=\"colab-df-container\">\n",
              "      <div>\n",
              "<style scoped>\n",
              "    .dataframe tbody tr th:only-of-type {\n",
              "        vertical-align: middle;\n",
              "    }\n",
              "\n",
              "    .dataframe tbody tr th {\n",
              "        vertical-align: top;\n",
              "    }\n",
              "\n",
              "    .dataframe thead th {\n",
              "        text-align: right;\n",
              "    }\n",
              "</style>\n",
              "<table border=\"1\" class=\"dataframe\">\n",
              "  <thead>\n",
              "    <tr style=\"text-align: right;\">\n",
              "      <th></th>\n",
              "      <th>LightGBM</th>\n",
              "      <th>XGBoost</th>\n",
              "      <th>SVM</th>\n",
              "      <th>Voting</th>\n",
              "      <th>Stacking</th>\n",
              "      <th>DNN</th>\n",
              "      <th>RoBerta</th>\n",
              "      <th>TextCNN</th>\n",
              "    </tr>\n",
              "    <tr>\n",
              "      <th>metric</th>\n",
              "      <th></th>\n",
              "      <th></th>\n",
              "      <th></th>\n",
              "      <th></th>\n",
              "      <th></th>\n",
              "      <th></th>\n",
              "      <th></th>\n",
              "      <th></th>\n",
              "    </tr>\n",
              "  </thead>\n",
              "  <tbody>\n",
              "    <tr>\n",
              "      <th>Accuracy on PAN12 test</th>\n",
              "      <td>82.150499</td>\n",
              "      <td>79.564907</td>\n",
              "      <td>86.287447</td>\n",
              "      <td>84.878745</td>\n",
              "      <td>86.394437</td>\n",
              "      <td>90.995007</td>\n",
              "      <td>85.788160</td>\n",
              "      <td>87.999287</td>\n",
              "    </tr>\n",
              "    <tr>\n",
              "      <th>AUC</th>\n",
              "      <td>92.569111</td>\n",
              "      <td>92.179975</td>\n",
              "      <td>95.154994</td>\n",
              "      <td>95.018927</td>\n",
              "      <td>95.290847</td>\n",
              "      <td>96.174828</td>\n",
              "      <td>97.117944</td>\n",
              "      <td>96.401023</td>\n",
              "    </tr>\n",
              "    <tr>\n",
              "      <th>0.1% FPR Detection</th>\n",
              "      <td>11.710986</td>\n",
              "      <td>7.117916</td>\n",
              "      <td>8.568359</td>\n",
              "      <td>11.899006</td>\n",
              "      <td>8.165458</td>\n",
              "      <td>12.597368</td>\n",
              "      <td>18.694601</td>\n",
              "      <td>30.459307</td>\n",
              "    </tr>\n",
              "    <tr>\n",
              "      <th>1% FPR Detection</th>\n",
              "      <td>38.785925</td>\n",
              "      <td>37.013161</td>\n",
              "      <td>36.207360</td>\n",
              "      <td>44.211657</td>\n",
              "      <td>36.019339</td>\n",
              "      <td>46.306742</td>\n",
              "      <td>51.329573</td>\n",
              "      <td>52.618856</td>\n",
              "    </tr>\n",
              "    <tr>\n",
              "      <th>Inference Time [Min]</th>\n",
              "      <td>0.004548</td>\n",
              "      <td>0.004311</td>\n",
              "      <td>0.100282</td>\n",
              "      <td>0.097954</td>\n",
              "      <td>0.103102</td>\n",
              "      <td>0.009082</td>\n",
              "      <td>1.208521</td>\n",
              "      <td>0.534857</td>\n",
              "    </tr>\n",
              "    <tr>\n",
              "      <th>PervJust Accuracy</th>\n",
              "      <td>92.857143</td>\n",
              "      <td>91.964286</td>\n",
              "      <td>91.964286</td>\n",
              "      <td>92.857143</td>\n",
              "      <td>91.964286</td>\n",
              "      <td>91.964286</td>\n",
              "      <td>98.214286</td>\n",
              "      <td>96.428571</td>\n",
              "    </tr>\n",
              "  </tbody>\n",
              "</table>\n",
              "</div>\n",
              "      <button class=\"colab-df-convert\" onclick=\"convertToInteractive('df-4d94ec69-ad75-4d91-bf81-7257a2a3aa9c')\"\n",
              "              title=\"Convert this dataframe to an interactive table.\"\n",
              "              style=\"display:none;\">\n",
              "        \n",
              "  <svg xmlns=\"http://www.w3.org/2000/svg\" height=\"24px\"viewBox=\"0 0 24 24\"\n",
              "       width=\"24px\">\n",
              "    <path d=\"M0 0h24v24H0V0z\" fill=\"none\"/>\n",
              "    <path d=\"M18.56 5.44l.94 2.06.94-2.06 2.06-.94-2.06-.94-.94-2.06-.94 2.06-2.06.94zm-11 1L8.5 8.5l.94-2.06 2.06-.94-2.06-.94L8.5 2.5l-.94 2.06-2.06.94zm10 10l.94 2.06.94-2.06 2.06-.94-2.06-.94-.94-2.06-.94 2.06-2.06.94z\"/><path d=\"M17.41 7.96l-1.37-1.37c-.4-.4-.92-.59-1.43-.59-.52 0-1.04.2-1.43.59L10.3 9.45l-7.72 7.72c-.78.78-.78 2.05 0 2.83L4 21.41c.39.39.9.59 1.41.59.51 0 1.02-.2 1.41-.59l7.78-7.78 2.81-2.81c.8-.78.8-2.07 0-2.86zM5.41 20L4 18.59l7.72-7.72 1.47 1.35L5.41 20z\"/>\n",
              "  </svg>\n",
              "      </button>\n",
              "      \n",
              "  <style>\n",
              "    .colab-df-container {\n",
              "      display:flex;\n",
              "      flex-wrap:wrap;\n",
              "      gap: 12px;\n",
              "    }\n",
              "\n",
              "    .colab-df-convert {\n",
              "      background-color: #E8F0FE;\n",
              "      border: none;\n",
              "      border-radius: 50%;\n",
              "      cursor: pointer;\n",
              "      display: none;\n",
              "      fill: #1967D2;\n",
              "      height: 32px;\n",
              "      padding: 0 0 0 0;\n",
              "      width: 32px;\n",
              "    }\n",
              "\n",
              "    .colab-df-convert:hover {\n",
              "      background-color: #E2EBFA;\n",
              "      box-shadow: 0px 1px 2px rgba(60, 64, 67, 0.3), 0px 1px 3px 1px rgba(60, 64, 67, 0.15);\n",
              "      fill: #174EA6;\n",
              "    }\n",
              "\n",
              "    [theme=dark] .colab-df-convert {\n",
              "      background-color: #3B4455;\n",
              "      fill: #D2E3FC;\n",
              "    }\n",
              "\n",
              "    [theme=dark] .colab-df-convert:hover {\n",
              "      background-color: #434B5C;\n",
              "      box-shadow: 0px 1px 3px 1px rgba(0, 0, 0, 0.15);\n",
              "      filter: drop-shadow(0px 1px 2px rgba(0, 0, 0, 0.3));\n",
              "      fill: #FFFFFF;\n",
              "    }\n",
              "  </style>\n",
              "\n",
              "      <script>\n",
              "        const buttonEl =\n",
              "          document.querySelector('#df-4d94ec69-ad75-4d91-bf81-7257a2a3aa9c button.colab-df-convert');\n",
              "        buttonEl.style.display =\n",
              "          google.colab.kernel.accessAllowed ? 'block' : 'none';\n",
              "\n",
              "        async function convertToInteractive(key) {\n",
              "          const element = document.querySelector('#df-4d94ec69-ad75-4d91-bf81-7257a2a3aa9c');\n",
              "          const dataTable =\n",
              "            await google.colab.kernel.invokeFunction('convertToInteractive',\n",
              "                                                     [key], {});\n",
              "          if (!dataTable) return;\n",
              "\n",
              "          const docLinkHtml = 'Like what you see? Visit the ' +\n",
              "            '<a target=\"_blank\" href=https://colab.research.google.com/notebooks/data_table.ipynb>data table notebook</a>'\n",
              "            + ' to learn more about interactive tables.';\n",
              "          element.innerHTML = '';\n",
              "          dataTable['output_type'] = 'display_data';\n",
              "          await google.colab.output.renderOutput(dataTable, element);\n",
              "          const docLink = document.createElement('div');\n",
              "          docLink.innerHTML = docLinkHtml;\n",
              "          element.appendChild(docLink);\n",
              "        }\n",
              "      </script>\n",
              "    </div>\n",
              "  </div>\n",
              "  "
            ]
          },
          "metadata": {},
          "execution_count": 124
        }
      ]
    },
    {
      "cell_type": "code",
      "source": [
        "dat.to_csv('results_df_pred.csv')"
      ],
      "metadata": {
        "id": "yeiMm8QBxarD"
      },
      "execution_count": null,
      "outputs": []
    },
    {
      "cell_type": "code",
      "source": [
        ""
      ],
      "metadata": {
        "id": "TzydJNAMxlU1"
      },
      "execution_count": null,
      "outputs": []
    }
  ]
}