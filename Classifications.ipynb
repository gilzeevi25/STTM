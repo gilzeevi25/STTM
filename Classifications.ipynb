{
 "cells": [
  {
   "cell_type": "code",
   "execution_count": 137,
   "id": "ecadfa8c",
   "metadata": {},
   "outputs": [],
   "source": [
    "import numpy as np\n",
    "import pandas as pd\n",
    "import xml.etree.ElementTree as ET\n",
    "import datetime\n",
    "import re\n",
    "import csv\n",
    "from sklearn.feature_extraction.text import TfidfVectorizer\n",
    "import scipy\n",
    "from sklearn import svm\n",
    "import matplotlib.pyplot as plt\n",
    "from sklearn import metrics\n",
    "from sklearn.svm import LinearSVC\n",
    "from sklearn.metrics import classification_report"
   ]
  },
  {
   "cell_type": "markdown",
   "id": "e3ff5750",
   "metadata": {},
   "source": [
    "# Building a corpus of concatenated conversations between users\n",
    "each row in data corpus stands for a complete chat between users"
   ]
  },
  {
   "cell_type": "code",
   "execution_count": 2,
   "id": "656f1612",
   "metadata": {},
   "outputs": [],
   "source": [
    "def get_labels_dict(data_path):\n",
    "    labels_dict = {}\n",
    "    with open(data_path + 'sci_labels.csv', 'r') as f:\n",
    "        file = csv.reader(f)\n",
    "        for row in file:\n",
    "            labels_dict[row[0]] = row[1]\n",
    "    return labels_dict\n",
    "\n",
    "\n",
    "def get_features_labels(root, labels_dict):\n",
    "    corpus = [] # each row is a string formed from all messages in a conversations\n",
    "    labels = [] # each row is 0 or 1, corresponds to label for same row in corpus\n",
    "\n",
    "    for conversation in root:\n",
    "        string = \" \"\n",
    "        for message in conversation:\n",
    "            text = message.find('text').text\n",
    "            if text is not None:\n",
    "                string = string + \"\\r\\n\" + text \n",
    "        corpus.append(string)\n",
    "        labels.append(int(labels_dict[conversation.get('id')]))\n",
    "    return corpus, labels"
   ]
  },
  {
   "cell_type": "code",
   "execution_count": 3,
   "id": "2fff415f",
   "metadata": {},
   "outputs": [],
   "source": [
    "train_data_path = \"data/pan12-sexual-predator-identification-training-corpus-2012-05-01/\"\n",
    "\n",
    "training_xml = ET.parse(train_data_path + 'training_data.xml')\n",
    "train_root = training_xml.getroot()\n",
    "\n",
    "test_data_path = 'data/pan12-sexual-predator-identification-test-corpus-2012-05-21/'\n",
    "test_xml = ET.parse(test_data_path + 'pan12-sexual-predator-identification-test-corpus-2012-05-17.xml')\n",
    "test_root = test_xml.getroot()\n",
    "\n",
    "train_corpus, train_labels = get_features_labels(train_root, get_labels_dict(train_data_path))\n",
    "test_corpus, test_labels = get_features_labels(test_root, get_labels_dict(test_data_path))"
   ]
  },
  {
   "cell_type": "code",
   "execution_count": 28,
   "id": "0670fc79",
   "metadata": {
    "scrolled": true
   },
   "outputs": [
    {
     "data": {
      "image/png": "[encoded data removed]",
      "text/plain": [
       "<Figure size 432x288 with 2 Axes>"
      ]
     },
     "metadata": {
      "needs_background": "light"
     },
     "output_type": "display_data"
    }
   ],
   "source": [
    "fig, (ax1, ax2) = plt.subplots(1, 2)\n",
    "ax = (pd.Series(train_labels).value_counts()/len(train_labels)*100).round(2).plot(kind='bar',title='Train labels distribution',ax= ax1)\n",
    "ax.bar_label(ax1.containers[0])\n",
    "ax = (pd.Series(test_labels).value_counts()/len(test_labels)*100).round(2).plot(kind='bar',title='Test labels distribution',ax=ax2)\n",
    "ax.bar_label(ax2.containers[0])\n",
    "ax1.tick_params(axis='x', rotation=0)\n",
    "ax2.tick_params(axis='x', rotation=0)\n",
    "plt.show()"
   ]
  },
  {
   "cell_type": "markdown",
   "id": "a3351725",
   "metadata": {},
   "source": [
    "# TF-IDF on data\n",
    "We will now represent all conversations using BOW with TF-IDF weighting scheme."
   ]
  },
  {
   "cell_type": "code",
   "execution_count": 127,
   "id": "13c3f097",
   "metadata": {},
   "outputs": [],
   "source": [
    "vectorizer = TfidfVectorizer()\n",
    "X_train = vectorizer.fit_transform(train_corpus)\n",
    "X_test = vectorizer.transform(test_corpus)\n",
    "\n",
    "X_train = scipy.sparse.csr_matrix(X_train)\n",
    "y_train = np.array(train_labels)\n",
    "X_test = scipy.sparse.csr_matrix(X_test)\n",
    "y_test = np.array(test_labels)"
   ]
  },
  {
   "cell_type": "code",
   "execution_count": 45,
   "id": "75510ff7",
   "metadata": {},
   "outputs": [
    {
     "name": "stderr",
     "output_type": "stream",
     "text": [
      "C:\\Users\\Gil zeevi\\anaconda3\\lib\\site-packages\\dask\\dataframe\\utils.py:369: FutureWarning: pandas.Int64Index is deprecated and will be removed from pandas in a future version. Use pandas.Index with the appropriate dtype instead.\n",
      "  _numeric_index_types = (pd.Int64Index, pd.Float64Index, pd.UInt64Index)\n",
      "C:\\Users\\Gil zeevi\\anaconda3\\lib\\site-packages\\dask\\dataframe\\utils.py:369: FutureWarning: pandas.Float64Index is deprecated and will be removed from pandas in a future version. Use pandas.Index with the appropriate dtype instead.\n",
      "  _numeric_index_types = (pd.Int64Index, pd.Float64Index, pd.UInt64Index)\n",
      "C:\\Users\\Gil zeevi\\anaconda3\\lib\\site-packages\\dask\\dataframe\\utils.py:369: FutureWarning: pandas.UInt64Index is deprecated and will be removed from pandas in a future version. Use pandas.Index with the appropriate dtype instead.\n",
      "  _numeric_index_types = (pd.Int64Index, pd.Float64Index, pd.UInt64Index)\n"
     ]
    },
    {
     "name": "stdout",
     "output_type": "stream",
     "text": [
      "0.9821428571428571\n"
     ]
    }
   ],
   "source": [
    "import lightgbm as lgb\n",
    "model = lgb.LGBMClassifier(learning_rate=0.09,max_depth=-5,random_state=42)\n",
    "model.fit(X_train, y_train)\n",
    "pred_y = model.predict(X_test)\n",
    "print(metrics.accuracy_score(y_test, pred_y))"
   ]
  },
  {
   "cell_type": "code",
   "execution_count": 129,
   "id": "1c3d8997",
   "metadata": {},
   "outputs": [
    {
     "name": "stdout",
     "output_type": "stream",
     "text": [
      "0.9851928729823114\n"
     ]
    }
   ],
   "source": [
    "import xgboost as xgb\n",
    "model_b = xgb.XGBClassifier( eval_metric='logloss',use_label_encoder=False)\n",
    "model_b.fit(X_train, y_train)\n",
    "pred_y = model_b.predict(X_test)\n",
    "print(metrics.accuracy_score(y_test, pred_y))"
   ]
  },
  {
   "cell_type": "code",
   "execution_count": 130,
   "id": "62512fdb",
   "metadata": {},
   "outputs": [],
   "source": [
    "best_feat = pd.Series(model_b.feature_importances_).sort_values(ascending=False).nlargest(155).index.tolist()\n"
   ]
  },
  {
   "cell_type": "code",
   "execution_count": null,
   "id": "37b911de",
   "metadata": {},
   "outputs": [],
   "source": [
    "#SVM\n",
    "model = LinearSVC(random_state=0, C=2.9, loss='squared_hinge', dual=True)\n",
    "model.fit(X_train, y_train)\n",
    "pred_y = model.predict(X_test)\n",
    "print(metrics.accuracy_score(y_test, pred_y))"
   ]
  },
  {
   "cell_type": "code",
   "execution_count": null,
   "id": "17c85d8f",
   "metadata": {},
   "outputs": [],
   "source": [
    "from sklearn.metrics import classification_report"
   ]
  },
  {
   "cell_type": "code",
   "execution_count": null,
   "id": "b6cc7542",
   "metadata": {},
   "outputs": [],
   "source": [
    "target_names = ['Victim', 'Predator']\n",
    "print(classification_report(y_test, pred_y, target_names=target_names))"
   ]
  },
  {
   "cell_type": "code",
   "execution_count": null,
   "id": "cd5cf266",
   "metadata": {},
   "outputs": [],
   "source": [
    "# linear kernel SVM \n",
    "model = svm.SVC(kernel='linear', C=1, gamma='auto', random_state=0)\n",
    "model.fit(X_train, y_train)\n",
    "pred_y = model.predict(X_test)\n",
    "print(metrics.accuracy_score(y_test, pred_y))\n",
    "print(classification_report(y_test, pred_y, target_names=target_names))"
   ]
  },
  {
   "cell_type": "markdown",
   "id": "6b770f0d",
   "metadata": {},
   "source": [
    "# Try PJ dataset as test set on trained corpus"
   ]
  },
  {
   "cell_type": "code",
   "execution_count": 132,
   "id": "aeafc2e3",
   "metadata": {},
   "outputs": [],
   "source": [
    "from os import listdir\n",
    "from os.path import isfile, join\n",
    "import warnings\n",
    "mypath = 'GeneralData'\n",
    "onlyfiles = [f for f in listdir(mypath) if isfile(join(mypath, f))]\n",
    "onlyfiles.remove('chatlog.dtd')\n"
   ]
  },
  {
   "cell_type": "code",
   "execution_count": 133,
   "id": "834ad492",
   "metadata": {},
   "outputs": [],
   "source": [
    "corpus_pj = [] # each row is a string formed from all messages in a conversations\n",
    "labels_pj = [] # each row is 0 or 1, corresponds to label for same row in corpus\n",
    "for file in onlyfiles:\n",
    "    df= pd.read_xml(f'GeneralData/{file}').drop(columns=['COMMENT'])\n",
    "    df=df[~df['BODY'].isna()]\n",
    "    df=df[~df['USERNAME'].isna()]\n",
    "    string = \" \"\n",
    "    for text in df.BODY.tolist():\n",
    "        if text is not None:\n",
    "            string = string + \"\\r\\n\" + text \n",
    "    corpus_pj.append(string)\n",
    "    labels_pj.append(1)"
   ]
  },
  {
   "cell_type": "code",
   "execution_count": 134,
   "id": "ab987e04",
   "metadata": {},
   "outputs": [],
   "source": [
    "X_test_pj = vectorizer.transform(corpus_pj)\n",
    "X_test_pj = scipy.sparse.csr_matrix(X_test_pj)[:,best_feat]\n",
    "y_test_pj = np.array(labels_pj)"
   ]
  },
  {
   "cell_type": "code",
   "execution_count": 136,
   "id": "a94e4430",
   "metadata": {
    "scrolled": true
   },
   "outputs": [
    {
     "name": "stdout",
     "output_type": "stream",
     "text": [
      "0.9642857142857143\n"
     ]
    },
    {
     "data": {
      "text/plain": [
       "(array([0, 1]), array([ 2, 54], dtype=int64))"
      ]
     },
     "execution_count": 136,
     "metadata": {},
     "output_type": "execute_result"
    }
   ],
   "source": [
    "pred_y = model.predict(X_test_pj)\n",
    "print(metrics.accuracy_score(y_test_pj, pred_y))\n",
    "np.unique(pred_y,return_counts=True)\n",
    "#55/1 with lightGBM"
   ]
  },
  {
   "cell_type": "code",
   "execution_count": null,
   "id": "c053888c",
   "metadata": {},
   "outputs": [],
   "source": []
  }
 ],
 "metadata": {
  "kernelspec": {
   "display_name": "Python 3",
   "language": "python",
   "name": "python3"
  },
  "language_info": {
   "codemirror_mode": {
    "name": "ipython",
    "version": 3
   },
   "file_extension": ".py",
   "mimetype": "text/x-python",
   "name": "python",
   "nbconvert_exporter": "python",
   "pygments_lexer": "ipython3",
   "version": "3.8.8"
  }
 },
 "nbformat": 4,
 "nbformat_minor": 5
}
