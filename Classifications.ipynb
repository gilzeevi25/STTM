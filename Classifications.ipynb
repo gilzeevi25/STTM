{
 "cells": [
  {
   "cell_type": "code",
   "execution_count": 7,
   "id": "77c0a738",
   "metadata": {},
   "outputs": [],
   "source": [
    "import numpy as np\n",
    "import pandas as pd\n",
    "import xml.etree.ElementTree as ET\n",
    "import datetime\n",
    "import re\n",
    "import csv\n",
    "from sklearn.feature_extraction.text import TfidfVectorizer\n",
    "import scipy\n",
    "from sklearn import svm\n",
    "import matplotlib.pyplot as plt\n",
    "from sklearn import metrics\n",
    "from sklearn.svm import LinearSVC"
   ]
  },
  {
   "cell_type": "markdown",
   "id": "cca0b681",
   "metadata": {},
   "source": [
    "# Building a corpus of concatenated conversations between users\n",
    "each row in data corpus stands for a complete chat between users"
   ]
  },
  {
   "cell_type": "code",
   "execution_count": 3,
   "id": "978c5f07",
   "metadata": {},
   "outputs": [],
   "source": [
    "def get_labels_dict(data_path):\n",
    "    labels_dict = {}\n",
    "    with open(data_path + 'sci_labels.csv', 'r') as f:\n",
    "        file = csv.reader(f)\n",
    "        for row in file:\n",
    "            labels_dict[row[0]] = row[1]\n",
    "    return labels_dict\n",
    "\n",
    "\n",
    "def get_features_labels(root, labels_dict):\n",
    "    corpus = [] # each row is a string formed from all messages in a conversations\n",
    "    labels = [] # each row is 0 or 1, corresponds to label for same row in corpus\n",
    "\n",
    "    for conversation in root:\n",
    "        string = \" \"\n",
    "        for message in conversation:\n",
    "            text = message.find('text').text\n",
    "            if text is not None:\n",
    "                string = string + \"\\r\\n\" + text \n",
    "        corpus.append(string)\n",
    "        labels.append(int(labels_dict[conversation.get('id')]))\n",
    "    return corpus, labels"
   ]
  },
  {
   "cell_type": "code",
   "execution_count": 4,
   "id": "aca3997a",
   "metadata": {},
   "outputs": [],
   "source": [
    "train_data_path = \"data/pan12-sexual-predator-identification-training-corpus-2012-05-01/\"\n",
    "\n",
    "training_xml = ET.parse(train_data_path + 'training_data.xml')\n",
    "train_root = training_xml.getroot()\n",
    "\n",
    "test_data_path = 'data/pan12-sexual-predator-identification-test-corpus-2012-05-21/'\n",
    "test_xml = ET.parse(test_data_path + 'pan12-sexual-predator-identification-test-corpus-2012-05-17.xml')\n",
    "test_root = test_xml.getroot()\n",
    "\n",
    "train_corpus, train_labels = get_features_labels(train_root, get_labels_dict(train_data_path))\n",
    "test_corpus, test_labels = get_features_labels(test_root, get_labels_dict(test_data_path))"
   ]
  },
  {
   "cell_type": "markdown",
   "id": "0a49db18",
   "metadata": {},
   "source": [
    "# TF-IDF on data\n",
    "We will now represent all conversations using BOW with TF-IDF weighting scheme."
   ]
  },
  {
   "cell_type": "code",
   "execution_count": 5,
   "id": "c41dfd90",
   "metadata": {},
   "outputs": [],
   "source": [
    "vectorizer = TfidfVectorizer()\n",
    "X_train = vectorizer.fit_transform(train_corpus)\n",
    "X_test = vectorizer.transform(test_corpus)\n",
    "\n",
    "X_train = scipy.sparse.csr_matrix(X_train)\n",
    "y_train = np.array(train_labels)\n",
    "X_test = scipy.sparse.csr_matrix(X_test)\n",
    "y_test = np.array(test_labels)"
   ]
  },
  {
   "cell_type": "code",
   "execution_count": 9,
   "id": "f85b4eba",
   "metadata": {},
   "outputs": [
    {
     "name": "stdout",
     "output_type": "stream",
     "text": [
      "0.9851026249290908\n"
     ]
    }
   ],
   "source": [
    "#SVM\n",
    "model = LinearSVC(random_state=0, C=2.9, loss='squared_hinge', dual=True)\n",
    "model.fit(X_train, y_train)\n",
    "pred_y = model.predict(X_test)\n",
    "print(metrics.accuracy_score(y_test, pred_y))"
   ]
  },
  {
   "cell_type": "code",
   "execution_count": 10,
   "id": "9769b6ac",
   "metadata": {},
   "outputs": [],
   "source": [
    "from sklearn.metrics import classification_report"
   ]
  },
  {
   "cell_type": "code",
   "execution_count": 11,
   "id": "400c85ac",
   "metadata": {},
   "outputs": [
    {
     "name": "stdout",
     "output_type": "stream",
     "text": [
      "              precision    recall  f1-score   support\n",
      "\n",
      "      Victim       0.99      1.00      0.99    151391\n",
      "    Predator       0.76      0.55      0.64      3737\n",
      "\n",
      "    accuracy                           0.99    155128\n",
      "   macro avg       0.88      0.77      0.82    155128\n",
      "weighted avg       0.98      0.99      0.98    155128\n",
      "\n"
     ]
    }
   ],
   "source": [
    "target_names = ['Victim', 'Predator']\n",
    "print(classification_report(y_test, pred_y, target_names=target_names))"
   ]
  },
  {
   "cell_type": "code",
   "execution_count": 12,
   "id": "f6200d81",
   "metadata": {},
   "outputs": [
    {
     "name": "stdout",
     "output_type": "stream",
     "text": [
      "0.9856054355113197\n",
      "              precision    recall  f1-score   support\n",
      "\n",
      "      Victim       0.99      1.00      0.99    151391\n",
      "    Predator       0.79      0.55      0.65      3737\n",
      "\n",
      "    accuracy                           0.99    155128\n",
      "   macro avg       0.89      0.77      0.82    155128\n",
      "weighted avg       0.98      0.99      0.98    155128\n",
      "\n"
     ]
    }
   ],
   "source": [
    "# linear kernel SVM \n",
    "model = svm.SVC(kernel='linear', C=1, gamma='auto', random_state=0)\n",
    "model.fit(X_train, y_train)\n",
    "pred_y = model.predict(X_test)\n",
    "print(metrics.accuracy_score(y_test, pred_y))\n",
    "print(classification_report(y_test, pred_y, target_names=target_names))"
   ]
  },
  {
   "cell_type": "markdown",
   "id": "816a7a6b",
   "metadata": {},
   "source": [
    "# Try PJ dataset as test set on trained corpus"
   ]
  },
  {
   "cell_type": "code",
   "execution_count": 17,
   "id": "fe31224b",
   "metadata": {},
   "outputs": [],
   "source": [
    "from os import listdir\n",
    "from os.path import isfile, join\n",
    "import warnings\n",
    "mypath = 'GeneralData'\n",
    "onlyfiles = [f for f in listdir(mypath) if isfile(join(mypath, f))]\n",
    "onlyfiles.remove('chatlog.dtd')\n"
   ]
  },
  {
   "cell_type": "code",
   "execution_count": 31,
   "id": "d514e02b",
   "metadata": {},
   "outputs": [],
   "source": [
    "corpus_pj = [] # each row is a string formed from all messages in a conversations\n",
    "labels_pj = [] # each row is 0 or 1, corresponds to label for same row in corpus\n",
    "for file in onlyfiles:\n",
    "    df= pd.read_xml(f'GeneralData/{file}').drop(columns=['COMMENT'])\n",
    "    df=df[~df['BODY'].isna()]\n",
    "    df=df[~df['USERNAME'].isna()]\n",
    "    string = \" \"\n",
    "    for text in df.BODY.tolist():\n",
    "        if text is not None:\n",
    "            string = string + \"\\r\\n\" + text \n",
    "    corpus_pj.append(string)\n",
    "    labels_pj.append(1)"
   ]
  },
  {
   "cell_type": "code",
   "execution_count": 34,
   "id": "9554be3b",
   "metadata": {},
   "outputs": [],
   "source": [
    "X_test = vectorizer.transform(corpus_pj)\n",
    "X_test = scipy.sparse.csr_matrix(X_test)\n",
    "y_test = np.array(labels_pj)"
   ]
  },
  {
   "cell_type": "code",
   "execution_count": 42,
   "id": "680e53fa",
   "metadata": {
    "scrolled": true
   },
   "outputs": [
    {
     "name": "stdout",
     "output_type": "stream",
     "text": [
      "0.9642857142857143\n"
     ]
    },
    {
     "data": {
      "text/plain": [
       "(array([0, 1]), array([ 2, 54], dtype=int64))"
      ]
     },
     "execution_count": 42,
     "metadata": {},
     "output_type": "execute_result"
    }
   ],
   "source": [
    "pred_y = model.predict(X_test)\n",
    "print(metrics.accuracy_score(y_test, pred_y))\n",
    "np.unique(pred_y,return_counts=True)"
   ]
  }
 ],
 "metadata": {
  "kernelspec": {
   "display_name": "Python 3",
   "language": "python",
   "name": "python3"
  },
  "language_info": {
   "codemirror_mode": {
    "name": "ipython",
    "version": 3
   },
   "file_extension": ".py",
   "mimetype": "text/x-python",
   "name": "python",
   "nbconvert_exporter": "python",
   "pygments_lexer": "ipython3",
   "version": "3.8.8"
  }
 },
 "nbformat": 4,
 "nbformat_minor": 5
}
