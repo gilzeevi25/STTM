{
 "cells": [
  {
   "cell_type": "code",
   "execution_count": 44,
   "id": "8dfafb19",
   "metadata": {},
   "outputs": [],
   "source": [
    "import pandas as pd\n",
    "pd.set_option('display.max_columns', 500)"
   ]
  },
  {
   "cell_type": "markdown",
   "id": "92540874",
   "metadata": {},
   "source": [
    "# Get all files"
   ]
  },
  {
   "cell_type": "code",
   "execution_count": 45,
   "id": "20b11a5c",
   "metadata": {},
   "outputs": [],
   "source": [
    "from os import listdir\n",
    "from os.path import isfile, join\n",
    "mypath = 'newPredFiles'\n",
    "onlyfiles = [f for f in listdir(mypath) if isfile(join(mypath, f))]\n",
    "onlyfiles.remove('chatlog.dtd')"
   ]
  },
  {
   "cell_type": "markdown",
   "id": "50d235dc",
   "metadata": {},
   "source": [
    "# Label data"
   ]
  },
  {
   "cell_type": "code",
   "execution_count": 81,
   "id": "2bf8f7a0",
   "metadata": {},
   "outputs": [
    {
     "data": {
      "text/plain": [
       "'ArmySgt1961.xml'"
      ]
     },
     "execution_count": 81,
     "metadata": {},
     "output_type": "execute_result"
    }
   ],
   "source": [
    "file"
   ]
  },
  {
   "cell_type": "code",
   "execution_count": 87,
   "id": "2601f223",
   "metadata": {},
   "outputs": [
    {
     "name": "stderr",
     "output_type": "stream",
     "text": [
      "c:\\users\\gzeevi\\pycharmprojects\\pythonproject\\venv\\lib\\site-packages\\pandas\\core\\indexing.py:1732: SettingWithCopyWarning: \n",
      "A value is trying to be set on a copy of a slice from a DataFrame\n",
      "\n",
      "See the caveats in the documentation: https://pandas.pydata.org/pandas-docs/stable/user_guide/indexing.html#returning-a-view-versus-a-copy\n",
      "  self._setitem_single_block(indexer, value, name)\n"
     ]
    }
   ],
   "source": [
    "df_all = pd.DataFrame()\n",
    "for file in onlyfiles:\n",
    "    df= pd.read_xml(f'GeneralData/{file}').drop(columns=['COMMENT'])\n",
    "    df=df[~df['BODY'].isna()]\n",
    "    df=df[~df['USERNAME'].isna()]\n",
    "    df['predator'] = 0\n",
    "    df['predator'].loc[df['USERNAME'].str.contains(file.split('.xml')[0].lower())] = 1\n",
    "    df_all=df_all.append(df)"
   ]
  },
  {
   "cell_type": "code",
   "execution_count": 88,
   "id": "a971bed3",
   "metadata": {},
   "outputs": [
    {
     "data": {
      "text/html": [
       "<div>\n",
       "<style scoped>\n",
       "    .dataframe tbody tr th:only-of-type {\n",
       "        vertical-align: middle;\n",
       "    }\n",
       "\n",
       "    .dataframe tbody tr th {\n",
       "        vertical-align: top;\n",
       "    }\n",
       "\n",
       "    .dataframe thead th {\n",
       "        text-align: right;\n",
       "    }\n",
       "</style>\n",
       "<table border=\"1\" class=\"dataframe\">\n",
       "  <thead>\n",
       "    <tr style=\"text-align: right;\">\n",
       "      <th></th>\n",
       "      <th>USERNAME</th>\n",
       "      <th>DATETIME</th>\n",
       "      <th>BODY</th>\n",
       "      <th>predator</th>\n",
       "    </tr>\n",
       "  </thead>\n",
       "  <tbody>\n",
       "    <tr>\n",
       "      <th>0</th>\n",
       "      <td>armysgt1961</td>\n",
       "      <td>(7:02:01 pm)</td>\n",
       "      <td>im dennis us army soldier from cincinnati</td>\n",
       "      <td>1</td>\n",
       "    </tr>\n",
       "    <tr>\n",
       "      <th>1</th>\n",
       "      <td>peekaboo1293</td>\n",
       "      <td>(7:02:30 pm)</td>\n",
       "      <td>hi im becky from ky</td>\n",
       "      <td>0</td>\n",
       "    </tr>\n",
       "    <tr>\n",
       "      <th>2</th>\n",
       "      <td>armysgt1961</td>\n",
       "      <td>(7:02:35 pm)</td>\n",
       "      <td>how old ru</td>\n",
       "      <td>1</td>\n",
       "    </tr>\n",
       "    <tr>\n",
       "      <th>3</th>\n",
       "      <td>peekaboo1293</td>\n",
       "      <td>(7:02:42 pm)</td>\n",
       "      <td>13 how old ru</td>\n",
       "      <td>0</td>\n",
       "    </tr>\n",
       "    <tr>\n",
       "      <th>4</th>\n",
       "      <td>armysgt1961</td>\n",
       "      <td>(7:02:44 pm)</td>\n",
       "      <td>u single</td>\n",
       "      <td>1</td>\n",
       "    </tr>\n",
       "    <tr>\n",
       "      <th>...</th>\n",
       "      <td>...</td>\n",
       "      <td>...</td>\n",
       "      <td>...</td>\n",
       "      <td>...</td>\n",
       "    </tr>\n",
       "    <tr>\n",
       "      <th>3588</th>\n",
       "      <td>wulfker_dragonslayer</td>\n",
       "      <td>01/20/07  1:29:08 PM</td>\n",
       "      <td>ok baby, ill be on the road then</td>\n",
       "      <td>1</td>\n",
       "    </tr>\n",
       "    <tr>\n",
       "      <th>3589</th>\n",
       "      <td>13 year old girl</td>\n",
       "      <td>01/20/07  1:29:16 PM</td>\n",
       "      <td>okay luv u!! so much!!</td>\n",
       "      <td>0</td>\n",
       "    </tr>\n",
       "    <tr>\n",
       "      <th>3590</th>\n",
       "      <td>wulfker_dragonslayer</td>\n",
       "      <td>01/20/07  1:29:26 PM</td>\n",
       "      <td>me too baby</td>\n",
       "      <td>1</td>\n",
       "    </tr>\n",
       "    <tr>\n",
       "      <th>3591</th>\n",
       "      <td>13 year old girl</td>\n",
       "      <td>01/20/07  1:29:29 PM</td>\n",
       "      <td>bye</td>\n",
       "      <td>0</td>\n",
       "    </tr>\n",
       "    <tr>\n",
       "      <th>3592</th>\n",
       "      <td>wulfker_dragonslayer</td>\n",
       "      <td>01/20/07  1:29:37 PM</td>\n",
       "      <td>bye</td>\n",
       "      <td>1</td>\n",
       "    </tr>\n",
       "  </tbody>\n",
       "</table>\n",
       "<p>76914 rows × 4 columns</p>\n",
       "</div>"
      ],
      "text/plain": [
       "                  USERNAME              DATETIME  \\\n",
       "0              armysgt1961          (7:02:01 pm)   \n",
       "1             peekaboo1293          (7:02:30 pm)   \n",
       "2              armysgt1961          (7:02:35 pm)   \n",
       "3             peekaboo1293          (7:02:42 pm)   \n",
       "4              armysgt1961          (7:02:44 pm)   \n",
       "...                    ...                   ...   \n",
       "3588  wulfker_dragonslayer  01/20/07  1:29:08 PM   \n",
       "3589      13 year old girl  01/20/07  1:29:16 PM   \n",
       "3590  wulfker_dragonslayer  01/20/07  1:29:26 PM   \n",
       "3591      13 year old girl  01/20/07  1:29:29 PM   \n",
       "3592  wulfker_dragonslayer  01/20/07  1:29:37 PM   \n",
       "\n",
       "                                           BODY  predator  \n",
       "0     im dennis us army soldier from cincinnati         1  \n",
       "1                           hi im becky from ky         0  \n",
       "2                                    how old ru         1  \n",
       "3                                 13 how old ru         0  \n",
       "4                                      u single         1  \n",
       "...                                         ...       ...  \n",
       "3588           ok baby, ill be on the road then         1  \n",
       "3589                     okay luv u!! so much!!         0  \n",
       "3590                                me too baby         1  \n",
       "3591                                        bye         0  \n",
       "3592                                        bye         1  \n",
       "\n",
       "[76914 rows x 4 columns]"
      ]
     },
     "execution_count": 88,
     "metadata": {},
     "output_type": "execute_result"
    }
   ],
   "source": [
    "df_all"
   ]
  }
 ],
 "metadata": {
  "kernelspec": {
   "display_name": "Python 3 (ipykernel)",
   "language": "python",
   "name": "python3"
  },
  "language_info": {
   "codemirror_mode": {
    "name": "ipython",
    "version": 3
   },
   "file_extension": ".py",
   "mimetype": "text/x-python",
   "name": "python",
   "nbconvert_exporter": "python",
   "pygments_lexer": "ipython3",
   "version": "3.9.7"
  }
 },
 "nbformat": 4,
 "nbformat_minor": 5
}
