{
 "cells": [
  {
   "cell_type": "code",
   "execution_count": 1,
   "id": "99fc8dcf",
   "metadata": {},
   "outputs": [],
   "source": [
    "import numpy as np\n",
    "import pandas as pd\n",
    "import xml.etree.ElementTree as ET\n",
    "import datetime\n",
    "import re\n",
    "import csv"
   ]
  },
  {
   "cell_type": "markdown",
   "id": "66d92d05",
   "metadata": {},
   "source": [
    "# Understanding the training data"
   ]
  },
  {
   "cell_type": "code",
   "execution_count": 2,
   "id": "10af4295",
   "metadata": {},
   "outputs": [],
   "source": [
    "train_data_path = \"data/pan12-sexual-predator-identification-training-corpus-2012-05-01/\"\n",
    "test_data_path = \"data/pan12-sexual-predator-identification-test-corpus-2012-05-21/\"\n",
    "\n",
    "training_xml = ET.parse(train_data_path + 'pan12-sexual-predator-identification-training-corpus-2012-05-01.xml')\n",
    "root = training_xml.getroot()      "
   ]
  },
  {
   "cell_type": "code",
   "execution_count": 4,
   "id": "161fb4ff",
   "metadata": {},
   "outputs": [],
   "source": [
    "all_predators = {}\n",
    "with open(train_data_path + 'pan12-sexual-predator-identification-training-corpus-predators-2012-05-01.txt', 'r') as f:\n",
    "    reader = csv.reader(f)\n",
    "    for row in reader:\n",
    "        all_predators[row[0]] = 1"
   ]
  },
  {
   "cell_type": "code",
   "execution_count": 6,
   "id": "023c88b0",
   "metadata": {},
   "outputs": [
    {
     "name": "stdout",
     "output_type": "stream",
     "text": [
      "Num of Conv: 66927\r\n",
      "Num of suspicious conv: 2016\r\n",
      "Num authors: 97689\r\n",
      "Num predators: 142\n"
     ]
    }
   ],
   "source": [
    "unfiltered_xml = ET.parse(train_data_path + 'pan12-sexual-predator-identification-training-corpus-2012-05-01.xml')\n",
    "unfiltered_root = unfiltered_xml.getroot() \n",
    "training_xml = ET.parse(train_data_path + 'pan12-sexual-predator-identification-training-corpus-2012-05-01.xml')\n",
    "unfiltered_root = training_xml.getroot() \n",
    "unfiltered_num_conv = len(unfiltered_root)\n",
    "unfiltered_num_predators = 0\n",
    "unfiltered_num_suspicious_conv = 0\n",
    "unfiltered_num_authors = 0\n",
    "unfiltered_authors = {}\n",
    "unfiltered_predators = {}\n",
    "for conversation in unfiltered_root:\n",
    "    is_suspicious = False\n",
    "    for message in conversation:\n",
    "        author = message.find('author').text\n",
    "        if author not in unfiltered_authors:\n",
    "            unfiltered_authors[author] = 1\n",
    "        if author in all_predators:\n",
    "            is_suspicious = True\n",
    "            if author not in unfiltered_predators:\n",
    "                unfiltered_predators[author] = 1\n",
    "    if is_suspicious:\n",
    "        unfiltered_num_suspicious_conv += 1\n",
    "unfiltered_num_authors = len(unfiltered_authors)\n",
    "unfiltered_num_predators = len(unfiltered_predators)\n",
    "\n",
    "print(\"Num of Conv: {}\\r\\nNum of suspicious conv: {}\\r\\nNum authors: {}\\r\\nNum predators: {}\".format(\\\n",
    "                                                                                                        unfiltered_num_conv,\\\n",
    "                                                                                                      unfiltered_num_suspicious_conv,\\\n",
    "                                                                                                      unfiltered_num_authors,\\\n",
    "                                                                                                      unfiltered_num_predators))"
   ]
  },
  {
   "cell_type": "markdown",
   "id": "8ec4ac3a",
   "metadata": {},
   "source": [
    "### Prefiltering Training Data\n",
    "First, we want to do the required pre-filtering of training data. Any conversation meeting any of the following criteria are removed:\n",
    "1. conversations with only one participant\n",
    "2. conversations with each user having 6 or less messages\n",
    "3. conversations with long sequences of unrecognized characters"
   ]
  },
  {
   "cell_type": "code",
   "execution_count": 7,
   "id": "97b676d4",
   "metadata": {},
   "outputs": [],
   "source": [
    "train_data_path = \"data/pan12-sexual-predator-identification-training-corpus-2012-05-01/\"\n",
    "test_data_path = \"data/pan12-sexual-predator-identification-test-corpus-2012-05-21/\"\n",
    "\n",
    "training_xml = ET.parse(train_data_path + 'pan12-sexual-predator-identification-training-corpus-2012-05-01.xml')\n",
    "root = training_xml.getroot()        "
   ]
  },
  {
   "cell_type": "markdown",
   "id": "10e1f626",
   "metadata": {},
   "source": [
    "1. remove conversations with only one participant"
   ]
  },
  {
   "cell_type": "code",
   "execution_count": null,
   "id": "c0ad3afd",
   "metadata": {},
   "outputs": [],
   "source": [
    "conv_2_remove = []\n",
    "authors = []\n",
    "init_len = len(root)\n",
    "\n",
    "for conversation in root:\n",
    "    authors.clear()\n",
    "    \n",
    "    # find all unique authors in this conversation\n",
    "    for message in conversation:\n",
    "        author = message.find('author').text\n",
    "        if author not in authors:\n",
    "            authors.append(author)\n",
    "    \n",
    "    # remove if one or less authors\n",
    "#     if (len(authors)) <= 1:\n",
    "#         root.remove(conversation)\n",
    "    if (len(authors)) <= 1 and \\\n",
    "    conversation.get('id') not in conv_2_remove:\n",
    "        conv_2_remove.append(conversation.get('id'))\n",
    "\n",
    "# print(\"Removing {} out of {} conversations\".format(init_len - len(root), init_len))\n",
    "print(\"Removing {} out of {} conversations\".format(len(conv_2_remove), init_len))"
   ]
  },
  {
   "cell_type": "markdown",
   "id": "9a3995c3",
   "metadata": {},
   "source": [
    "2.  conversations with each user having less than 6 messages"
   ]
  },
  {
   "cell_type": "code",
   "execution_count": null,
   "id": "2c577447",
   "metadata": {},
   "outputs": [],
   "source": [
    "for conversation in root:\n",
    "    if conversation.get('id') in conv_2_remove:\n",
    "        continue\n",
    "    authors = {}\n",
    "    for message in conversation:\n",
    "        author = message.find('author').text\n",
    "        if author in authors:\n",
    "            authors[author] = authors[author] + 1\n",
    "        else:\n",
    "            authors[author] = 1\n",
    "    remove = True\n",
    "    for author in authors:\n",
    "        if authors[author] > 5:\n",
    "            remove = False\n",
    "            \n",
    "#     if remove is True:\n",
    "#         root.remove(conversation)\n",
    "    if remove is True and \\\n",
    "    conversation.get('id') not in conv_2_remove:\n",
    "        conv_2_remove.append(conversation.get('id'))\n",
    "\n",
    "# print(\"Removing {} out of {} conversations\".format(init_len - len(root), init_len))\n",
    "print(\"Removing {} out of {} conversations\".format(len(conv_2_remove), init_len))"
   ]
  },
  {
   "cell_type": "markdown",
   "id": "d57f9e1b",
   "metadata": {},
   "source": [
    "3. remove any conversations with messages containing long sequences of unrecognized characters"
   ]
  },
  {
   "cell_type": "code",
   "execution_count": null,
   "id": "095e4755",
   "metadata": {},
   "outputs": [],
   "source": [
    "\n",
    "for conversation in root:\n",
    "    if conversation.get('id') in conv_2_remove:\n",
    "        continue\n",
    "    remove = False\n",
    "    for message in conversation:\n",
    "        text = message.find(\"text\").text\n",
    "        if text is None or len(text) < 20:\n",
    "            continue\n",
    "        match_str = re.findall(\"[\\W_]\", text)\n",
    "        if len(match_str) / len(text) > 0.6:\n",
    "            remove = True\n",
    "            break\n",
    "#     if remove is True:\n",
    "#         root.remove(conversation)\n",
    "    if remove is True and \\\n",
    "        conversation.get('id') not in conv_2_remove:\n",
    "            conv_2_remove.append(conversation.get('id'))\n",
    "\n",
    "print(\"Removing {} out of {} conversations\".format(len(conv_2_remove), init_len))\n",
    "# print(\"Removing {} out of {} conversations\".format(init_len - len(root), init_len))"
   ]
  },
  {
   "cell_type": "markdown",
   "id": "56fb41f2",
   "metadata": {},
   "source": [
    "We have now removed 52224 out of 66927 conversations.<br>\n",
    "Next we remove the conversations we want to remove from root itself and write a new xml."
   ]
  },
  {
   "cell_type": "code",
   "execution_count": null,
   "id": "8d10df5e",
   "metadata": {},
   "outputs": [],
   "source": [
    "for conversation in root.findall('conversation'):\n",
    "    if conversation.get('id') in conv_2_remove:\n",
    "        root.remove(conversation)\n",
    "print(\"The new root has a length of {}.\".format(len(root)))\n"
   ]
  },
  {
   "cell_type": "code",
   "execution_count": null,
   "id": "307a92b5",
   "metadata": {},
   "outputs": [],
   "source": [
    "from xml.etree.ElementTree import ElementTree\n",
    "tree = ElementTree(root)\n",
    "tree.write(open('data/training_data.xml', 'wb'))\n",
    "print(\"Filtered data written!\")"
   ]
  },
  {
   "cell_type": "markdown",
   "id": "a49703be",
   "metadata": {},
   "source": [
    "### Labeling training data"
   ]
  },
  {
   "cell_type": "markdown",
   "id": "69d3112a",
   "metadata": {},
   "source": [
    "train_data_path = \"PAN12/pan12-sexual-predator-identification-training-corpus-2012-05-01/\"\n",
    "test_data_path = \"PAN12/pan12-sexual-predator-identification-test-corpus-2012-05-21/\"\n",
    "\n",
    "training_xml = ET.parse(train_data_path + 'pan12-sexual-predator-identification-training-corpus-2012-05-01.xml')"
   ]
  },
  {
   "cell_type": "code",
   "execution_count": null,
   "id": "2c906507",
   "metadata": {},
   "outputs": [],
   "source": [
    "training_xml = ET.parse('PAN12/training_data.xml')\n",
    "root = training_xml.getroot()\n",
    "\n",
    "pred_id_file = 'PAN12/pan12-sexual-predator-identification-training-corpus-2012-05-01/'\n",
    "file = open(pred_id_file + 'pan12-sexual-predator-identification-training-corpus-predators-2012-05-01.txt', 'r')\n",
    "predators_id = file.read().splitlines()"
   ]
  },
  {
   "cell_type": "code",
   "execution_count": null,
   "id": "d0878f2f",
   "metadata": {},
   "outputs": [],
   "source": [
    "csv_labels = []\n",
    "authors = []\n",
    "for conversation in root:\n",
    "    authors.clear()\n",
    "    \n",
    "    # find all unique authors in this conversation\n",
    "    for message in conversation:\n",
    "        author = message.find('author').text\n",
    "        if author not in authors:\n",
    "            authors.append(author)\n",
    "    suspicious = False\n",
    "    for author in authors:\n",
    "        if author in predators_id:\n",
    "            suspicious = True\n",
    "            \n",
    "    if suspicious:\n",
    "        csv_labels.append([conversation.get('id'), 1])\n",
    "    else:\n",
    "        csv_labels.append([conversation.get('id'), 0])\n",
    "\n",
    "# print(csv_labels)\n",
    "with open(train_data_path + 'sci_labels.csv', 'w', newline='') as f:\n",
    "    writer = csv.writer(f)\n",
    "    writer.writerows(csv_labels)\n",
    "print(f'Done writing labels for {len(csv_labels)} conversations!')"
   ]
  },
  {
   "cell_type": "code",
   "execution_count": 14,
   "id": "8cfefc3d",
   "metadata": {},
   "outputs": [
    {
     "name": "stdout",
     "output_type": "stream",
     "text": [
      "Num of Conv: 14703\r\n",
      "Num of suspicious conv: 901\r\n",
      "Num authors: 25099\r\n",
      "Num predators: 137\n"
     ]
    }
   ],
   "source": [
    "filtered_xml = ET.parse('data/training_data.xml')\n",
    "filtered_root = filtered_xml.getroot()\n",
    "csv_dict = {}\n",
    "filtered_authors = {}\n",
    "filtered_predators = {}\n",
    "all_predators = {}\n",
    "\n",
    "filtered_num_conv = len(filtered_root)\n",
    "filtered_num_predators = 0\n",
    "filtered_num_suspicious_conv = 0\n",
    "filtered_num_authors = 0\n",
    "unfiltered_data_path= 'data/pan12-sexual-predator-identification-training-corpus-2012-05-01/'\n",
    "\n",
    "with open(unfiltered_data_path + 'sci_labels.csv', 'r') as f:\n",
    "    reader = csv.reader(f)\n",
    "    for row in reader:\n",
    "        csv_dict[row[0]] = int(row[1])\n",
    "\n",
    "assert len(csv_dict) == filtered_num_conv\n",
    "with open(unfiltered_data_path + 'pan12-sexual-predator-identification-training-corpus-predators-2012-05-01.txt', 'r') as f:\n",
    "    reader = csv.reader(f)\n",
    "    for row in reader:\n",
    "        all_predators[row[0]] = 1\n",
    "\n",
    "for conversation in filtered_root:\n",
    "    conv_id = conversation.get('id')\n",
    "    if csv_dict[conv_id] == 1:\n",
    "        filtered_num_suspicious_conv += 1\n",
    "    for message in conversation:\n",
    "        author = message.find('author').text\n",
    "        if author not in filtered_authors:\n",
    "            filtered_authors[author] = 1\n",
    "        if author in all_predators and author not in filtered_predators:\n",
    "            filtered_predators[author] = 1\n",
    "            \n",
    "filtered_num_authors = len(filtered_authors)\n",
    "filtered_num_predators = len(filtered_predators)\n",
    "\n",
    "print(\"Num of Conv: {}\\r\\nNum of suspicious conv: {}\\r\\nNum authors: {}\\r\\nNum predators: {}\".format(\\\n",
    "                                                                                                        filtered_num_conv,\\\n",
    "                                                                                                      filtered_num_suspicious_conv,\\\n",
    "                                                                                                      filtered_num_authors,\\\n",
    "                                                                                                      filtered_num_predators))"
   ]
  },
  {
   "cell_type": "markdown",
   "id": "0c110286",
   "metadata": {},
   "source": [
    "### Labeling test data"
   ]
  },
  {
   "cell_type": "code",
   "execution_count": 8,
   "id": "d84691db",
   "metadata": {},
   "outputs": [
    {
     "name": "stdout",
     "output_type": "stream",
     "text": [
      "Num of Conv: 155128\r\n",
      "Num of suspicious conv: 3737\r\n",
      "Num authors: 218702\r\n",
      "Num predators: 254\n"
     ]
    }
   ],
   "source": [
    "test_data_src = \"data/pan12-sexual-predator-identification-test-corpus-2012-05-21/\"\n",
    "test_xml = ET.parse(test_data_src + 'pan12-sexual-predator-identification-test-corpus-2012-05-17.xml')\n",
    "root = test_xml.getroot()\n",
    "\n",
    "all_predators = {}\n",
    "with open(test_data_src + 'pan12-sexual-predator-identification-groundtruth-problem1.txt', 'r') as f:\n",
    "    reader = csv.reader(f)\n",
    "    for row in reader:\n",
    "        all_predators[row[0]] = 1\n",
    "\n",
    "# metric\n",
    "test_num_conv = len(root)\n",
    "test_num_suspicious_conv = 0\n",
    "test_num_predators = len(all_predators)\n",
    "test_num_authors = 0\n",
    "\n",
    "csv_labels = []\n",
    "authors = {}\n",
    "for conversation in root:\n",
    "    suspicious = False\n",
    "    for message in conversation:\n",
    "        author = message.find('author').text\n",
    "        if author not in authors:\n",
    "            authors[author] = 1\n",
    "        if author in all_predators:\n",
    "            suspicious = True\n",
    "    if suspicious:\n",
    "        csv_labels.append([conversation.get('id'), 1])\n",
    "        test_num_suspicious_conv += 1\n",
    "    else:\n",
    "        csv_labels.append([conversation.get('id'), 0])\n",
    "\n",
    "# print(csv_labels)\n",
    "with open(test_data_src + 'sci_labels.csv', 'w', newline='') as f:\n",
    "    writer = csv.writer(f)\n",
    "    writer.writerows(csv_labels)\n",
    "    \n",
    "test_num_authors = len(authors)\n",
    "print(\"Num of Conv: {}\\r\\nNum of suspicious conv: {}\\r\\nNum authors: {}\\r\\nNum predators: {}\".format(\\\n",
    "                                                                                                        test_num_conv,\\\n",
    "                                                                                                      test_num_suspicious_conv,\\\n",
    "                                                                                                      test_num_authors,\\\n",
    "                                                                                                      test_num_predators))"
   ]
  }
 ],
 "metadata": {
  "kernelspec": {
   "display_name": "Python 3",
   "language": "python",
   "name": "python3"
  },
  "language_info": {
   "codemirror_mode": {
    "name": "ipython",
    "version": 3
   },
   "file_extension": ".py",
   "mimetype": "text/x-python",
   "name": "python",
   "nbconvert_exporter": "python",
   "pygments_lexer": "ipython3",
   "version": "3.8.8"
  }
 },
 "nbformat": 4,
 "nbformat_minor": 5
}
