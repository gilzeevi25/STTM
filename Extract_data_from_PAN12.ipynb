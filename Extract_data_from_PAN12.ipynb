{
  "nbformat": 4,
  "nbformat_minor": 0,
  "metadata": {
    "colab": {
      "name": "Extract_data_from_PAN12.ipynb",
      "provenance": [],
      "collapsed_sections": [],
      "toc_visible": true,
      "authorship_tag": "ABX9TyMBHdrVywaFhHnmnI16Asdr",
      "include_colab_link": true
    },
    "kernelspec": {
      "name": "python3",
      "display_name": "Python 3"
    },
    "language_info": {
      "name": "python"
    }
  },
  "cells": [
    {
      "cell_type": "markdown",
      "metadata": {
        "id": "view-in-github",
        "colab_type": "text"
      },
      "source": [
        "<a href=\"https://colab.research.google.com/github/gilzeevi25/STTM/blob/main/Extract_data_from_PAN12.ipynb\" target=\"_parent\"><img src=\"https://colab.research.google.com/assets/colab-badge.svg\" alt=\"Open In Colab\"/></a>"
      ]
    },
    {
      "cell_type": "markdown",
      "source": [
        "```\n",
        "Based on a solution found in Pranjalya Tiwari Github account:\n",
        "https://github.com/Pranjalya/anti-predator-chat-app/tree/f1134b23921964f817a888d3950706f4615a612b/data\n",
        "\n",
        "```\n",
        "\n",
        "\n"
      ],
      "metadata": {
        "id": "a1v9ASpaaBer"
      }
    },
    {
      "cell_type": "code",
      "execution_count": 1,
      "metadata": {
        "colab": {
          "base_uri": "https://localhost:8080/"
        },
        "id": "m9WFZxJfupM5",
        "outputId": "a6d19605-6ce1-4d63-95ff-93e279d3ba96"
      },
      "outputs": [
        {
          "output_type": "stream",
          "name": "stdout",
          "text": [
            "Mounted at /content/gdrive\n"
          ]
        }
      ],
      "source": [
        "from google.colab import drive\n",
        "drive.mount('/content/gdrive')"
      ]
    },
    {
      "cell_type": "code",
      "source": [
        "cd /content/gdrive/MyDrive/pan12 dataset"
      ],
      "metadata": {
        "colab": {
          "base_uri": "https://localhost:8080/"
        },
        "id": "6gaEpPL_usL0",
        "outputId": "f2efb8c0-d2bd-4c98-b769-b7c173d43dee"
      },
      "execution_count": 2,
      "outputs": [
        {
          "output_type": "stream",
          "name": "stdout",
          "text": [
            "/content/gdrive/MyDrive/pan12 dataset\n"
          ]
        }
      ]
    },
    {
      "cell_type": "code",
      "source": [
        "!unzip -q pan12-sexual-predator-identification-test-corpus-2012-05-21.zip -d extracted_files/\n",
        "!unzip -q pan12-sexual-predator-identification-training-corpus-2012-05-01.zip -d extracted_files/"
      ],
      "metadata": {
        "id": "xXVuUBouu-tj"
      },
      "execution_count": 6,
      "outputs": []
    },
    {
      "cell_type": "code",
      "source": [
        "!mv extracted_files/pan12-sexual-predator-identification-test-corpus-2012-05-21/ extracted_files/test_corpus\n",
        "!mv extracted_files/pan12-sexual-predator-identification-training-corpus-2012-05-01/ extracted_files/train_corpus"
      ],
      "metadata": {
        "id": "dMMMl9BOvFTE"
      },
      "execution_count": 7,
      "outputs": []
    },
    {
      "cell_type": "code",
      "source": [
        "!cat extracted_files/train_corpus/readme.txt\n"
      ],
      "metadata": {
        "colab": {
          "base_uri": "https://localhost:8080/"
        },
        "id": "WnXjpccmvQJL",
        "outputId": "725e98b6-c54f-4799-9022-2e9bfcd1f6f2"
      },
      "execution_count": 8,
      "outputs": [
        {
          "output_type": "stream",
          "name": "stdout",
          "text": [
            "========\n",
            "Overview\n",
            "========\n",
            "\n",
            "This archive contains the training corpus for the \"Sexual Predator Identification\" task of the PAN 2012 Lab, held in conjunction with the CLEF 2012 conference.\n",
            "\n",
            "Find out about all the details at http://pan.webis.de.\n",
            "\n",
            "\n",
            "\n",
            "===========================\n",
            "Training Corpus Description\n",
            "===========================\n",
            "\n",
            "Update 01 May 2012:\n",
            "\n",
            "pan12-sexual-predator-identification-training-corpus-2012-05-01.xml A new xml file containing conversations without bad username substitution.\n",
            "pan12-sexual-predator-identification-diff.txt A text file containing conversation id and line number of modified text \n",
            "pan12-sexual-predator-identification-training-corpus-predators-2012-05-01.txt The list of predators without the ones not present in the traininig set\n",
            "\n",
            "\n",
            "\n",
            "The corpus comprises:\n",
            "\n",
            "pan12-sexual-predator-identification-training-corpus.xml An xml file containing around 60000 documents (each document is a conversation)\n",
            "pan12-sexual-predator-identification-training-corpus-predators.txt A file containing a list of predators id\n",
            "\n",
            "The xml file is organized as follow:\n",
            "<?xml version=\"1.0\" encoding=\"UTF-8\"?>\n",
            "<conversations>\n",
            "  <conversation id=\"id_of_the_conversation\">\n",
            "    <message line=\"1\">\n",
            "      <author>author_1_id</author>\n",
            "      <time>02:56</time>\n",
            "      <text>Bla bla bla bla</text>\n",
            "    </message>\n",
            "    <message line=\"2\">\n",
            "      <author>author_2_id</author>\n",
            "      <time>02:56</time>\n",
            "      <text>bla bla</text>\n",
            "    </message>\n",
            "[...]\n",
            "    <message line=\"n\">\n",
            "      <author> author_1_id </author>\n",
            "      <time>07:12</time>\n",
            "      <text>bla bla bla</text>\n",
            "    </message>\n",
            "  </conversation>\n",
            "</conversations>\n",
            "\n",
            "Every conversation, identified by and unique id, contains a set of messages. Each message, identified by a line number unique in the conversation, is produced by an author, identified by the author_id. In each message there is the text produced by the user and a time indication.\n",
            "\n",
            "Please note that time, user_id and email address have been processed as follows: \n",
            "- The time is formatted as hours:minutes (might not be the real time)\n",
            "- The user_id replaces any mentioning of the user within the conversation\n",
            "- The email addresses have been replaced with a tag <email/>\n",
            "\n",
            "Despite the preprocessing performed on the documents contained in the dataset, we are not responsible for the content of the documents (e.g eventual personal informations that might be contained in the text).\n",
            "\n",
            "The training is a representative sample of the testing dataset and should be considered a training in the sense of \"practicing\" set. \n",
            "\n",
            "The .txt file contains a list of user_id who are Sexual Predator.\n",
            "\n",
            "Given the public nature of the dataset, we ask the participants not to use external or online resources for resolving this task (e.g. search engines) but to extract evidence from the provided datasets only. \n",
            "\n",
            "\n",
            "==========\n",
            "Contacts\n",
            "==========\n",
            "\n",
            "In case of problem with the corpus, you can write directly to Giacomo Inches at giacomo.inches@usi.ch\n"
          ]
        }
      ]
    },
    {
      "cell_type": "code",
      "source": [
        "!ls extracted_files/train_corpus\n"
      ],
      "metadata": {
        "colab": {
          "base_uri": "https://localhost:8080/"
        },
        "id": "GtfklRXkvfE8",
        "outputId": "ad9ebd85-84ee-47db-f0ca-e01e47a1336f"
      },
      "execution_count": 9,
      "outputs": [
        {
          "output_type": "stream",
          "name": "stdout",
          "text": [
            "pan12-sexual-predator-identification-diff.txt\n",
            "pan12-sexual-predator-identification-training-corpus-2012-05-01.xml\n",
            "pan12-sexual-predator-identification-training-corpus-predators-2012-05-01.txt\n",
            "readme.txt\n"
          ]
        }
      ]
    },
    {
      "cell_type": "code",
      "source": [
        "train_predators = []\n",
        "with open('extracted_files/train_corpus/pan12-sexual-predator-identification-training-corpus-predators-2012-05-01.txt', 'r') as f:\n",
        "    train_predators = f.readlines()\n",
        "    train_predators = [j.rstrip('\\n') for j in train_predators]\n",
        "print(\"Total number of predators in Training corpus : {}\".format(len(train_predators)))"
      ],
      "metadata": {
        "colab": {
          "base_uri": "https://localhost:8080/"
        },
        "id": "sc_FiYwwvjVD",
        "outputId": "e1aa5c2c-e444-4603-926a-16d2ef5a75ab"
      },
      "execution_count": 10,
      "outputs": [
        {
          "output_type": "stream",
          "name": "stdout",
          "text": [
            "Total number of predators in Training corpus : 142\n"
          ]
        }
      ]
    },
    {
      "cell_type": "code",
      "source": [
        "import os\n",
        "os.system('pip install xmltodict')\n",
        "import xmltodict\n",
        "import json\n",
        "import pandas as pd\n",
        "\n",
        "class ExtractText():\n",
        "    def __init__(self, filename, out_folder='./'):\n",
        "        '''\n",
        "        Extract details from XML files\n",
        "        Args : filename -> Path to the XML file\n",
        "               out_folder -> Path to output folder\n",
        "        '''\n",
        "        self.filename = filename\n",
        "        if (out_folder[-1]=='/'):\n",
        "            self.out_folder = out_folder\n",
        "        else:\n",
        "            self.out_folder = out_folder + '/'\n",
        "        \n",
        "        try:\n",
        "            os.mkdir(self.out_folder)\n",
        "        except:\n",
        "            pass\n",
        "\n",
        "        print(\"Parsing XML to Dictionary...\")\n",
        "        dictionary = self.xml_to_dictionary()\n",
        "\n",
        "        # Converting chat message with single chat to list format\n",
        "        for i in dictionary['conversations']['conversation']:\n",
        "            if (str(type(i['message'])) != \"<class 'list'>\"):\n",
        "                i['message'] = [i['message']]\n",
        "\n",
        "        print('Converting XML to JSON format...')\n",
        "        self.xml_to_json(dictionary)\n",
        "\n",
        "        print('Converting XML to CSV format...')\n",
        "        self.xml_to_csv(dictionary)\n",
        "        print(\"Files created in {} directory\".format(self.out_folder))\n",
        "\n",
        "    def xml_to_dictionary(self):\n",
        "        '''\n",
        "        Converts XML file to data dictionary\n",
        "        '''\n",
        "        with open(self.filename) as xml_file:\n",
        "            data_dict = xmltodict.parse(xml_file.read())\n",
        "        return data_dict\n",
        "\n",
        "    def xml_to_json(self, dictionary):\n",
        "        '''\n",
        "        Converts parsed dictionary to json and saves\n",
        "        '''\n",
        "        data = json.dumps(dictionary)\n",
        "        with open(self.out_folder + self.filename.split('/')[-1].rstrip('xml') + 'json', 'w') as f:\n",
        "            f.write(data)\n",
        "\n",
        "    def xml_to_csv(self, dictionary):\n",
        "        '''\n",
        "        Converts parsed dictionary to dataframe and saves in CSV format\n",
        "        '''\n",
        "        data = []\n",
        "        for conv in dictionary['conversations']['conversation']:\n",
        "            id = conv['@id']\n",
        "            for message in conv['message']:\n",
        "                d = dict()\n",
        "                d = {key: message[key] for key in message.keys()}\n",
        "                d['@id'] = id\n",
        "                data.append(d)\n",
        "        df = pd.DataFrame(data)\n",
        "        df = df [['@id', '@line', 'author', 'time', 'text']]\n",
        "        df.to_csv(self.out_folder + self.filename.split('/')[-1].rstrip('xml') + 'csv', index=False)"
      ],
      "metadata": {
        "id": "Artvb1gCvneM"
      },
      "execution_count": 11,
      "outputs": []
    },
    {
      "cell_type": "code",
      "source": [
        "ExtractText('extracted_files/train_corpus/pan12-sexual-predator-identification-training-corpus-2012-05-01.xml', 'data')\n",
        "ExtractText('extracted_files/test_corpus/pan12-sexual-predator-identification-test-corpus-2012-05-17.xml', 'data')"
      ],
      "metadata": {
        "colab": {
          "base_uri": "https://localhost:8080/"
        },
        "id": "L2Ds4HoIvrDt",
        "outputId": "d3e3ac95-5d77-4a0b-faea-89f1e53b0109"
      },
      "execution_count": 13,
      "outputs": [
        {
          "output_type": "stream",
          "name": "stdout",
          "text": [
            "Parsing XML to Dictionary...\n",
            "Converting XML to JSON format...\n",
            "Converting XML to CSV format...\n",
            "Files created in data/ directory\n",
            "Parsing XML to Dictionary...\n",
            "Converting XML to JSON format...\n",
            "Converting XML to CSV format...\n",
            "Files created in data/ directory\n"
          ]
        },
        {
          "output_type": "execute_result",
          "data": {
            "text/plain": [
              "<__main__.ExtractText at 0x7fc8dbd116d0>"
            ]
          },
          "metadata": {},
          "execution_count": 13
        }
      ]
    },
    {
      "cell_type": "code",
      "source": [
        "%pwd"
      ],
      "metadata": {
        "colab": {
          "base_uri": "https://localhost:8080/",
          "height": 35
        },
        "id": "lXICxnWEy_Xl",
        "outputId": "1fc42922-81be-482d-9520-6b07adfe35a0"
      },
      "execution_count": 15,
      "outputs": [
        {
          "output_type": "execute_result",
          "data": {
            "text/plain": [
              "'/content/gdrive/MyDrive/pan12 dataset'"
            ],
            "application/vnd.google.colaboratory.intrinsic+json": {
              "type": "string"
            }
          },
          "metadata": {},
          "execution_count": 15
        }
      ]
    },
    {
      "cell_type": "code",
      "source": [
        "import pandas as pd\n",
        "train = pd.read_csv('data/pan12-sexual-predator-identification-training-corpus-2012-05-01.csv')\n",
        "train.head()"
      ],
      "metadata": {
        "colab": {
          "base_uri": "https://localhost:8080/",
          "height": 206
        },
        "id": "wndxbZChv2if",
        "outputId": "6ffbb6db-e499-44d3-8679-662f0a761fe6"
      },
      "execution_count": 16,
      "outputs": [
        {
          "output_type": "execute_result",
          "data": {
            "text/plain": [
              "                                @id  @line                            author  \\\n",
              "0  e621da5de598c9321a1d505ea95e6a2d      1  97964e7a9e8eb9cf78f2e4d7b2ff34c7   \n",
              "1  e621da5de598c9321a1d505ea95e6a2d      2  0158d0d6781fc4d493f243d4caa49747   \n",
              "2  e621da5de598c9321a1d505ea95e6a2d      3  0158d0d6781fc4d493f243d4caa49747   \n",
              "3  e621da5de598c9321a1d505ea95e6a2d      4  97964e7a9e8eb9cf78f2e4d7b2ff34c7   \n",
              "4  e621da5de598c9321a1d505ea95e6a2d      5  97964e7a9e8eb9cf78f2e4d7b2ff34c7   \n",
              "\n",
              "    time        text  \n",
              "0  03:20       Hola.  \n",
              "1  03:20         hi.  \n",
              "2  03:20   whats up?  \n",
              "3  03:20  not a ton.  \n",
              "4  03:20        you?  "
            ],
            "text/html": [
              "\n",
              "  <div id=\"df-5fb4ec9e-4dcd-44bd-8f5d-7f13874aa584\">\n",
              "    <div class=\"colab-df-container\">\n",
              "      <div>\n",
              "<style scoped>\n",
              "    .dataframe tbody tr th:only-of-type {\n",
              "        vertical-align: middle;\n",
              "    }\n",
              "\n",
              "    .dataframe tbody tr th {\n",
              "        vertical-align: top;\n",
              "    }\n",
              "\n",
              "    .dataframe thead th {\n",
              "        text-align: right;\n",
              "    }\n",
              "</style>\n",
              "<table border=\"1\" class=\"dataframe\">\n",
              "  <thead>\n",
              "    <tr style=\"text-align: right;\">\n",
              "      <th></th>\n",
              "      <th>@id</th>\n",
              "      <th>@line</th>\n",
              "      <th>author</th>\n",
              "      <th>time</th>\n",
              "      <th>text</th>\n",
              "    </tr>\n",
              "  </thead>\n",
              "  <tbody>\n",
              "    <tr>\n",
              "      <th>0</th>\n",
              "      <td>e621da5de598c9321a1d505ea95e6a2d</td>\n",
              "      <td>1</td>\n",
              "      <td>97964e7a9e8eb9cf78f2e4d7b2ff34c7</td>\n",
              "      <td>03:20</td>\n",
              "      <td>Hola.</td>\n",
              "    </tr>\n",
              "    <tr>\n",
              "      <th>1</th>\n",
              "      <td>e621da5de598c9321a1d505ea95e6a2d</td>\n",
              "      <td>2</td>\n",
              "      <td>0158d0d6781fc4d493f243d4caa49747</td>\n",
              "      <td>03:20</td>\n",
              "      <td>hi.</td>\n",
              "    </tr>\n",
              "    <tr>\n",
              "      <th>2</th>\n",
              "      <td>e621da5de598c9321a1d505ea95e6a2d</td>\n",
              "      <td>3</td>\n",
              "      <td>0158d0d6781fc4d493f243d4caa49747</td>\n",
              "      <td>03:20</td>\n",
              "      <td>whats up?</td>\n",
              "    </tr>\n",
              "    <tr>\n",
              "      <th>3</th>\n",
              "      <td>e621da5de598c9321a1d505ea95e6a2d</td>\n",
              "      <td>4</td>\n",
              "      <td>97964e7a9e8eb9cf78f2e4d7b2ff34c7</td>\n",
              "      <td>03:20</td>\n",
              "      <td>not a ton.</td>\n",
              "    </tr>\n",
              "    <tr>\n",
              "      <th>4</th>\n",
              "      <td>e621da5de598c9321a1d505ea95e6a2d</td>\n",
              "      <td>5</td>\n",
              "      <td>97964e7a9e8eb9cf78f2e4d7b2ff34c7</td>\n",
              "      <td>03:20</td>\n",
              "      <td>you?</td>\n",
              "    </tr>\n",
              "  </tbody>\n",
              "</table>\n",
              "</div>\n",
              "      <button class=\"colab-df-convert\" onclick=\"convertToInteractive('df-5fb4ec9e-4dcd-44bd-8f5d-7f13874aa584')\"\n",
              "              title=\"Convert this dataframe to an interactive table.\"\n",
              "              style=\"display:none;\">\n",
              "        \n",
              "  <svg xmlns=\"http://www.w3.org/2000/svg\" height=\"24px\"viewBox=\"0 0 24 24\"\n",
              "       width=\"24px\">\n",
              "    <path d=\"M0 0h24v24H0V0z\" fill=\"none\"/>\n",
              "    <path d=\"M18.56 5.44l.94 2.06.94-2.06 2.06-.94-2.06-.94-.94-2.06-.94 2.06-2.06.94zm-11 1L8.5 8.5l.94-2.06 2.06-.94-2.06-.94L8.5 2.5l-.94 2.06-2.06.94zm10 10l.94 2.06.94-2.06 2.06-.94-2.06-.94-.94-2.06-.94 2.06-2.06.94z\"/><path d=\"M17.41 7.96l-1.37-1.37c-.4-.4-.92-.59-1.43-.59-.52 0-1.04.2-1.43.59L10.3 9.45l-7.72 7.72c-.78.78-.78 2.05 0 2.83L4 21.41c.39.39.9.59 1.41.59.51 0 1.02-.2 1.41-.59l7.78-7.78 2.81-2.81c.8-.78.8-2.07 0-2.86zM5.41 20L4 18.59l7.72-7.72 1.47 1.35L5.41 20z\"/>\n",
              "  </svg>\n",
              "      </button>\n",
              "      \n",
              "  <style>\n",
              "    .colab-df-container {\n",
              "      display:flex;\n",
              "      flex-wrap:wrap;\n",
              "      gap: 12px;\n",
              "    }\n",
              "\n",
              "    .colab-df-convert {\n",
              "      background-color: #E8F0FE;\n",
              "      border: none;\n",
              "      border-radius: 50%;\n",
              "      cursor: pointer;\n",
              "      display: none;\n",
              "      fill: #1967D2;\n",
              "      height: 32px;\n",
              "      padding: 0 0 0 0;\n",
              "      width: 32px;\n",
              "    }\n",
              "\n",
              "    .colab-df-convert:hover {\n",
              "      background-color: #E2EBFA;\n",
              "      box-shadow: 0px 1px 2px rgba(60, 64, 67, 0.3), 0px 1px 3px 1px rgba(60, 64, 67, 0.15);\n",
              "      fill: #174EA6;\n",
              "    }\n",
              "\n",
              "    [theme=dark] .colab-df-convert {\n",
              "      background-color: #3B4455;\n",
              "      fill: #D2E3FC;\n",
              "    }\n",
              "\n",
              "    [theme=dark] .colab-df-convert:hover {\n",
              "      background-color: #434B5C;\n",
              "      box-shadow: 0px 1px 3px 1px rgba(0, 0, 0, 0.15);\n",
              "      filter: drop-shadow(0px 1px 2px rgba(0, 0, 0, 0.3));\n",
              "      fill: #FFFFFF;\n",
              "    }\n",
              "  </style>\n",
              "\n",
              "      <script>\n",
              "        const buttonEl =\n",
              "          document.querySelector('#df-5fb4ec9e-4dcd-44bd-8f5d-7f13874aa584 button.colab-df-convert');\n",
              "        buttonEl.style.display =\n",
              "          google.colab.kernel.accessAllowed ? 'block' : 'none';\n",
              "\n",
              "        async function convertToInteractive(key) {\n",
              "          const element = document.querySelector('#df-5fb4ec9e-4dcd-44bd-8f5d-7f13874aa584');\n",
              "          const dataTable =\n",
              "            await google.colab.kernel.invokeFunction('convertToInteractive',\n",
              "                                                     [key], {});\n",
              "          if (!dataTable) return;\n",
              "\n",
              "          const docLinkHtml = 'Like what you see? Visit the ' +\n",
              "            '<a target=\"_blank\" href=https://colab.research.google.com/notebooks/data_table.ipynb>data table notebook</a>'\n",
              "            + ' to learn more about interactive tables.';\n",
              "          element.innerHTML = '';\n",
              "          dataTable['output_type'] = 'display_data';\n",
              "          await google.colab.output.renderOutput(dataTable, element);\n",
              "          const docLink = document.createElement('div');\n",
              "          docLink.innerHTML = docLinkHtml;\n",
              "          element.appendChild(docLink);\n",
              "        }\n",
              "      </script>\n",
              "    </div>\n",
              "  </div>\n",
              "  "
            ]
          },
          "metadata": {},
          "execution_count": 16
        }
      ]
    },
    {
      "cell_type": "code",
      "source": [
        "def check_predator_author(author_id):\n",
        "    '''\n",
        "    Function to return new column for whether the author is a predator or not\n",
        "    '''\n",
        "    if author_id in train_predators:\n",
        "        return 1\n",
        "    return 0\n",
        "\n",
        "train['sexual_predator'] = train['author'].apply(check_predator_author)\n"
      ],
      "metadata": {
        "id": "ARER5ghBzHuw"
      },
      "execution_count": 19,
      "outputs": []
    },
    {
      "cell_type": "code",
      "source": [
        "train['sexual_predator'].value_counts()"
      ],
      "metadata": {
        "colab": {
          "base_uri": "https://localhost:8080/"
        },
        "id": "_kS4y9bFv8Y1",
        "outputId": "ca15d766-f5ae-4557-e3c9-cd8f1e1c96b3"
      },
      "execution_count": 23,
      "outputs": [
        {
          "output_type": "execute_result",
          "data": {
            "text/plain": [
              "0    862629\n",
              "1     40978\n",
              "Name: sexual_predator, dtype: int64"
            ]
          },
          "metadata": {},
          "execution_count": 23
        }
      ]
    },
    {
      "cell_type": "code",
      "source": [
        "print(\"Total conversations : {}\".format(train['@id'].nunique()))\n"
      ],
      "metadata": {
        "colab": {
          "base_uri": "https://localhost:8080/"
        },
        "id": "hRP9HdZGzSn1",
        "outputId": "3fe220fa-b8f0-4c13-b58b-c6d4f0fa6020"
      },
      "execution_count": 22,
      "outputs": [
        {
          "output_type": "stream",
          "name": "stdout",
          "text": [
            "Total conversations : 66927\n"
          ]
        }
      ]
    },
    {
      "cell_type": "code",
      "source": [
        "from tqdm import tqdm\n",
        "\n",
        "group = train.groupby('@id')\n",
        "result = pd.DataFrame(columns=['@id', '@line', 'author', 'time', 'text', 'sexual_predator', 'predator_conversation'])\n",
        "\n",
        "for _, df in tqdm(group):\n",
        "    if (df['sexual_predator'].any()):\n",
        "        df['predator_conversation'] = 1\n",
        "    else:\n",
        "        df['predator_conversation'] = 0\n",
        "    result = pd.concat([result, df])\n",
        "\n",
        "result.info()"
      ],
      "metadata": {
        "colab": {
          "base_uri": "https://localhost:8080/"
        },
        "id": "Fk7o4qdRzfg4",
        "outputId": "99656d25-8291-4a37-b4e1-59c284bd235d"
      },
      "execution_count": 24,
      "outputs": [
        {
          "output_type": "stream",
          "name": "stderr",
          "text": [
            "100%|██████████| 66927/66927 [52:33<00:00, 21.22it/s]\n"
          ]
        },
        {
          "output_type": "stream",
          "name": "stdout",
          "text": [
            "<class 'pandas.core.frame.DataFrame'>\n",
            "Int64Index: 903607 entries, 13370 to 280938\n",
            "Data columns (total 7 columns):\n",
            " #   Column                 Non-Null Count   Dtype \n",
            "---  ------                 --------------   ----- \n",
            " 0   @id                    903607 non-null  object\n",
            " 1   @line                  903607 non-null  object\n",
            " 2   author                 903607 non-null  object\n",
            " 3   time                   903607 non-null  object\n",
            " 4   text                   900628 non-null  object\n",
            " 5   sexual_predator        903607 non-null  object\n",
            " 6   predator_conversation  903607 non-null  object\n",
            "dtypes: object(7)\n",
            "memory usage: 55.2+ MB\n"
          ]
        }
      ]
    },
    {
      "cell_type": "code",
      "source": [
        "result.to_csv('train_inclusive.csv', index=False)"
      ],
      "metadata": {
        "id": "QUq7Gj2wL-0A"
      },
      "execution_count": 46,
      "outputs": []
    },
    {
      "cell_type": "markdown",
      "source": [
        "# Deal with test"
      ],
      "metadata": {
        "id": "IK2mahAeNRUm"
      }
    },
    {
      "cell_type": "code",
      "source": [
        "test_predators_p1 = []\n",
        "with open('extracted_files/test_corpus/pan12-sexual-predator-identification-groundtruth-problem1.txt', 'r') as f:\n",
        "    test_predators_p1 = f.readlines()\n",
        "    test_predators_p1 = [j.rstrip('\\n') for j in test_predators_p1]\n",
        "print(\"Total number of predators in Test corpus : {}\".format(len(test_predators_p1)))\n",
        "test_predators_p2 = []\n",
        "with open('extracted_files/test_corpus/pan12-sexual-predator-identification-groundtruth-problem2.txt', 'r') as f:\n",
        "    test_predators_p2 = f.readlines()\n",
        "    test_predators_p2 = [j.rstrip('\\n') for j in test_predators_p2]\n",
        "print(\"Total number of Suspicious in Test corpus : {}\".format(len(test_predators_p2)))"
      ],
      "metadata": {
        "colab": {
          "base_uri": "https://localhost:8080/"
        },
        "id": "WT2GZbSSzykF",
        "outputId": "a8940120-639d-44cd-9eca-11a402538a78"
      },
      "execution_count": 50,
      "outputs": [
        {
          "output_type": "stream",
          "name": "stdout",
          "text": [
            "Total number of predators in Test corpus : 254\n",
            "Total number of Suspicious in Test corpus : 6478\n"
          ]
        }
      ]
    },
    {
      "cell_type": "code",
      "source": [
        "test = pd.read_csv('data/pan12-sexual-predator-identification-test-corpus-2012-05-17.csv')\n",
        "test.head()"
      ],
      "metadata": {
        "colab": {
          "base_uri": "https://localhost:8080/",
          "height": 319
        },
        "id": "vwFajF6XKVMj",
        "outputId": "9d565733-d028-4f53-e813-7aa4d6b24dbb"
      },
      "execution_count": 51,
      "outputs": [
        {
          "output_type": "execute_result",
          "data": {
            "text/plain": [
              "                                @id  @line                            author  \\\n",
              "0  affc2df0951b733d14ba92d19d9b7695      1  0a39f78bcb297ab0ebe8a29c28bfed89   \n",
              "1  affc2df0951b733d14ba92d19d9b7695      2  60659cfda992013e610f285c46692d28   \n",
              "2  affc2df0951b733d14ba92d19d9b7695      3  b8810fee2f4a71f849f3f7409546d1d9   \n",
              "3  affc2df0951b733d14ba92d19d9b7695      4  60659cfda992013e610f285c46692d28   \n",
              "4  affc2df0951b733d14ba92d19d9b7695      5  60659cfda992013e610f285c46692d28   \n",
              "\n",
              "    time                                               text  \n",
              "0  15:24  bugmail: [Bug 6978] New: Mark eof-terminated s...  \n",
              "1  15:32  Henri, can I ask you a Firefox build question ...  \n",
              "2  15:34  60659cfda992013e610f285c46692d28: sure, but I ...  \n",
              "3  15:35  It appears the build runs through, it creates ...  \n",
              "4  15:35  when I start it, I get my standard install of ...  "
            ],
            "text/html": [
              "\n",
              "  <div id=\"df-58b5bcc6-75be-4080-9c8f-5a6191d437cf\">\n",
              "    <div class=\"colab-df-container\">\n",
              "      <div>\n",
              "<style scoped>\n",
              "    .dataframe tbody tr th:only-of-type {\n",
              "        vertical-align: middle;\n",
              "    }\n",
              "\n",
              "    .dataframe tbody tr th {\n",
              "        vertical-align: top;\n",
              "    }\n",
              "\n",
              "    .dataframe thead th {\n",
              "        text-align: right;\n",
              "    }\n",
              "</style>\n",
              "<table border=\"1\" class=\"dataframe\">\n",
              "  <thead>\n",
              "    <tr style=\"text-align: right;\">\n",
              "      <th></th>\n",
              "      <th>@id</th>\n",
              "      <th>@line</th>\n",
              "      <th>author</th>\n",
              "      <th>time</th>\n",
              "      <th>text</th>\n",
              "    </tr>\n",
              "  </thead>\n",
              "  <tbody>\n",
              "    <tr>\n",
              "      <th>0</th>\n",
              "      <td>affc2df0951b733d14ba92d19d9b7695</td>\n",
              "      <td>1</td>\n",
              "      <td>0a39f78bcb297ab0ebe8a29c28bfed89</td>\n",
              "      <td>15:24</td>\n",
              "      <td>bugmail: [Bug 6978] New: Mark eof-terminated s...</td>\n",
              "    </tr>\n",
              "    <tr>\n",
              "      <th>1</th>\n",
              "      <td>affc2df0951b733d14ba92d19d9b7695</td>\n",
              "      <td>2</td>\n",
              "      <td>60659cfda992013e610f285c46692d28</td>\n",
              "      <td>15:32</td>\n",
              "      <td>Henri, can I ask you a Firefox build question ...</td>\n",
              "    </tr>\n",
              "    <tr>\n",
              "      <th>2</th>\n",
              "      <td>affc2df0951b733d14ba92d19d9b7695</td>\n",
              "      <td>3</td>\n",
              "      <td>b8810fee2f4a71f849f3f7409546d1d9</td>\n",
              "      <td>15:34</td>\n",
              "      <td>60659cfda992013e610f285c46692d28: sure, but I ...</td>\n",
              "    </tr>\n",
              "    <tr>\n",
              "      <th>3</th>\n",
              "      <td>affc2df0951b733d14ba92d19d9b7695</td>\n",
              "      <td>4</td>\n",
              "      <td>60659cfda992013e610f285c46692d28</td>\n",
              "      <td>15:35</td>\n",
              "      <td>It appears the build runs through, it creates ...</td>\n",
              "    </tr>\n",
              "    <tr>\n",
              "      <th>4</th>\n",
              "      <td>affc2df0951b733d14ba92d19d9b7695</td>\n",
              "      <td>5</td>\n",
              "      <td>60659cfda992013e610f285c46692d28</td>\n",
              "      <td>15:35</td>\n",
              "      <td>when I start it, I get my standard install of ...</td>\n",
              "    </tr>\n",
              "  </tbody>\n",
              "</table>\n",
              "</div>\n",
              "      <button class=\"colab-df-convert\" onclick=\"convertToInteractive('df-58b5bcc6-75be-4080-9c8f-5a6191d437cf')\"\n",
              "              title=\"Convert this dataframe to an interactive table.\"\n",
              "              style=\"display:none;\">\n",
              "        \n",
              "  <svg xmlns=\"http://www.w3.org/2000/svg\" height=\"24px\"viewBox=\"0 0 24 24\"\n",
              "       width=\"24px\">\n",
              "    <path d=\"M0 0h24v24H0V0z\" fill=\"none\"/>\n",
              "    <path d=\"M18.56 5.44l.94 2.06.94-2.06 2.06-.94-2.06-.94-.94-2.06-.94 2.06-2.06.94zm-11 1L8.5 8.5l.94-2.06 2.06-.94-2.06-.94L8.5 2.5l-.94 2.06-2.06.94zm10 10l.94 2.06.94-2.06 2.06-.94-2.06-.94-.94-2.06-.94 2.06-2.06.94z\"/><path d=\"M17.41 7.96l-1.37-1.37c-.4-.4-.92-.59-1.43-.59-.52 0-1.04.2-1.43.59L10.3 9.45l-7.72 7.72c-.78.78-.78 2.05 0 2.83L4 21.41c.39.39.9.59 1.41.59.51 0 1.02-.2 1.41-.59l7.78-7.78 2.81-2.81c.8-.78.8-2.07 0-2.86zM5.41 20L4 18.59l7.72-7.72 1.47 1.35L5.41 20z\"/>\n",
              "  </svg>\n",
              "      </button>\n",
              "      \n",
              "  <style>\n",
              "    .colab-df-container {\n",
              "      display:flex;\n",
              "      flex-wrap:wrap;\n",
              "      gap: 12px;\n",
              "    }\n",
              "\n",
              "    .colab-df-convert {\n",
              "      background-color: #E8F0FE;\n",
              "      border: none;\n",
              "      border-radius: 50%;\n",
              "      cursor: pointer;\n",
              "      display: none;\n",
              "      fill: #1967D2;\n",
              "      height: 32px;\n",
              "      padding: 0 0 0 0;\n",
              "      width: 32px;\n",
              "    }\n",
              "\n",
              "    .colab-df-convert:hover {\n",
              "      background-color: #E2EBFA;\n",
              "      box-shadow: 0px 1px 2px rgba(60, 64, 67, 0.3), 0px 1px 3px 1px rgba(60, 64, 67, 0.15);\n",
              "      fill: #174EA6;\n",
              "    }\n",
              "\n",
              "    [theme=dark] .colab-df-convert {\n",
              "      background-color: #3B4455;\n",
              "      fill: #D2E3FC;\n",
              "    }\n",
              "\n",
              "    [theme=dark] .colab-df-convert:hover {\n",
              "      background-color: #434B5C;\n",
              "      box-shadow: 0px 1px 3px 1px rgba(0, 0, 0, 0.15);\n",
              "      filter: drop-shadow(0px 1px 2px rgba(0, 0, 0, 0.3));\n",
              "      fill: #FFFFFF;\n",
              "    }\n",
              "  </style>\n",
              "\n",
              "      <script>\n",
              "        const buttonEl =\n",
              "          document.querySelector('#df-58b5bcc6-75be-4080-9c8f-5a6191d437cf button.colab-df-convert');\n",
              "        buttonEl.style.display =\n",
              "          google.colab.kernel.accessAllowed ? 'block' : 'none';\n",
              "\n",
              "        async function convertToInteractive(key) {\n",
              "          const element = document.querySelector('#df-58b5bcc6-75be-4080-9c8f-5a6191d437cf');\n",
              "          const dataTable =\n",
              "            await google.colab.kernel.invokeFunction('convertToInteractive',\n",
              "                                                     [key], {});\n",
              "          if (!dataTable) return;\n",
              "\n",
              "          const docLinkHtml = 'Like what you see? Visit the ' +\n",
              "            '<a target=\"_blank\" href=https://colab.research.google.com/notebooks/data_table.ipynb>data table notebook</a>'\n",
              "            + ' to learn more about interactive tables.';\n",
              "          element.innerHTML = '';\n",
              "          dataTable['output_type'] = 'display_data';\n",
              "          await google.colab.output.renderOutput(dataTable, element);\n",
              "          const docLink = document.createElement('div');\n",
              "          docLink.innerHTML = docLinkHtml;\n",
              "          element.appendChild(docLink);\n",
              "        }\n",
              "      </script>\n",
              "    </div>\n",
              "  </div>\n",
              "  "
            ]
          },
          "metadata": {},
          "execution_count": 51
        }
      ]
    },
    {
      "cell_type": "code",
      "source": [
        "def check_predator_author_test(author_id):\n",
        "    '''\n",
        "    Function to return new column for whether the author is a predator or not\n",
        "    '''\n",
        "    if author_id in test_predators_p1:\n",
        "        return 1\n",
        "    return 0\n",
        "def check_suspicious_conv_test(conv_id_line_id):\n",
        "    '''\n",
        "    Function to return new column for whether conversations id and lines id of those line considered suspicious (of a perverted behavior)\n",
        "    '''\n",
        "    if conv_id_line_id in test_predators_p2:\n",
        "        return 1\n",
        "    return 0\n",
        "\n",
        "test['sexual_predator'] = test['author'].apply(check_predator_author_test)\n",
        "test['suspicious'] = test.apply(lambda x: check_suspicious_conv_test(x['@id']+'\\t'+str(x['@line'])),axis = 1)"
      ],
      "metadata": {
        "id": "FBXau4cROo-D"
      },
      "execution_count": 64,
      "outputs": []
    },
    {
      "cell_type": "markdown",
      "source": [
        "## Test transformed data"
      ],
      "metadata": {
        "id": "677_ZnAGZfW9"
      }
    },
    {
      "cell_type": "code",
      "source": [
        "assert test[test['sexual_predator'] == 1].author.unique().shape[0] == 254\n",
        "assert len(test[test['suspicious']== 1]) == 6478"
      ],
      "metadata": {
        "id": "IZ_RVg_9KhTs"
      },
      "execution_count": 78,
      "outputs": []
    },
    {
      "cell_type": "code",
      "source": [
        "assert result[result['sexual_predator'] == 1].author.unique().shape[0] == 142"
      ],
      "metadata": {
        "id": "c-bmpuWuYalw"
      },
      "execution_count": 79,
      "outputs": []
    },
    {
      "cell_type": "code",
      "source": [
        "test.to_csv('test_inclusive.csv', index=False)"
      ],
      "metadata": {
        "id": "QP_m6ja3YcFo"
      },
      "execution_count": 82,
      "outputs": []
    },
    {
      "cell_type": "code",
      "source": [
        "pd.read_csv('test_inclusive.csv')"
      ],
      "metadata": {
        "colab": {
          "base_uri": "https://localhost:8080/",
          "height": 539
        },
        "id": "fdvLcKChbAmo",
        "outputId": "2079aee8-ce19-4b87-bd1f-4d2315c50310"
      },
      "execution_count": 83,
      "outputs": [
        {
          "output_type": "execute_result",
          "data": {
            "text/plain": [
              "                                      @id  @line  \\\n",
              "0        affc2df0951b733d14ba92d19d9b7695      1   \n",
              "1        affc2df0951b733d14ba92d19d9b7695      2   \n",
              "2        affc2df0951b733d14ba92d19d9b7695      3   \n",
              "3        affc2df0951b733d14ba92d19d9b7695      4   \n",
              "4        affc2df0951b733d14ba92d19d9b7695      5   \n",
              "...                                   ...    ...   \n",
              "2058776  8deed7c66340728e6863f3d931d4cca7     53   \n",
              "2058777  8deed7c66340728e6863f3d931d4cca7     54   \n",
              "2058778  8deed7c66340728e6863f3d931d4cca7     55   \n",
              "2058779  8deed7c66340728e6863f3d931d4cca7     56   \n",
              "2058780  8deed7c66340728e6863f3d931d4cca7     57   \n",
              "\n",
              "                                   author   time  \\\n",
              "0        0a39f78bcb297ab0ebe8a29c28bfed89  15:24   \n",
              "1        60659cfda992013e610f285c46692d28  15:32   \n",
              "2        b8810fee2f4a71f849f3f7409546d1d9  15:34   \n",
              "3        60659cfda992013e610f285c46692d28  15:35   \n",
              "4        60659cfda992013e610f285c46692d28  15:35   \n",
              "...                                   ...    ...   \n",
              "2058776  105ca6d0fd6c2c3e136980d3548f16ab  02:32   \n",
              "2058777  48a4fba2c4916bbc8aae694a3877dca3  02:33   \n",
              "2058778  48a4fba2c4916bbc8aae694a3877dca3  02:33   \n",
              "2058779  e1e3d026bb7ee9ee264316da10378aeb  02:35   \n",
              "2058780  542ebcbcf6ee466a1780913e2c800716  02:42   \n",
              "\n",
              "                                                      text  sexual_predator  \\\n",
              "0        bugmail: [Bug 6978] New: Mark eof-terminated s...                0   \n",
              "1        Henri, can I ask you a Firefox build question ...                0   \n",
              "2        60659cfda992013e610f285c46692d28: sure, but I ...                0   \n",
              "3        It appears the build runs through, it creates ...                0   \n",
              "4        when I start it, I get my standard install of ...                0   \n",
              "...                                                    ...              ...   \n",
              "2058776           Come the revolution, I'll worry about it                0   \n",
              "2058777                                        no pasaran!                0   \n",
              "2058778                                                 :)                0   \n",
              "2058779                                   25mhz is slow :(                0   \n",
              "2058780  <a href=\"http://www.microsoft.com/windowsserve...                0   \n",
              "\n",
              "         suspicious  \n",
              "0                 0  \n",
              "1                 0  \n",
              "2                 0  \n",
              "3                 0  \n",
              "4                 0  \n",
              "...             ...  \n",
              "2058776           0  \n",
              "2058777           0  \n",
              "2058778           0  \n",
              "2058779           0  \n",
              "2058780           0  \n",
              "\n",
              "[2058781 rows x 7 columns]"
            ],
            "text/html": [
              "\n",
              "  <div id=\"df-c9dacd81-8c32-4780-b3ba-0fa0613fe8dc\">\n",
              "    <div class=\"colab-df-container\">\n",
              "      <div>\n",
              "<style scoped>\n",
              "    .dataframe tbody tr th:only-of-type {\n",
              "        vertical-align: middle;\n",
              "    }\n",
              "\n",
              "    .dataframe tbody tr th {\n",
              "        vertical-align: top;\n",
              "    }\n",
              "\n",
              "    .dataframe thead th {\n",
              "        text-align: right;\n",
              "    }\n",
              "</style>\n",
              "<table border=\"1\" class=\"dataframe\">\n",
              "  <thead>\n",
              "    <tr style=\"text-align: right;\">\n",
              "      <th></th>\n",
              "      <th>@id</th>\n",
              "      <th>@line</th>\n",
              "      <th>author</th>\n",
              "      <th>time</th>\n",
              "      <th>text</th>\n",
              "      <th>sexual_predator</th>\n",
              "      <th>suspicious</th>\n",
              "    </tr>\n",
              "  </thead>\n",
              "  <tbody>\n",
              "    <tr>\n",
              "      <th>0</th>\n",
              "      <td>affc2df0951b733d14ba92d19d9b7695</td>\n",
              "      <td>1</td>\n",
              "      <td>0a39f78bcb297ab0ebe8a29c28bfed89</td>\n",
              "      <td>15:24</td>\n",
              "      <td>bugmail: [Bug 6978] New: Mark eof-terminated s...</td>\n",
              "      <td>0</td>\n",
              "      <td>0</td>\n",
              "    </tr>\n",
              "    <tr>\n",
              "      <th>1</th>\n",
              "      <td>affc2df0951b733d14ba92d19d9b7695</td>\n",
              "      <td>2</td>\n",
              "      <td>60659cfda992013e610f285c46692d28</td>\n",
              "      <td>15:32</td>\n",
              "      <td>Henri, can I ask you a Firefox build question ...</td>\n",
              "      <td>0</td>\n",
              "      <td>0</td>\n",
              "    </tr>\n",
              "    <tr>\n",
              "      <th>2</th>\n",
              "      <td>affc2df0951b733d14ba92d19d9b7695</td>\n",
              "      <td>3</td>\n",
              "      <td>b8810fee2f4a71f849f3f7409546d1d9</td>\n",
              "      <td>15:34</td>\n",
              "      <td>60659cfda992013e610f285c46692d28: sure, but I ...</td>\n",
              "      <td>0</td>\n",
              "      <td>0</td>\n",
              "    </tr>\n",
              "    <tr>\n",
              "      <th>3</th>\n",
              "      <td>affc2df0951b733d14ba92d19d9b7695</td>\n",
              "      <td>4</td>\n",
              "      <td>60659cfda992013e610f285c46692d28</td>\n",
              "      <td>15:35</td>\n",
              "      <td>It appears the build runs through, it creates ...</td>\n",
              "      <td>0</td>\n",
              "      <td>0</td>\n",
              "    </tr>\n",
              "    <tr>\n",
              "      <th>4</th>\n",
              "      <td>affc2df0951b733d14ba92d19d9b7695</td>\n",
              "      <td>5</td>\n",
              "      <td>60659cfda992013e610f285c46692d28</td>\n",
              "      <td>15:35</td>\n",
              "      <td>when I start it, I get my standard install of ...</td>\n",
              "      <td>0</td>\n",
              "      <td>0</td>\n",
              "    </tr>\n",
              "    <tr>\n",
              "      <th>...</th>\n",
              "      <td>...</td>\n",
              "      <td>...</td>\n",
              "      <td>...</td>\n",
              "      <td>...</td>\n",
              "      <td>...</td>\n",
              "      <td>...</td>\n",
              "      <td>...</td>\n",
              "    </tr>\n",
              "    <tr>\n",
              "      <th>2058776</th>\n",
              "      <td>8deed7c66340728e6863f3d931d4cca7</td>\n",
              "      <td>53</td>\n",
              "      <td>105ca6d0fd6c2c3e136980d3548f16ab</td>\n",
              "      <td>02:32</td>\n",
              "      <td>Come the revolution, I'll worry about it</td>\n",
              "      <td>0</td>\n",
              "      <td>0</td>\n",
              "    </tr>\n",
              "    <tr>\n",
              "      <th>2058777</th>\n",
              "      <td>8deed7c66340728e6863f3d931d4cca7</td>\n",
              "      <td>54</td>\n",
              "      <td>48a4fba2c4916bbc8aae694a3877dca3</td>\n",
              "      <td>02:33</td>\n",
              "      <td>no pasaran!</td>\n",
              "      <td>0</td>\n",
              "      <td>0</td>\n",
              "    </tr>\n",
              "    <tr>\n",
              "      <th>2058778</th>\n",
              "      <td>8deed7c66340728e6863f3d931d4cca7</td>\n",
              "      <td>55</td>\n",
              "      <td>48a4fba2c4916bbc8aae694a3877dca3</td>\n",
              "      <td>02:33</td>\n",
              "      <td>:)</td>\n",
              "      <td>0</td>\n",
              "      <td>0</td>\n",
              "    </tr>\n",
              "    <tr>\n",
              "      <th>2058779</th>\n",
              "      <td>8deed7c66340728e6863f3d931d4cca7</td>\n",
              "      <td>56</td>\n",
              "      <td>e1e3d026bb7ee9ee264316da10378aeb</td>\n",
              "      <td>02:35</td>\n",
              "      <td>25mhz is slow :(</td>\n",
              "      <td>0</td>\n",
              "      <td>0</td>\n",
              "    </tr>\n",
              "    <tr>\n",
              "      <th>2058780</th>\n",
              "      <td>8deed7c66340728e6863f3d931d4cca7</td>\n",
              "      <td>57</td>\n",
              "      <td>542ebcbcf6ee466a1780913e2c800716</td>\n",
              "      <td>02:42</td>\n",
              "      <td>&lt;a href=\"http://www.microsoft.com/windowsserve...</td>\n",
              "      <td>0</td>\n",
              "      <td>0</td>\n",
              "    </tr>\n",
              "  </tbody>\n",
              "</table>\n",
              "<p>2058781 rows × 7 columns</p>\n",
              "</div>\n",
              "      <button class=\"colab-df-convert\" onclick=\"convertToInteractive('df-c9dacd81-8c32-4780-b3ba-0fa0613fe8dc')\"\n",
              "              title=\"Convert this dataframe to an interactive table.\"\n",
              "              style=\"display:none;\">\n",
              "        \n",
              "  <svg xmlns=\"http://www.w3.org/2000/svg\" height=\"24px\"viewBox=\"0 0 24 24\"\n",
              "       width=\"24px\">\n",
              "    <path d=\"M0 0h24v24H0V0z\" fill=\"none\"/>\n",
              "    <path d=\"M18.56 5.44l.94 2.06.94-2.06 2.06-.94-2.06-.94-.94-2.06-.94 2.06-2.06.94zm-11 1L8.5 8.5l.94-2.06 2.06-.94-2.06-.94L8.5 2.5l-.94 2.06-2.06.94zm10 10l.94 2.06.94-2.06 2.06-.94-2.06-.94-.94-2.06-.94 2.06-2.06.94z\"/><path d=\"M17.41 7.96l-1.37-1.37c-.4-.4-.92-.59-1.43-.59-.52 0-1.04.2-1.43.59L10.3 9.45l-7.72 7.72c-.78.78-.78 2.05 0 2.83L4 21.41c.39.39.9.59 1.41.59.51 0 1.02-.2 1.41-.59l7.78-7.78 2.81-2.81c.8-.78.8-2.07 0-2.86zM5.41 20L4 18.59l7.72-7.72 1.47 1.35L5.41 20z\"/>\n",
              "  </svg>\n",
              "      </button>\n",
              "      \n",
              "  <style>\n",
              "    .colab-df-container {\n",
              "      display:flex;\n",
              "      flex-wrap:wrap;\n",
              "      gap: 12px;\n",
              "    }\n",
              "\n",
              "    .colab-df-convert {\n",
              "      background-color: #E8F0FE;\n",
              "      border: none;\n",
              "      border-radius: 50%;\n",
              "      cursor: pointer;\n",
              "      display: none;\n",
              "      fill: #1967D2;\n",
              "      height: 32px;\n",
              "      padding: 0 0 0 0;\n",
              "      width: 32px;\n",
              "    }\n",
              "\n",
              "    .colab-df-convert:hover {\n",
              "      background-color: #E2EBFA;\n",
              "      box-shadow: 0px 1px 2px rgba(60, 64, 67, 0.3), 0px 1px 3px 1px rgba(60, 64, 67, 0.15);\n",
              "      fill: #174EA6;\n",
              "    }\n",
              "\n",
              "    [theme=dark] .colab-df-convert {\n",
              "      background-color: #3B4455;\n",
              "      fill: #D2E3FC;\n",
              "    }\n",
              "\n",
              "    [theme=dark] .colab-df-convert:hover {\n",
              "      background-color: #434B5C;\n",
              "      box-shadow: 0px 1px 3px 1px rgba(0, 0, 0, 0.15);\n",
              "      filter: drop-shadow(0px 1px 2px rgba(0, 0, 0, 0.3));\n",
              "      fill: #FFFFFF;\n",
              "    }\n",
              "  </style>\n",
              "\n",
              "      <script>\n",
              "        const buttonEl =\n",
              "          document.querySelector('#df-c9dacd81-8c32-4780-b3ba-0fa0613fe8dc button.colab-df-convert');\n",
              "        buttonEl.style.display =\n",
              "          google.colab.kernel.accessAllowed ? 'block' : 'none';\n",
              "\n",
              "        async function convertToInteractive(key) {\n",
              "          const element = document.querySelector('#df-c9dacd81-8c32-4780-b3ba-0fa0613fe8dc');\n",
              "          const dataTable =\n",
              "            await google.colab.kernel.invokeFunction('convertToInteractive',\n",
              "                                                     [key], {});\n",
              "          if (!dataTable) return;\n",
              "\n",
              "          const docLinkHtml = 'Like what you see? Visit the ' +\n",
              "            '<a target=\"_blank\" href=https://colab.research.google.com/notebooks/data_table.ipynb>data table notebook</a>'\n",
              "            + ' to learn more about interactive tables.';\n",
              "          element.innerHTML = '';\n",
              "          dataTable['output_type'] = 'display_data';\n",
              "          await google.colab.output.renderOutput(dataTable, element);\n",
              "          const docLink = document.createElement('div');\n",
              "          docLink.innerHTML = docLinkHtml;\n",
              "          element.appendChild(docLink);\n",
              "        }\n",
              "      </script>\n",
              "    </div>\n",
              "  </div>\n",
              "  "
            ]
          },
          "metadata": {},
          "execution_count": 83
        }
      ]
    }
  ]
}